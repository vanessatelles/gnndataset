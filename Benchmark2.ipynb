{
  "nbformat": 4,
  "nbformat_minor": 2,
  "metadata": {
    "accelerator": "GPU",
    "colab": {
      "name": "Benchmark2.ipynb",
      "provenance": [],
      "collapsed_sections": [
        "-D8_FBaRxcsS",
        "w7JS7m5zHeMA",
        "UbRtwYHN_RDS",
        "sVWWrAz1ja9f",
        "Qo3VnXRe87__",
        "0mEFUb8P2JON",
        "n1MO6iYhgsFw",
        "MpmPg1H2YedJ",
        "OMvGWxzkdxab",
        "-RXCeJ_ZamWr",
        "v-eEe1UAbNrA",
        "h7IQnBTmAr7i",
        "sbmXUk_IHg_5",
        "gM1oNmC4j_0G",
        "s8KCCLnZIjpR",
        "xLjommQOhBQ-",
        "X80fUIVu6rir",
        "Kk09RA4fr-EP",
        "dPsKgvc_Uxob",
        "8lkao2NIiSPs",
        "aaCtZYHs0Kt3",
        "4Qgum773o1ao",
        "E2zrlmNPjxNV",
        "cil-ISV4v4nm",
        "j_1nosnnDFfq",
        "QT_329YXwLas",
        "NmKm7UiSyTPI",
        "j6bVr6xbAU-V",
        "fUdRJMcRG1ia",
        "K9_25I-0qfm0",
        "gt16IL7is2Mi",
        "0JDv3_JteXra",
        "3oPue1RknAKm",
        "SNayZdt1EZFK",
        "Ngp12IjEeSWM"
      ]
    },
    "kernelspec": {
      "display_name": "Python 3",
      "name": "python3"
    }
  },
  "cells": [
    {
      "cell_type": "markdown",
      "source": [
        "# Github"
      ],
      "metadata": {
        "id": "vTih4pK5p9KG"
      }
    },
    {
      "cell_type": "code",
      "execution_count": null,
      "source": [
        "!git clone https://github.com/vanessatelles/pytorch_geometric"
      ],
      "outputs": [
        {
          "output_type": "stream",
          "name": "stdout",
          "text": [
            "Cloning into 'pytorch_geometric'...\n",
            "remote: Enumerating objects: 25762, done.\u001b[K\n",
            "remote: Total 25762 (delta 0), reused 0 (delta 0), pack-reused 25762\u001b[K\n",
            "Receiving objects: 100% (25762/25762), 3.76 MiB | 7.83 MiB/s, done.\n",
            "Resolving deltas: 100% (19155/19155), done.\n"
          ]
        }
      ],
      "metadata": {
        "colab": {
          "base_uri": "https://localhost:8080/"
        },
        "id": "hz0Nn0oTCLNR",
        "outputId": "dc5ebc0e-95d5-40f1-804c-c60ee0ee888e"
      }
    },
    {
      "cell_type": "markdown",
      "source": [
        "# Install\n"
      ],
      "metadata": {
        "id": "kSCQYE2h8b-I"
      }
    },
    {
      "cell_type": "markdown",
      "source": [
        "Install torch and then install pytorch again."
      ],
      "metadata": {
        "id": "Rw2kX2ko8iDw"
      }
    },
    {
      "cell_type": "code",
      "execution_count": null,
      "source": [
        "!pip install -q torch-scatter -f https://pytorch-geometric.com/whl/torch-1.9.0+cu102.html\r\n",
        "!pip install -q torch-sparse -f https://pytorch-geometric.com/whl/torch-1.9.0+cu102.html\r\n",
        "!pip install -q torch-geometric"
      ],
      "outputs": [
        {
          "output_type": "stream",
          "name": "stdout",
          "text": [
            "\u001b[K     |████████████████████████████████| 2.6 MB 6.9 MB/s \n",
            "\u001b[K     |████████████████████████████████| 1.4 MB 7.3 MB/s \n",
            "\u001b[K     |████████████████████████████████| 222 kB 9.3 MB/s \n",
            "\u001b[K     |████████████████████████████████| 376 kB 16.7 MB/s \n",
            "\u001b[K     |████████████████████████████████| 45 kB 4.1 MB/s \n",
            "\u001b[?25h  Building wheel for torch-geometric (setup.py) ... \u001b[?25l\u001b[?25hdone\n"
          ]
        }
      ],
      "metadata": {
        "colab": {
          "base_uri": "https://localhost:8080/"
        },
        "id": "_uwliYheRwoq",
        "outputId": "90a1fe83-e64e-469e-924a-8bded77d902f"
      }
    },
    {
      "cell_type": "markdown",
      "source": [
        "# Replace\n"
      ],
      "metadata": {
        "id": "ul6y4yYAqb8J"
      }
    },
    {
      "cell_type": "code",
      "execution_count": null,
      "source": [
        "'''\r\n",
        "Substituir :\r\n",
        "from citation import get_planetoid_dataset, random_planetoid_splits, run\r\n",
        "\r\n",
        "Por: \r\n",
        "from train_eval import random_planetoid_splits, run\r\n",
        "from datasets import get_planetoid_dataset\r\n",
        "\r\n",
        "'''"
      ],
      "outputs": [
        {
          "output_type": "execute_result",
          "data": {
            "application/vnd.google.colaboratory.intrinsic+json": {
              "type": "string"
            },
            "text/plain": [
              "'\\nSubstituir :\\nfrom citation import get_planetoid_dataset, random_planetoid_splits, run\\n\\nPor: \\nfrom train_eval import random_planetoid_splits, run\\nfrom datasets import get_planetoid_dataset\\n\\n'"
            ]
          },
          "metadata": {
            "tags": []
          },
          "execution_count": 15
        }
      ],
      "metadata": {
        "colab": {
          "base_uri": "https://localhost:8080/"
        },
        "id": "6SEmt9QLE_m8",
        "outputId": "83ec75fd-d150-49f9-c75c-11135de31b8e"
      }
    },
    {
      "cell_type": "markdown",
      "source": [
        "# GCN"
      ],
      "metadata": {
        "id": "GSR7lB9z6l8L"
      }
    },
    {
      "cell_type": "markdown",
      "source": [
        "## Testes função ativação ReLU\n"
      ],
      "metadata": {
        "id": "-D8_FBaRxcsS"
      }
    },
    {
      "cell_type": "code",
      "execution_count": null,
      "source": [
        "!cd pytorch_geometric/benchmark/citation && python gcn.py --dataset=Cora"
      ],
      "outputs": [
        {
          "output_type": "stream",
          "name": "stdout",
          "text": [
            "Using exist file ind.cora.x\n",
            "Using exist file ind.cora.tx\n",
            "Downloading https://github.com/kimiyoung/planetoid/raw/master/data/ind.cora.allx\n",
            "Downloading https://github.com/kimiyoung/planetoid/raw/master/data/ind.cora.y\n",
            "Downloading https://github.com/kimiyoung/planetoid/raw/master/data/ind.cora.ty\n",
            "Downloading https://github.com/kimiyoung/planetoid/raw/master/data/ind.cora.ally\n",
            "Downloading https://github.com/kimiyoung/planetoid/raw/master/data/ind.cora.graph\n",
            "Downloading https://github.com/kimiyoung/planetoid/raw/master/data/ind.cora.test.index\n",
            "Processing...\n",
            "Done!\n",
            "Val Loss: 0.8815, Test Accuracy: 0.814 ± 0.006, Duration: 1.161, Train Loss: 0.3178\n"
          ]
        }
      ],
      "metadata": {
        "colab": {
          "base_uri": "https://localhost:8080/"
        },
        "id": "wpfiBOpFxcsT",
        "outputId": "f5f23583-8462-464b-ab44-a02ac1d5e368"
      }
    },
    {
      "cell_type": "code",
      "execution_count": null,
      "source": [
        "!cd pytorch_geometric/benchmark/citation && python gcn.py --dataset=CiteSeer"
      ],
      "outputs": [
        {
          "output_type": "stream",
          "name": "stdout",
          "text": [
            "Val Loss: 1.0977, Test Accuracy: 0.710 ± 0.009, Duration: 1.345, Train Loss: 0.4042\n"
          ]
        }
      ],
      "metadata": {
        "colab": {
          "base_uri": "https://localhost:8080/"
        },
        "id": "b1_1eSrsxcsT",
        "outputId": "bdc384f9-54b4-4480-c4dd-793f5bbfb021"
      }
    },
    {
      "cell_type": "code",
      "execution_count": null,
      "source": [
        "!cd pytorch_geometric/benchmark/citation && python gcn.py --dataset=PubMed"
      ],
      "outputs": [
        {
          "output_type": "stream",
          "name": "stdout",
          "text": [
            "Val Loss: 0.5938, Test Accuracy: 0.788 ± 0.007, Duration: 0.676, Train Loss: 0.1990\n"
          ]
        }
      ],
      "metadata": {
        "colab": {
          "base_uri": "https://localhost:8080/"
        },
        "id": "JjCx8QRXxcsT",
        "outputId": "ba8ae2f6-0151-45f6-d3c1-3dc10ed0b9cb"
      }
    },
    {
      "cell_type": "markdown",
      "source": [
        "## Testes função de ativação Elu"
      ],
      "metadata": {
        "id": "w7JS7m5zHeMA"
      }
    },
    {
      "cell_type": "code",
      "execution_count": null,
      "source": [
        "!cd pytorch_geometric/benchmark/citation && python gcn.py --dataset=Cora"
      ],
      "outputs": [
        {
          "output_type": "stream",
          "name": "stdout",
          "text": [
            "Downloading https://github.com/kimiyoung/planetoid/raw/master/data/ind.cora.x\n",
            "Downloading https://github.com/kimiyoung/planetoid/raw/master/data/ind.cora.tx\n",
            "Downloading https://github.com/kimiyoung/planetoid/raw/master/data/ind.cora.allx\n",
            "Downloading https://github.com/kimiyoung/planetoid/raw/master/data/ind.cora.y\n",
            "Downloading https://github.com/kimiyoung/planetoid/raw/master/data/ind.cora.ty\n",
            "Downloading https://github.com/kimiyoung/planetoid/raw/master/data/ind.cora.ally\n",
            "Downloading https://github.com/kimiyoung/planetoid/raw/master/data/ind.cora.graph\n",
            "Downloading https://github.com/kimiyoung/planetoid/raw/master/data/ind.cora.test.index\n",
            "Processing...\n",
            "Done!\n",
            "Val Loss: 0.8396, Test Accuracy: 0.815 ± 0.006, Duration: 0.829, Train Loss: 0.2787\n"
          ]
        }
      ],
      "metadata": {
        "colab": {
          "base_uri": "https://localhost:8080/"
        },
        "id": "3ww2QIWIHuO5",
        "outputId": "4ae99434-dd94-45f0-9447-253296acdf47"
      }
    },
    {
      "cell_type": "code",
      "execution_count": null,
      "source": [
        "!cd pytorch_geometric/benchmark/citation && python gcn.py --dataset=CiteSeer"
      ],
      "outputs": [
        {
          "output_type": "stream",
          "name": "stdout",
          "text": [
            "Downloading https://github.com/kimiyoung/planetoid/raw/master/data/ind.citeseer.x\n",
            "Downloading https://github.com/kimiyoung/planetoid/raw/master/data/ind.citeseer.tx\n",
            "Downloading https://github.com/kimiyoung/planetoid/raw/master/data/ind.citeseer.allx\n",
            "Downloading https://github.com/kimiyoung/planetoid/raw/master/data/ind.citeseer.y\n",
            "Downloading https://github.com/kimiyoung/planetoid/raw/master/data/ind.citeseer.ty\n",
            "Downloading https://github.com/kimiyoung/planetoid/raw/master/data/ind.citeseer.ally\n",
            "Downloading https://github.com/kimiyoung/planetoid/raw/master/data/ind.citeseer.graph\n",
            "Downloading https://github.com/kimiyoung/planetoid/raw/master/data/ind.citeseer.test.index\n",
            "Processing...\n",
            "Done!\n",
            "Val Loss: 1.0549, Test Accuracy: 0.717 ± 0.005, Duration: 0.887, Train Loss: 0.3442\n"
          ]
        }
      ],
      "metadata": {
        "colab": {
          "base_uri": "https://localhost:8080/"
        },
        "id": "PmkouwzLMH-W",
        "outputId": "f43cf41f-25ff-480c-97ed-beb184f5f8cb"
      }
    },
    {
      "cell_type": "code",
      "execution_count": null,
      "source": [
        "!cd pytorch_geometric/benchmark/citation && python gcn.py --dataset=PubMed"
      ],
      "outputs": [
        {
          "output_type": "stream",
          "name": "stdout",
          "text": [
            "Downloading https://github.com/kimiyoung/planetoid/raw/master/data/ind.pubmed.x\n",
            "Downloading https://github.com/kimiyoung/planetoid/raw/master/data/ind.pubmed.tx\n",
            "Downloading https://github.com/kimiyoung/planetoid/raw/master/data/ind.pubmed.allx\n",
            "Downloading https://github.com/kimiyoung/planetoid/raw/master/data/ind.pubmed.y\n",
            "Downloading https://github.com/kimiyoung/planetoid/raw/master/data/ind.pubmed.ty\n",
            "Downloading https://github.com/kimiyoung/planetoid/raw/master/data/ind.pubmed.ally\n",
            "Downloading https://github.com/kimiyoung/planetoid/raw/master/data/ind.pubmed.graph\n",
            "Downloading https://github.com/kimiyoung/planetoid/raw/master/data/ind.pubmed.test.index\n",
            "Processing...\n",
            "Done!\n",
            "Val Loss: 0.5661, Test Accuracy: 0.795 ± 0.003, Duration: 0.739, Train Loss: 0.1568\n"
          ]
        }
      ],
      "metadata": {
        "colab": {
          "base_uri": "https://localhost:8080/"
        },
        "id": "laaufr6eN4aW",
        "outputId": "40d69e9d-3992-43d2-cf9e-84a54a71197f"
      }
    },
    {
      "cell_type": "markdown",
      "source": [
        "## Teste Função de ativação softmax"
      ],
      "metadata": {
        "id": "1D-_JEgVQ3IH"
      }
    },
    {
      "cell_type": "code",
      "execution_count": null,
      "source": [
        "!cd pytorch_geometric/benchmark/citation && python gcn.py --dataset=Cora"
      ],
      "outputs": [
        {
          "output_type": "stream",
          "name": "stdout",
          "text": [
            "Val Loss: 1.8276, Test Accuracy: 0.379 ± 0.107, Duration: 0.563, Train Loss: 1.8098\n"
          ]
        }
      ],
      "metadata": {
        "colab": {
          "base_uri": "https://localhost:8080/"
        },
        "id": "B5TRZRjjQ5cC",
        "outputId": "99a18bad-868e-4db6-9071-6d3cdf5c5bff"
      }
    },
    {
      "cell_type": "code",
      "execution_count": null,
      "source": [
        "!cd pytorch_geometric/benchmark/citation && python gcn.py --dataset=CiteSeer"
      ],
      "outputs": [
        {
          "output_type": "stream",
          "name": "stdout",
          "text": [
            "Val Loss: 1.7370, Test Accuracy: 0.261 ± 0.086, Duration: 0.572, Train Loss: 1.7005\n"
          ]
        }
      ],
      "metadata": {
        "colab": {
          "base_uri": "https://localhost:8080/"
        },
        "id": "NynPa8CIX0jM",
        "outputId": "3d154d05-be09-4706-9969-ee830f5a4aea"
      }
    },
    {
      "cell_type": "code",
      "execution_count": null,
      "source": [
        "!cd pytorch_geometric/benchmark/citation && python gcn.py --dataset=PubMed"
      ],
      "outputs": [
        {
          "output_type": "stream",
          "name": "stdout",
          "text": [
            "Val Loss: 0.9904, Test Accuracy: 0.628 ± 0.091, Duration: 0.596, Train Loss: 0.9528\n"
          ]
        }
      ],
      "metadata": {
        "colab": {
          "base_uri": "https://localhost:8080/"
        },
        "id": "ptHeA7Cou1fz",
        "outputId": "834810b2-d8b0-4a58-9616-c9aa7d265934"
      }
    },
    {
      "cell_type": "markdown",
      "source": [
        "## Teste com 2000 epochs"
      ],
      "metadata": {
        "id": "UbRtwYHN_RDS"
      }
    },
    {
      "cell_type": "code",
      "execution_count": null,
      "source": [
        "!cd pytorch_geometric/benchmark/citation && python gcn.py --dataset=Cora --epochs=2000"
      ],
      "outputs": [
        {
          "output_type": "stream",
          "name": "stdout",
          "text": [
            "Downloading https://github.com/kimiyoung/planetoid/raw/master/data/ind.cora.x\n",
            "Downloading https://github.com/kimiyoung/planetoid/raw/master/data/ind.cora.tx\n",
            "Downloading https://github.com/kimiyoung/planetoid/raw/master/data/ind.cora.allx\n",
            "Downloading https://github.com/kimiyoung/planetoid/raw/master/data/ind.cora.y\n",
            "Downloading https://github.com/kimiyoung/planetoid/raw/master/data/ind.cora.ty\n",
            "Downloading https://github.com/kimiyoung/planetoid/raw/master/data/ind.cora.ally\n",
            "Downloading https://github.com/kimiyoung/planetoid/raw/master/data/ind.cora.graph\n",
            "Downloading https://github.com/kimiyoung/planetoid/raw/master/data/ind.cora.test.index\n",
            "Processing...\n",
            "Done!\n",
            "Val Loss: 0.7003, Test Accuracy: 0.815 ± 0.004, Duration: 7.356, Train Loss: 0.1166\n"
          ]
        }
      ],
      "metadata": {
        "colab": {
          "base_uri": "https://localhost:8080/"
        },
        "id": "QSLmj1y8_V-R",
        "outputId": "05127cec-90b1-44d4-b26c-655a8b201ce1"
      }
    },
    {
      "cell_type": "code",
      "execution_count": null,
      "source": [
        "!cd pytorch_geometric/benchmark/citation && python gcn.py --dataset=CiteSeer --epochs=2000"
      ],
      "outputs": [
        {
          "output_type": "stream",
          "name": "stdout",
          "text": [
            "Downloading https://github.com/kimiyoung/planetoid/raw/master/data/ind.citeseer.x\n",
            "Downloading https://github.com/kimiyoung/planetoid/raw/master/data/ind.citeseer.tx\n",
            "Downloading https://github.com/kimiyoung/planetoid/raw/master/data/ind.citeseer.allx\n",
            "Downloading https://github.com/kimiyoung/planetoid/raw/master/data/ind.citeseer.y\n",
            "Downloading https://github.com/kimiyoung/planetoid/raw/master/data/ind.citeseer.ty\n",
            "Downloading https://github.com/kimiyoung/planetoid/raw/master/data/ind.citeseer.ally\n",
            "Downloading https://github.com/kimiyoung/planetoid/raw/master/data/ind.citeseer.graph\n",
            "Downloading https://github.com/kimiyoung/planetoid/raw/master/data/ind.citeseer.test.index\n",
            "Processing...\n",
            "Done!\n",
            "Val Loss: 0.9446, Test Accuracy: 0.713 ± 0.006, Duration: 7.830, Train Loss: 0.1526\n"
          ]
        }
      ],
      "metadata": {
        "colab": {
          "base_uri": "https://localhost:8080/"
        },
        "id": "O2OQz5xSIGrN",
        "outputId": "949a53ff-9c86-4472-bc09-23e74304ce1a"
      }
    },
    {
      "cell_type": "code",
      "execution_count": null,
      "source": [
        "!cd pytorch_geometric/benchmark/citation && python gcn.py --dataset=PubMed --epochs=2000"
      ],
      "outputs": [
        {
          "output_type": "stream",
          "name": "stdout",
          "text": [
            "Downloading https://github.com/kimiyoung/planetoid/raw/master/data/ind.pubmed.x\n",
            "Downloading https://github.com/kimiyoung/planetoid/raw/master/data/ind.pubmed.tx\n",
            "Downloading https://github.com/kimiyoung/planetoid/raw/master/data/ind.pubmed.allx\n",
            "Downloading https://github.com/kimiyoung/planetoid/raw/master/data/ind.pubmed.y\n",
            "Downloading https://github.com/kimiyoung/planetoid/raw/master/data/ind.pubmed.ty\n",
            "Downloading https://github.com/kimiyoung/planetoid/raw/master/data/ind.pubmed.ally\n",
            "Downloading https://github.com/kimiyoung/planetoid/raw/master/data/ind.pubmed.graph\n",
            "Downloading https://github.com/kimiyoung/planetoid/raw/master/data/ind.pubmed.test.index\n",
            "Processing...\n",
            "Done!\n",
            "Val Loss: 0.5411, Test Accuracy: 0.791 ± 0.004, Duration: 7.745, Train Loss: 0.0650\n"
          ]
        }
      ],
      "metadata": {
        "colab": {
          "base_uri": "https://localhost:8080/"
        },
        "id": "tVnKjmd0WfFT",
        "outputId": "945aab63-5cee-47d8-ca58-4f3bf248e7e3"
      }
    },
    {
      "cell_type": "markdown",
      "source": [
        "## Teste com 3000 epochs"
      ],
      "metadata": {
        "id": "sVWWrAz1ja9f"
      }
    },
    {
      "cell_type": "code",
      "execution_count": null,
      "source": [
        "!cd pytorch_geometric/benchmark/citation && python gcn.py --dataset=Cora --epochs=3000"
      ],
      "outputs": [
        {
          "output_type": "stream",
          "name": "stdout",
          "text": [
            "Downloading https://github.com/kimiyoung/planetoid/raw/master/data/ind.cora.x\n",
            "Downloading https://github.com/kimiyoung/planetoid/raw/master/data/ind.cora.tx\n",
            "Downloading https://github.com/kimiyoung/planetoid/raw/master/data/ind.cora.allx\n",
            "Downloading https://github.com/kimiyoung/planetoid/raw/master/data/ind.cora.y\n",
            "Downloading https://github.com/kimiyoung/planetoid/raw/master/data/ind.cora.ty\n",
            "Downloading https://github.com/kimiyoung/planetoid/raw/master/data/ind.cora.ally\n",
            "Downloading https://github.com/kimiyoung/planetoid/raw/master/data/ind.cora.graph\n",
            "Downloading https://github.com/kimiyoung/planetoid/raw/master/data/ind.cora.test.index\n",
            "Processing...\n",
            "Done!\n",
            "Val Loss: 0.6938, Test Accuracy: 0.817 ± 0.004, Duration: 11.172, Train Loss: 0.1127\n"
          ]
        }
      ],
      "metadata": {
        "colab": {
          "base_uri": "https://localhost:8080/"
        },
        "id": "HW05brOgjgLp",
        "outputId": "cf37b168-9920-4b06-e2ab-c537e69bdf62"
      }
    },
    {
      "cell_type": "code",
      "execution_count": null,
      "source": [
        "!cd pytorch_geometric/benchmark/citation && python gcn.py --dataset=CiteSeer --epochs=3000"
      ],
      "outputs": [
        {
          "output_type": "stream",
          "name": "stdout",
          "text": [
            "Downloading https://github.com/kimiyoung/planetoid/raw/master/data/ind.citeseer.x\n",
            "Downloading https://github.com/kimiyoung/planetoid/raw/master/data/ind.citeseer.tx\n",
            "Downloading https://github.com/kimiyoung/planetoid/raw/master/data/ind.citeseer.allx\n",
            "Downloading https://github.com/kimiyoung/planetoid/raw/master/data/ind.citeseer.y\n",
            "Downloading https://github.com/kimiyoung/planetoid/raw/master/data/ind.citeseer.ty\n",
            "Downloading https://github.com/kimiyoung/planetoid/raw/master/data/ind.citeseer.ally\n",
            "Downloading https://github.com/kimiyoung/planetoid/raw/master/data/ind.citeseer.graph\n",
            "Downloading https://github.com/kimiyoung/planetoid/raw/master/data/ind.citeseer.test.index\n",
            "Processing...\n",
            "Done!\n",
            "Val Loss: 0.9319, Test Accuracy: 0.715 ± 0.004, Duration: 11.365, Train Loss: 0.1426\n"
          ]
        }
      ],
      "metadata": {
        "colab": {
          "base_uri": "https://localhost:8080/"
        },
        "id": "QLmXDEmEtZxO",
        "outputId": "3d4badd2-495d-4ba8-ed84-6962cbe7b1bc"
      }
    },
    {
      "cell_type": "code",
      "execution_count": null,
      "source": [
        "!cd pytorch_geometric/benchmark/citation && python gcn.py --dataset=PubMed --epochs=3000"
      ],
      "outputs": [
        {
          "output_type": "stream",
          "name": "stdout",
          "text": [
            "Downloading https://github.com/kimiyoung/planetoid/raw/master/data/ind.pubmed.x\n",
            "Downloading https://github.com/kimiyoung/planetoid/raw/master/data/ind.pubmed.tx\n",
            "Downloading https://github.com/kimiyoung/planetoid/raw/master/data/ind.pubmed.allx\n",
            "Downloading https://github.com/kimiyoung/planetoid/raw/master/data/ind.pubmed.y\n",
            "Downloading https://github.com/kimiyoung/planetoid/raw/master/data/ind.pubmed.ty\n",
            "Downloading https://github.com/kimiyoung/planetoid/raw/master/data/ind.pubmed.ally\n",
            "Downloading https://github.com/kimiyoung/planetoid/raw/master/data/ind.pubmed.graph\n",
            "Downloading https://github.com/kimiyoung/planetoid/raw/master/data/ind.pubmed.test.index\n",
            "Processing...\n",
            "Done!\n",
            "Val Loss: 0.5414, Test Accuracy: 0.791 ± 0.005, Duration: 11.338, Train Loss: 0.0632\n"
          ]
        }
      ],
      "metadata": {
        "colab": {
          "base_uri": "https://localhost:8080/"
        },
        "id": "oOLXpZTdy-Og",
        "outputId": "395d842f-5be3-4645-8170-17bc5ac8f964"
      }
    },
    {
      "cell_type": "markdown",
      "source": [
        "## Teste com 5000 epochs"
      ],
      "metadata": {
        "id": "Qo3VnXRe87__"
      }
    },
    {
      "cell_type": "code",
      "execution_count": null,
      "source": [
        "!cd pytorch_geometric/benchmark/citation && python gcn.py --dataset=Cora --epochs=5000"
      ],
      "outputs": [
        {
          "output_type": "stream",
          "name": "stdout",
          "text": [
            "Downloading https://github.com/kimiyoung/planetoid/raw/master/data/ind.cora.x\n",
            "Downloading https://github.com/kimiyoung/planetoid/raw/master/data/ind.cora.tx\n",
            "Downloading https://github.com/kimiyoung/planetoid/raw/master/data/ind.cora.allx\n",
            "Downloading https://github.com/kimiyoung/planetoid/raw/master/data/ind.cora.y\n",
            "Downloading https://github.com/kimiyoung/planetoid/raw/master/data/ind.cora.ty\n",
            "Downloading https://github.com/kimiyoung/planetoid/raw/master/data/ind.cora.ally\n",
            "Downloading https://github.com/kimiyoung/planetoid/raw/master/data/ind.cora.graph\n",
            "Downloading https://github.com/kimiyoung/planetoid/raw/master/data/ind.cora.test.index\n",
            "Processing...\n",
            "Done!\n",
            "Val Loss: 0.6914, Test Accuracy: 0.818 ± 0.003, Duration: 16.815, Train Loss: 0.1118\n"
          ]
        }
      ],
      "metadata": {
        "colab": {
          "base_uri": "https://localhost:8080/"
        },
        "id": "qdBNOFmD9B0d",
        "outputId": "888ba535-cfeb-4d48-bbc1-3fcb523a6ddc"
      }
    },
    {
      "cell_type": "code",
      "execution_count": null,
      "source": [
        "!cd pytorch_geometric/benchmark/citation && python gcn.py --dataset=CiteSeer --epochs=5000"
      ],
      "outputs": [
        {
          "output_type": "stream",
          "name": "stdout",
          "text": [
            "Downloading https://github.com/kimiyoung/planetoid/raw/master/data/ind.citeseer.x\n",
            "Downloading https://github.com/kimiyoung/planetoid/raw/master/data/ind.citeseer.tx\n",
            "Downloading https://github.com/kimiyoung/planetoid/raw/master/data/ind.citeseer.allx\n",
            "Downloading https://github.com/kimiyoung/planetoid/raw/master/data/ind.citeseer.y\n",
            "Downloading https://github.com/kimiyoung/planetoid/raw/master/data/ind.citeseer.ty\n",
            "Downloading https://github.com/kimiyoung/planetoid/raw/master/data/ind.citeseer.ally\n",
            "Downloading https://github.com/kimiyoung/planetoid/raw/master/data/ind.citeseer.graph\n",
            "Downloading https://github.com/kimiyoung/planetoid/raw/master/data/ind.citeseer.test.index\n",
            "Processing...\n",
            "Done!\n",
            "Val Loss: 0.9298, Test Accuracy: 0.715 ± 0.004, Duration: 17.525, Train Loss: 0.1412\n"
          ]
        }
      ],
      "metadata": {
        "colab": {
          "base_uri": "https://localhost:8080/"
        },
        "id": "61FRZFMuZUkr",
        "outputId": "01f38731-b4cc-4a52-9ba5-2a0d0fc569d4"
      }
    },
    {
      "cell_type": "code",
      "execution_count": null,
      "source": [
        "!cd pytorch_geometric/benchmark/citation && python gcn.py --dataset=PubMed --epochs=5000"
      ],
      "outputs": [
        {
          "output_type": "stream",
          "name": "stdout",
          "text": [
            "Downloading https://github.com/kimiyoung/planetoid/raw/master/data/ind.pubmed.x\n",
            "Downloading https://github.com/kimiyoung/planetoid/raw/master/data/ind.pubmed.tx\n",
            "Downloading https://github.com/kimiyoung/planetoid/raw/master/data/ind.pubmed.allx\n",
            "Downloading https://github.com/kimiyoung/planetoid/raw/master/data/ind.pubmed.y\n",
            "Downloading https://github.com/kimiyoung/planetoid/raw/master/data/ind.pubmed.ty\n",
            "Downloading https://github.com/kimiyoung/planetoid/raw/master/data/ind.pubmed.ally\n",
            "Downloading https://github.com/kimiyoung/planetoid/raw/master/data/ind.pubmed.graph\n",
            "Downloading https://github.com/kimiyoung/planetoid/raw/master/data/ind.pubmed.test.index\n",
            "Processing...\n",
            "Done!\n",
            "Val Loss: 0.5409, Test Accuracy: 0.790 ± 0.004, Duration: 20.445, Train Loss: 0.0589\n"
          ]
        }
      ],
      "metadata": {
        "colab": {
          "base_uri": "https://localhost:8080/"
        },
        "id": "iD6PBpfwuNvl",
        "outputId": "371fa9e1-5754-4eb7-ca4f-a1e53ab2677c"
      }
    },
    {
      "cell_type": "markdown",
      "source": [
        "## Teste com 10000 epochs"
      ],
      "metadata": {
        "id": "0mEFUb8P2JON"
      }
    },
    {
      "cell_type": "code",
      "execution_count": null,
      "source": [
        "!cd pytorch_geometric/benchmark/citation && python gcn.py --dataset=Cora --epochs=10000"
      ],
      "outputs": [
        {
          "output_type": "stream",
          "name": "stdout",
          "text": [
            "Downloading https://github.com/kimiyoung/planetoid/raw/master/data/ind.cora.x\n",
            "Downloading https://github.com/kimiyoung/planetoid/raw/master/data/ind.cora.tx\n",
            "Downloading https://github.com/kimiyoung/planetoid/raw/master/data/ind.cora.allx\n",
            "Downloading https://github.com/kimiyoung/planetoid/raw/master/data/ind.cora.y\n",
            "Downloading https://github.com/kimiyoung/planetoid/raw/master/data/ind.cora.ty\n",
            "Downloading https://github.com/kimiyoung/planetoid/raw/master/data/ind.cora.ally\n",
            "Downloading https://github.com/kimiyoung/planetoid/raw/master/data/ind.cora.graph\n",
            "Downloading https://github.com/kimiyoung/planetoid/raw/master/data/ind.cora.test.index\n",
            "Processing...\n",
            "Done!\n",
            "Val Loss: 0.6889, Test Accuracy: 0.819 ± 0.003, Duration: 37.274, Train Loss: 0.1114\n"
          ]
        }
      ],
      "metadata": {
        "colab": {
          "base_uri": "https://localhost:8080/"
        },
        "id": "h8ALNxRF2TmJ",
        "outputId": "672306b0-0656-4d68-a301-24f927227b5a"
      }
    },
    {
      "cell_type": "code",
      "execution_count": null,
      "source": [
        "!cd pytorch_geometric/benchmark/citation && python gcn.py --dataset=CiteSeer --epochs=10000"
      ],
      "outputs": [
        {
          "output_type": "stream",
          "name": "stdout",
          "text": [
            "Downloading https://github.com/kimiyoung/planetoid/raw/master/data/ind.citeseer.x\n",
            "Downloading https://github.com/kimiyoung/planetoid/raw/master/data/ind.citeseer.tx\n",
            "Downloading https://github.com/kimiyoung/planetoid/raw/master/data/ind.citeseer.allx\n",
            "Downloading https://github.com/kimiyoung/planetoid/raw/master/data/ind.citeseer.y\n",
            "Downloading https://github.com/kimiyoung/planetoid/raw/master/data/ind.citeseer.ty\n",
            "Downloading https://github.com/kimiyoung/planetoid/raw/master/data/ind.citeseer.ally\n",
            "Downloading https://github.com/kimiyoung/planetoid/raw/master/data/ind.citeseer.graph\n",
            "Downloading https://github.com/kimiyoung/planetoid/raw/master/data/ind.citeseer.test.index\n",
            "Processing...\n",
            "Done!\n",
            "Val Loss: 0.9275, Test Accuracy: 0.717 ± 0.003, Duration: 37.392, Train Loss: 0.1408\n"
          ]
        }
      ],
      "metadata": {
        "colab": {
          "base_uri": "https://localhost:8080/"
        },
        "id": "EFUdaDZZKEjj",
        "outputId": "ca1c8f2a-af96-4e37-b4d8-9f6bd93af32e"
      }
    },
    {
      "cell_type": "code",
      "execution_count": null,
      "source": [
        "!cd pytorch_geometric/benchmark/citation && python gcn.py --dataset=PubMed --epochs=10000"
      ],
      "outputs": [
        {
          "output_type": "stream",
          "name": "stdout",
          "text": [
            "Downloading https://github.com/kimiyoung/planetoid/raw/master/data/ind.pubmed.x\n",
            "Downloading https://github.com/kimiyoung/planetoid/raw/master/data/ind.pubmed.tx\n",
            "Downloading https://github.com/kimiyoung/planetoid/raw/master/data/ind.pubmed.allx\n",
            "Downloading https://github.com/kimiyoung/planetoid/raw/master/data/ind.pubmed.y\n",
            "Downloading https://github.com/kimiyoung/planetoid/raw/master/data/ind.pubmed.ty\n",
            "Downloading https://github.com/kimiyoung/planetoid/raw/master/data/ind.pubmed.ally\n",
            "Downloading https://github.com/kimiyoung/planetoid/raw/master/data/ind.pubmed.graph\n",
            "Downloading https://github.com/kimiyoung/planetoid/raw/master/data/ind.pubmed.test.index\n",
            "Processing...\n",
            "Done!\n",
            "Val Loss: 0.5388, Test Accuracy: 0.791 ± 0.004, Duration: 38.210, Train Loss: 0.0563\n"
          ]
        }
      ],
      "metadata": {
        "colab": {
          "base_uri": "https://localhost:8080/"
        },
        "id": "BcaENKFuKaNs",
        "outputId": "1b201f06-9d13-4366-d187-41f5ef133f11"
      }
    },
    {
      "cell_type": "markdown",
      "source": [
        "## Teste com 0.6 dropout rate"
      ],
      "metadata": {
        "id": "n1MO6iYhgsFw"
      }
    },
    {
      "cell_type": "code",
      "execution_count": null,
      "source": [
        "!cd pytorch_geometric/benchmark/citation && python gcn.py --dataset=Cora --dropout=0.6"
      ],
      "outputs": [
        {
          "output_type": "stream",
          "name": "stdout",
          "text": [
            "Val Loss: 0.8892, Test Accuracy: 0.814 ± 0.006, Duration: 0.847, Train Loss: 0.3312\n"
          ]
        }
      ],
      "metadata": {
        "colab": {
          "base_uri": "https://localhost:8080/"
        },
        "id": "7_GyILwaguIB",
        "outputId": "85a164c5-abf4-4240-f390-25183d1233f3"
      }
    },
    {
      "cell_type": "code",
      "execution_count": null,
      "source": [
        "!cd pytorch_geometric/benchmark/citation && python gcn.py --dataset=CiteSeer --dropout=0.6"
      ],
      "outputs": [
        {
          "output_type": "stream",
          "name": "stdout",
          "text": [
            "Val Loss: 1.1183, Test Accuracy: 0.710 ± 0.008, Duration: 0.981, Train Loss: 0.4361\n"
          ]
        }
      ],
      "metadata": {
        "colab": {
          "base_uri": "https://localhost:8080/"
        },
        "id": "U70_deMXguUA",
        "outputId": "7e3fd012-dd33-481c-f22f-e6ef2d768f18"
      }
    },
    {
      "cell_type": "code",
      "execution_count": null,
      "source": [
        "!cd pytorch_geometric/benchmark/citation && python gcn.py --dataset=PubMed --dropout=0.6"
      ],
      "outputs": [
        {
          "output_type": "stream",
          "name": "stdout",
          "text": [
            "Val Loss: 0.5993, Test Accuracy: 0.787 ± 0.006, Duration: 0.708, Train Loss: 0.2085\n"
          ]
        }
      ],
      "metadata": {
        "colab": {
          "base_uri": "https://localhost:8080/"
        },
        "id": "gDwMhWRVgukh",
        "outputId": "4cf50d4d-46cf-4111-ad07-503e63fb6e57"
      }
    },
    {
      "cell_type": "markdown",
      "source": [
        "## Teste com 0.7 dropout rate\n"
      ],
      "metadata": {
        "id": "MpmPg1H2YedJ"
      }
    },
    {
      "cell_type": "code",
      "execution_count": null,
      "source": [
        "!cd pytorch_geometric/benchmark/citation && python gcn.py --dataset=Cora --dropout=0.7"
      ],
      "outputs": [
        {
          "output_type": "stream",
          "name": "stdout",
          "text": [
            "Val Loss: 0.9162, Test Accuracy: 0.816 ± 0.007, Duration: 1.133, Train Loss: 0.3644\n"
          ]
        }
      ],
      "metadata": {
        "colab": {
          "base_uri": "https://localhost:8080/"
        },
        "id": "aD2gUgCmYi1k",
        "outputId": "fb711b04-ff3d-4a63-d8c5-b284265cc130"
      }
    },
    {
      "cell_type": "code",
      "execution_count": null,
      "source": [
        "!cd pytorch_geometric/benchmark/citation && python gcn.py --dataset=CiteSeer --dropout=0.7"
      ],
      "outputs": [
        {
          "output_type": "stream",
          "name": "stdout",
          "text": [
            "Val Loss: 1.1484, Test Accuracy: 0.708 ± 0.009, Duration: 1.344, Train Loss: 0.4945\n"
          ]
        }
      ],
      "metadata": {
        "colab": {
          "base_uri": "https://localhost:8080/"
        },
        "id": "QM6YJ-3VbmuG",
        "outputId": "74f7f67a-7403-429d-c929-9e2eeed542fb"
      }
    },
    {
      "cell_type": "code",
      "execution_count": null,
      "source": [
        "!cd pytorch_geometric/benchmark/citation && python gcn.py --dataset=PubMed --dropout=0.7"
      ],
      "outputs": [
        {
          "output_type": "stream",
          "name": "stdout",
          "text": [
            "Val Loss: 0.6089, Test Accuracy: 0.786 ± 0.007, Duration: 0.929, Train Loss: 0.2258\n"
          ]
        }
      ],
      "metadata": {
        "colab": {
          "base_uri": "https://localhost:8080/"
        },
        "id": "pKs9y8MZcyXC",
        "outputId": "e3788479-95d2-4db9-8401-07b3f6b2b034"
      }
    },
    {
      "cell_type": "markdown",
      "source": [
        "## Teste com 0.8 dropout rate"
      ],
      "metadata": {
        "id": "OMvGWxzkdxab"
      }
    },
    {
      "cell_type": "code",
      "execution_count": null,
      "source": [
        "!cd pytorch_geometric/benchmark/citation && python gcn.py --dataset=Cora --dropout=0.8"
      ],
      "outputs": [
        {
          "output_type": "stream",
          "name": "stdout",
          "text": [
            "Val Loss: 0.9686, Test Accuracy: 0.817 ± 0.007, Duration: 1.230, Train Loss: 0.4391\n"
          ]
        }
      ],
      "metadata": {
        "colab": {
          "base_uri": "https://localhost:8080/"
        },
        "id": "s3ZX8EWMd1Qs",
        "outputId": "957df703-5934-45b7-af63-b9f8b26a3bf8"
      }
    },
    {
      "cell_type": "code",
      "execution_count": null,
      "source": [
        "!cd pytorch_geometric/benchmark/citation && python gcn.py --dataset=CiteSeer --dropout=0.8"
      ],
      "outputs": [
        {
          "output_type": "stream",
          "name": "stdout",
          "text": [
            "Downloading https://github.com/kimiyoung/planetoid/raw/master/data/ind.citeseer.x\n",
            "Downloading https://github.com/kimiyoung/planetoid/raw/master/data/ind.citeseer.tx\n",
            "Downloading https://github.com/kimiyoung/planetoid/raw/master/data/ind.citeseer.allx\n",
            "Downloading https://github.com/kimiyoung/planetoid/raw/master/data/ind.citeseer.y\n",
            "Downloading https://github.com/kimiyoung/planetoid/raw/master/data/ind.citeseer.ty\n",
            "Downloading https://github.com/kimiyoung/planetoid/raw/master/data/ind.citeseer.ally\n",
            "Downloading https://github.com/kimiyoung/planetoid/raw/master/data/ind.citeseer.graph\n",
            "Downloading https://github.com/kimiyoung/planetoid/raw/master/data/ind.citeseer.test.index\n",
            "Processing...\n",
            "Done!\n",
            "Val Loss: 1.2109, Test Accuracy: 0.705 ± 0.009, Duration: 1.426, Train Loss: 0.6208\n"
          ]
        }
      ],
      "metadata": {
        "colab": {
          "base_uri": "https://localhost:8080/"
        },
        "id": "GD8UA-mVescF",
        "outputId": "9e8221cf-2380-4437-cd58-7d20723242f7"
      }
    },
    {
      "cell_type": "code",
      "execution_count": null,
      "source": [
        "!cd pytorch_geometric/benchmark/citation && python gcn.py --dataset=PubMed --dropout=0.8"
      ],
      "outputs": [
        {
          "output_type": "stream",
          "name": "stdout",
          "text": [
            "Downloading https://github.com/kimiyoung/planetoid/raw/master/data/ind.pubmed.x\n",
            "Downloading https://github.com/kimiyoung/planetoid/raw/master/data/ind.pubmed.tx\n",
            "Downloading https://github.com/kimiyoung/planetoid/raw/master/data/ind.pubmed.allx\n",
            "Downloading https://github.com/kimiyoung/planetoid/raw/master/data/ind.pubmed.y\n",
            "Downloading https://github.com/kimiyoung/planetoid/raw/master/data/ind.pubmed.ty\n",
            "Downloading https://github.com/kimiyoung/planetoid/raw/master/data/ind.pubmed.ally\n",
            "Downloading https://github.com/kimiyoung/planetoid/raw/master/data/ind.pubmed.graph\n",
            "Downloading https://github.com/kimiyoung/planetoid/raw/master/data/ind.pubmed.test.index\n",
            "Processing...\n",
            "Done!\n",
            "Val Loss: 0.6298, Test Accuracy: 0.783 ± 0.007, Duration: 0.972, Train Loss: 0.2666\n"
          ]
        }
      ],
      "metadata": {
        "colab": {
          "base_uri": "https://localhost:8080/"
        },
        "id": "nSOIBS3CgAJT",
        "outputId": "57ba2fb4-f771-44c0-bc58-d34e6e9b918a"
      }
    },
    {
      "cell_type": "markdown",
      "source": [
        "## Teste com 0.9 dropout rate"
      ],
      "metadata": {
        "id": "-RXCeJ_ZamWr"
      }
    },
    {
      "cell_type": "code",
      "execution_count": null,
      "source": [
        "!cd pytorch_geometric/benchmark/citation && python gcn.py --dataset=Cora --dropout=0.9"
      ],
      "outputs": [
        {
          "output_type": "stream",
          "name": "stdout",
          "text": [
            "Downloading https://github.com/kimiyoung/planetoid/raw/master/data/ind.cora.x\n",
            "Downloading https://github.com/kimiyoung/planetoid/raw/master/data/ind.cora.tx\n",
            "Downloading https://github.com/kimiyoung/planetoid/raw/master/data/ind.cora.allx\n",
            "Downloading https://github.com/kimiyoung/planetoid/raw/master/data/ind.cora.y\n",
            "Downloading https://github.com/kimiyoung/planetoid/raw/master/data/ind.cora.ty\n",
            "Downloading https://github.com/kimiyoung/planetoid/raw/master/data/ind.cora.ally\n",
            "Downloading https://github.com/kimiyoung/planetoid/raw/master/data/ind.cora.graph\n",
            "Downloading https://github.com/kimiyoung/planetoid/raw/master/data/ind.cora.test.index\n",
            "Processing...\n",
            "Done!\n",
            "Val Loss: 1.1705, Test Accuracy: 0.815 ± 0.011, Duration: 0.923, Train Loss: 0.7297\n"
          ]
        }
      ],
      "metadata": {
        "colab": {
          "base_uri": "https://localhost:8080/"
        },
        "id": "ZtPrEP1Tau0p",
        "outputId": "4c79f83a-cdd0-4649-9355-e5000c5d3280"
      }
    },
    {
      "cell_type": "code",
      "execution_count": null,
      "source": [
        "!cd pytorch_geometric/benchmark/citation && python gcn.py --dataset=CiteSeer --dropout=0.9"
      ],
      "outputs": [
        {
          "output_type": "stream",
          "name": "stdout",
          "text": [
            "Downloading https://github.com/kimiyoung/planetoid/raw/master/data/ind.citeseer.x\n",
            "Downloading https://github.com/kimiyoung/planetoid/raw/master/data/ind.citeseer.tx\n",
            "Downloading https://github.com/kimiyoung/planetoid/raw/master/data/ind.citeseer.allx\n",
            "Downloading https://github.com/kimiyoung/planetoid/raw/master/data/ind.citeseer.y\n",
            "Downloading https://github.com/kimiyoung/planetoid/raw/master/data/ind.citeseer.ty\n",
            "Downloading https://github.com/kimiyoung/planetoid/raw/master/data/ind.citeseer.ally\n",
            "Downloading https://github.com/kimiyoung/planetoid/raw/master/data/ind.citeseer.graph\n",
            "Downloading https://github.com/kimiyoung/planetoid/raw/master/data/ind.citeseer.test.index\n",
            "Processing...\n",
            "Done!\n",
            "Val Loss: 1.4045, Test Accuracy: 0.698 ± 0.017, Duration: 0.933, Train Loss: 1.0100\n"
          ]
        }
      ],
      "metadata": {
        "colab": {
          "base_uri": "https://localhost:8080/"
        },
        "id": "gn409EvLjzfL",
        "outputId": "0ff373be-b275-4e84-f2af-069e916bb5e2"
      }
    },
    {
      "cell_type": "code",
      "execution_count": null,
      "source": [
        "!cd pytorch_geometric/benchmark/citation && python gcn.py --dataset=PubMed --dropout=0.9"
      ],
      "outputs": [
        {
          "output_type": "stream",
          "name": "stdout",
          "text": [
            "Downloading https://github.com/kimiyoung/planetoid/raw/master/data/ind.pubmed.x\n",
            "Downloading https://github.com/kimiyoung/planetoid/raw/master/data/ind.pubmed.tx\n",
            "Downloading https://github.com/kimiyoung/planetoid/raw/master/data/ind.pubmed.allx\n",
            "Downloading https://github.com/kimiyoung/planetoid/raw/master/data/ind.pubmed.y\n",
            "Downloading https://github.com/kimiyoung/planetoid/raw/master/data/ind.pubmed.ty\n",
            "Downloading https://github.com/kimiyoung/planetoid/raw/master/data/ind.pubmed.ally\n",
            "Downloading https://github.com/kimiyoung/planetoid/raw/master/data/ind.pubmed.graph\n",
            "Downloading https://github.com/kimiyoung/planetoid/raw/master/data/ind.pubmed.test.index\n",
            "Processing...\n",
            "Done!\n",
            "Val Loss: 0.6896, Test Accuracy: 0.776 ± 0.011, Duration: 0.770, Train Loss: 0.3768\n"
          ]
        }
      ],
      "metadata": {
        "colab": {
          "base_uri": "https://localhost:8080/"
        },
        "id": "cfco7wFimTKd",
        "outputId": "4e06c4be-b7c4-467a-f0f5-50383ae0fa97"
      }
    },
    {
      "cell_type": "markdown",
      "source": [
        "# GAT\n"
      ],
      "metadata": {
        "id": "qpwL9fjoHwiP"
      }
    },
    {
      "cell_type": "markdown",
      "source": [
        "## Testes Função de ativação ReLU"
      ],
      "metadata": {
        "id": "RxK-jbffIYkc"
      }
    },
    {
      "cell_type": "code",
      "execution_count": null,
      "source": [
        "!cd pytorch_geometric/benchmark/citation && python gat.py --dataset=Cora"
      ],
      "outputs": [
        {
          "output_type": "stream",
          "name": "stdout",
          "text": [
            "Val Loss: 0.7293, Test Accuracy: 0.831 ± 0.005, Duration: 3.715, Train Loss: 0.2299\n"
          ]
        }
      ],
      "metadata": {
        "colab": {
          "base_uri": "https://localhost:8080/"
        },
        "id": "lR4fwfuTIahG",
        "outputId": "a0214578-bfdb-455b-88ea-4ca4f24afdce"
      }
    },
    {
      "cell_type": "code",
      "execution_count": null,
      "source": [
        "!cd pytorch_geometric/benchmark/citation && python gat.py --dataset=CiteSeer"
      ],
      "outputs": [
        {
          "output_type": "stream",
          "name": "stdout",
          "text": [
            "Val Loss: 1.0376, Test Accuracy: 0.712 ± 0.005, Duration: 4.299, Train Loss: 0.3614\n"
          ]
        }
      ],
      "metadata": {
        "colab": {
          "base_uri": "https://localhost:8080/"
        },
        "id": "cxyQWorpNXL5",
        "outputId": "d9806b1f-b6a6-4d6e-9571-3fa299c1fa4f"
      }
    },
    {
      "cell_type": "code",
      "execution_count": null,
      "source": [
        "!cd pytorch_geometric/benchmark/citation && python gat.py --dataset=PubMed --lr=0.01 --weight_decay=0.001 --output_heads=8"
      ],
      "outputs": [],
      "metadata": {
        "id": "c9ngZzqgQwgt"
      }
    },
    {
      "cell_type": "markdown",
      "source": [
        "## Testes função de ativação ELU "
      ],
      "metadata": {
        "id": "YzCeKLEWxz1x"
      }
    },
    {
      "cell_type": "code",
      "execution_count": null,
      "source": [
        "!cd pytorch_geometric/benchmark/citation && python gat.py --dataset=Cora "
      ],
      "outputs": [
        {
          "output_type": "stream",
          "name": "stdout",
          "text": [
            "Val Loss: 0.7000, Test Accuracy: 0.831 ± 0.005, Duration: 5.219, Train Loss: 0.1862\n"
          ]
        }
      ],
      "metadata": {
        "colab": {
          "base_uri": "https://localhost:8080/"
        },
        "id": "LzmwlahAxz1x",
        "outputId": "4f9aa244-b791-4b9f-e4e9-507104537b5a"
      }
    },
    {
      "cell_type": "code",
      "execution_count": null,
      "source": [
        "!cd pytorch_geometric/benchmark/citation && python gat.py --dataset=CiteSeer"
      ],
      "outputs": [
        {
          "output_type": "stream",
          "name": "stdout",
          "text": [
            "Val Loss: 0.9926, Test Accuracy: 0.708 ± 0.005, Duration: 5.617, Train Loss: 0.2818\n"
          ]
        }
      ],
      "metadata": {
        "colab": {
          "base_uri": "https://localhost:8080/"
        },
        "id": "bq50mhqqxz1y",
        "outputId": "ae138636-9744-4c94-bebd-72b7790fb30d"
      }
    },
    {
      "cell_type": "code",
      "execution_count": null,
      "source": [
        "!cd pytorch_geometric/benchmark/citation && python gat.py --dataset=PubMed --lr=0.01 --weight_decay=0.001 --output_heads=8"
      ],
      "outputs": [
        {
          "output_type": "stream",
          "name": "stdout",
          "text": [
            "Val Loss: 0.5954, Test Accuracy: 0.790 ± 0.003, Duration: 8.038, Train Loss: 0.2767\n"
          ]
        }
      ],
      "metadata": {
        "colab": {
          "base_uri": "https://localhost:8080/"
        },
        "id": "6-n7CGkAxz1y",
        "outputId": "b0c18c98-8760-4893-e80b-2f06dc2b11b6"
      }
    },
    {
      "cell_type": "markdown",
      "source": [
        "## 1000 epochs"
      ],
      "metadata": {
        "id": "v-eEe1UAbNrA"
      }
    },
    {
      "cell_type": "code",
      "execution_count": null,
      "source": [
        "!cd pytorch_geometric/benchmark/citation && python gat.py --dataset=Cora --epochs=1000"
      ],
      "outputs": [
        {
          "output_type": "stream",
          "name": "stdout",
          "text": [
            "Downloading https://github.com/kimiyoung/planetoid/raw/master/data/ind.cora.x\n",
            "Downloading https://github.com/kimiyoung/planetoid/raw/master/data/ind.cora.tx\n",
            "Downloading https://github.com/kimiyoung/planetoid/raw/master/data/ind.cora.allx\n",
            "Downloading https://github.com/kimiyoung/planetoid/raw/master/data/ind.cora.y\n",
            "Downloading https://github.com/kimiyoung/planetoid/raw/master/data/ind.cora.ty\n",
            "Downloading https://github.com/kimiyoung/planetoid/raw/master/data/ind.cora.ally\n",
            "Downloading https://github.com/kimiyoung/planetoid/raw/master/data/ind.cora.graph\n",
            "Downloading https://github.com/kimiyoung/planetoid/raw/master/data/ind.cora.test.index\n",
            "Processing...\n",
            "Done!\n",
            "Val Loss: 0.7013, Test Accuracy: 0.831 ± 0.004, Duration: 4.855, Train Loss: 0.1868\n"
          ]
        }
      ],
      "metadata": {
        "colab": {
          "base_uri": "https://localhost:8080/"
        },
        "id": "4sCc3v1EbPle",
        "outputId": "52ddde9f-fe8e-4ba3-eb06-311b0e2cb155"
      }
    },
    {
      "cell_type": "code",
      "execution_count": null,
      "source": [
        "!cd pytorch_geometric/benchmark/citation && python gat.py --dataset=CiteSeer --epochs=1000"
      ],
      "outputs": [
        {
          "output_type": "stream",
          "name": "stdout",
          "text": [
            "Downloading https://github.com/kimiyoung/planetoid/raw/master/data/ind.citeseer.x\n",
            "Downloading https://github.com/kimiyoung/planetoid/raw/master/data/ind.citeseer.tx\n",
            "Downloading https://github.com/kimiyoung/planetoid/raw/master/data/ind.citeseer.allx\n",
            "Downloading https://github.com/kimiyoung/planetoid/raw/master/data/ind.citeseer.y\n",
            "Downloading https://github.com/kimiyoung/planetoid/raw/master/data/ind.citeseer.ty\n",
            "Downloading https://github.com/kimiyoung/planetoid/raw/master/data/ind.citeseer.ally\n",
            "Downloading https://github.com/kimiyoung/planetoid/raw/master/data/ind.citeseer.graph\n",
            "Downloading https://github.com/kimiyoung/planetoid/raw/master/data/ind.citeseer.test.index\n",
            "Processing...\n",
            "Done!\n",
            "Val Loss: 0.9918, Test Accuracy: 0.708 ± 0.005, Duration: 5.319, Train Loss: 0.2808\n"
          ]
        }
      ],
      "metadata": {
        "colab": {
          "base_uri": "https://localhost:8080/"
        },
        "id": "o4kelWE6g_cm",
        "outputId": "a1601f74-f25c-4dba-ce47-a88dd27b6719"
      }
    },
    {
      "cell_type": "code",
      "execution_count": null,
      "source": [
        "!cd pytorch_geometric/benchmark/citation && python gat.py --dataset=PubMed --lr=0.01 --weight_decay=0.001 --output_heads=8 --epochs=1000"
      ],
      "outputs": [
        {
          "output_type": "stream",
          "name": "stdout",
          "text": [
            "Downloading https://github.com/kimiyoung/planetoid/raw/master/data/ind.pubmed.x\n",
            "Downloading https://github.com/kimiyoung/planetoid/raw/master/data/ind.pubmed.tx\n",
            "Downloading https://github.com/kimiyoung/planetoid/raw/master/data/ind.pubmed.allx\n",
            "Downloading https://github.com/kimiyoung/planetoid/raw/master/data/ind.pubmed.y\n",
            "Downloading https://github.com/kimiyoung/planetoid/raw/master/data/ind.pubmed.ty\n",
            "Downloading https://github.com/kimiyoung/planetoid/raw/master/data/ind.pubmed.ally\n",
            "Downloading https://github.com/kimiyoung/planetoid/raw/master/data/ind.pubmed.graph\n",
            "Downloading https://github.com/kimiyoung/planetoid/raw/master/data/ind.pubmed.test.index\n",
            "Processing...\n",
            "Done!\n",
            "Val Loss: 0.5959, Test Accuracy: 0.790 ± 0.004, Duration: 8.048, Train Loss: 0.2783\n"
          ]
        }
      ],
      "metadata": {
        "colab": {
          "base_uri": "https://localhost:8080/"
        },
        "id": "Jp8hmHQJrpcp",
        "outputId": "b8c0e594-30ec-4310-d240-b92f439e3503"
      }
    },
    {
      "cell_type": "markdown",
      "source": [
        "## 2000 epochs"
      ],
      "metadata": {
        "id": "h7IQnBTmAr7i"
      }
    },
    {
      "cell_type": "code",
      "execution_count": null,
      "source": [
        "!cd pytorch_geometric/benchmark/citation && python gat.py --dataset=Cora --epochs=2000"
      ],
      "outputs": [
        {
          "output_type": "stream",
          "name": "stdout",
          "text": [
            "Val Loss: 0.6738, Test Accuracy: 0.832 ± 0.004, Duration: 10.122, Train Loss: 0.1577\n"
          ]
        }
      ],
      "metadata": {
        "colab": {
          "base_uri": "https://localhost:8080/"
        },
        "id": "Wln3YmZqAvuf",
        "outputId": "cc4f53ba-77b2-4ee1-f2ed-20c89054d17a"
      }
    },
    {
      "cell_type": "code",
      "execution_count": null,
      "source": [
        "!cd pytorch_geometric/benchmark/citation && python gat.py --dataset=CiteSeer --epochs=2000"
      ],
      "outputs": [
        {
          "output_type": "stream",
          "name": "stdout",
          "text": [
            "Val Loss: 0.9700, Test Accuracy: 0.708 ± 0.005, Duration: 10.902, Train Loss: 0.2443\n"
          ]
        }
      ],
      "metadata": {
        "colab": {
          "base_uri": "https://localhost:8080/"
        },
        "id": "LUF7JsI_fBRR",
        "outputId": "703a4aa8-fa13-45a7-c70a-9cd5dc75b4a4"
      }
    },
    {
      "cell_type": "code",
      "execution_count": null,
      "source": [
        "!cd pytorch_geometric/benchmark/citation && python gat.py --dataset=PubMed --lr=0.01 --weight_decay=0.001 --output_heads=8 --epochs=2000"
      ],
      "outputs": [
        {
          "output_type": "stream",
          "name": "stdout",
          "text": [
            "Val Loss: 0.5958, Test Accuracy: 0.790 ± 0.003, Duration: 16.187, Train Loss: 0.2775\n"
          ]
        }
      ],
      "metadata": {
        "colab": {
          "base_uri": "https://localhost:8080/"
        },
        "id": "-dsuqgkMk5hL",
        "outputId": "6d67d776-72bd-4e76-8124-ceb41c8c5a72"
      }
    },
    {
      "cell_type": "markdown",
      "source": [
        "## 3000 epochs"
      ],
      "metadata": {
        "id": "sbmXUk_IHg_5"
      }
    },
    {
      "cell_type": "code",
      "execution_count": null,
      "source": [
        "!cd pytorch_geometric/benchmark/citation && python gat.py --dataset=Cora --epochs=3000"
      ],
      "outputs": [
        {
          "output_type": "stream",
          "name": "stdout",
          "text": [
            "Val Loss: 0.6677, Test Accuracy: 0.833 ± 0.004, Duration: 15.542, Train Loss: 0.1534\n"
          ]
        }
      ],
      "metadata": {
        "colab": {
          "base_uri": "https://localhost:8080/"
        },
        "id": "CHe1lQ5DHlxy",
        "outputId": "efdda16e-96dc-4d82-ddb5-86fe11a08654"
      }
    },
    {
      "cell_type": "code",
      "execution_count": null,
      "source": [
        "!cd pytorch_geometric/benchmark/citation && python gat.py --dataset=CiteSeer --epochs=3000"
      ],
      "outputs": [
        {
          "output_type": "stream",
          "name": "stdout",
          "text": [
            "Val Loss: 0.9654, Test Accuracy: 0.710 ± 0.005, Duration: 16.879, Train Loss: 0.2394\n"
          ]
        }
      ],
      "metadata": {
        "colab": {
          "base_uri": "https://localhost:8080/"
        },
        "id": "Bznk9QR0PbzV",
        "outputId": "356a9663-8833-44ce-fdc4-ebf3e318861e"
      }
    },
    {
      "cell_type": "code",
      "execution_count": null,
      "source": [
        "!cd pytorch_geometric/benchmark/citation && python gat.py --dataset=PubMed --lr=0.01 --weight_decay=0.001 --output_heads=8 --epochs=3000"
      ],
      "outputs": [
        {
          "output_type": "stream",
          "name": "stdout",
          "text": [
            "Val Loss: 0.5957, Test Accuracy: 0.790 ± 0.003, Duration: 24.141, Train Loss: 0.2771\n"
          ]
        }
      ],
      "metadata": {
        "colab": {
          "base_uri": "https://localhost:8080/"
        },
        "id": "QmMtWrXZWMeT",
        "outputId": "e570fdcd-5812-451e-90bd-58c93d8ee074"
      }
    },
    {
      "cell_type": "markdown",
      "source": [
        "## 5000 epochs"
      ],
      "metadata": {
        "id": "gM1oNmC4j_0G"
      }
    },
    {
      "cell_type": "code",
      "execution_count": null,
      "source": [
        "!cd pytorch_geometric/benchmark/citation && python gat.py --dataset=Cora --epochs=5000"
      ],
      "outputs": [
        {
          "output_type": "stream",
          "name": "stdout",
          "text": [
            "Val Loss: 0.6646, Test Accuracy: 0.833 ± 0.004, Duration: 24.659, Train Loss: 0.1515\n"
          ]
        }
      ],
      "metadata": {
        "colab": {
          "base_uri": "https://localhost:8080/"
        },
        "id": "ihlcbvP9kCnZ",
        "outputId": "01954974-e328-4e85-8cb7-e55c4534c25a"
      }
    },
    {
      "cell_type": "code",
      "execution_count": null,
      "source": [
        "!cd pytorch_geometric/benchmark/citation && python gat.py --dataset=CiteSeer --epochs=5000"
      ],
      "outputs": [
        {
          "output_type": "stream",
          "name": "stdout",
          "text": [
            "Val Loss: 0.9621, Test Accuracy: 0.710 ± 0.005, Duration: 27.869, Train Loss: 0.2370\n"
          ]
        }
      ],
      "metadata": {
        "colab": {
          "base_uri": "https://localhost:8080/"
        },
        "id": "MKFZ1Hxe2alG",
        "outputId": "87b5fd5f-8327-4cc2-ddea-cb4a744e2ed4"
      }
    },
    {
      "cell_type": "code",
      "execution_count": null,
      "source": [
        "!cd pytorch_geometric/benchmark/citation && python gat.py --dataset=PubMed --lr=0.01 --weight_decay=0.001 --output_heads=8 --epochs=5000"
      ],
      "outputs": [
        {
          "output_type": "stream",
          "name": "stdout",
          "text": [
            "Val Loss: 0.5952, Test Accuracy: 0.791 ± 0.003, Duration: 62.961, Train Loss: 0.2775\n"
          ]
        }
      ],
      "metadata": {
        "colab": {
          "base_uri": "https://localhost:8080/"
        },
        "id": "9YThqJyqqxvD",
        "outputId": "857f0294-426a-4b08-8101-154091ce16f6"
      }
    },
    {
      "cell_type": "markdown",
      "source": [
        "## 10000 epochs"
      ],
      "metadata": {
        "id": "s8KCCLnZIjpR"
      }
    },
    {
      "cell_type": "code",
      "execution_count": null,
      "source": [
        "!cd pytorch_geometric/benchmark/citation && python gat.py --dataset=Cora --epochs=10000"
      ],
      "outputs": [
        {
          "output_type": "stream",
          "name": "stdout",
          "text": [
            "Val Loss: 0.6606, Test Accuracy: 0.835 ± 0.004, Duration: 51.867, Train Loss: 0.1510\n"
          ]
        }
      ],
      "metadata": {
        "colab": {
          "base_uri": "https://localhost:8080/"
        },
        "id": "lTMC-ndlInDL",
        "outputId": "cc6d765e-68ee-468d-d323-a8e607227112"
      }
    },
    {
      "cell_type": "code",
      "execution_count": null,
      "source": [
        "!cd pytorch_geometric/benchmark/citation && python gat.py --dataset=CiteSeer --epochs=10000"
      ],
      "outputs": [
        {
          "output_type": "stream",
          "name": "stdout",
          "text": [
            "Val Loss: 0.9593, Test Accuracy: 0.711 ± 0.005, Duration: 54.284, Train Loss: 0.2370\n"
          ]
        }
      ],
      "metadata": {
        "colab": {
          "base_uri": "https://localhost:8080/"
        },
        "id": "MWjVcf8vIqBP",
        "outputId": "a66873ad-e69e-4dd5-a554-c5451805cab2"
      }
    },
    {
      "cell_type": "code",
      "execution_count": null,
      "source": [
        "!cd pytorch_geometric/benchmark/citation && python gat.py --dataset=PubMed --lr=0.01 --weight_decay=0.001 --output_heads=8 --epochs=10000"
      ],
      "outputs": [
        {
          "output_type": "stream",
          "name": "stdout",
          "text": [
            "Downloading https://github.com/kimiyoung/planetoid/raw/master/data/ind.pubmed.x\n",
            "Downloading https://github.com/kimiyoung/planetoid/raw/master/data/ind.pubmed.tx\n",
            "Downloading https://github.com/kimiyoung/planetoid/raw/master/data/ind.pubmed.allx\n",
            "Downloading https://github.com/kimiyoung/planetoid/raw/master/data/ind.pubmed.y\n",
            "Downloading https://github.com/kimiyoung/planetoid/raw/master/data/ind.pubmed.ty\n",
            "Downloading https://github.com/kimiyoung/planetoid/raw/master/data/ind.pubmed.ally\n",
            "Downloading https://github.com/kimiyoung/planetoid/raw/master/data/ind.pubmed.graph\n",
            "Downloading https://github.com/kimiyoung/planetoid/raw/master/data/ind.pubmed.test.index\n",
            "Processing...\n",
            "Done!\n",
            "Val Loss: 0.5956, Test Accuracy: 0.791 ± 0.004, Duration: 78.525, Train Loss: 0.2771\n"
          ]
        }
      ],
      "metadata": {
        "colab": {
          "base_uri": "https://localhost:8080/"
        },
        "id": "931syoi7IsSd",
        "outputId": "1105eedf-4782-47a2-d6ea-30cbe2041f96"
      }
    },
    {
      "cell_type": "markdown",
      "source": [
        "## Teste com 0.6 dropout rate"
      ],
      "metadata": {
        "id": "j6zzC06LgiLq"
      }
    },
    {
      "cell_type": "code",
      "execution_count": null,
      "source": [
        "!cd pytorch_geometric/benchmark/citation && python gat.py --dataset=Cora --dropout=0.6 "
      ],
      "outputs": [
        {
          "output_type": "stream",
          "name": "stdout",
          "text": [
            "Val Loss: 0.6993, Test Accuracy: 0.831 ± 0.004, Duration: 3.686, Train Loss: 0.1863\n"
          ]
        }
      ],
      "metadata": {
        "colab": {
          "base_uri": "https://localhost:8080/"
        },
        "id": "v_5kFEcSgkZ4",
        "outputId": "5f80688d-76dd-498a-8b7f-ba6c25c5721a"
      }
    },
    {
      "cell_type": "code",
      "execution_count": null,
      "source": [
        "!cd pytorch_geometric/benchmark/citation && python gat.py --dataset=CiteSeer --dropout=0.6 "
      ],
      "outputs": [
        {
          "output_type": "stream",
          "name": "stdout",
          "text": [
            "Val Loss: 0.9912, Test Accuracy: 0.708 ± 0.006, Duration: 4.211, Train Loss: 0.2807\n"
          ]
        }
      ],
      "metadata": {
        "colab": {
          "base_uri": "https://localhost:8080/"
        },
        "id": "uvY59Uvegkmo",
        "outputId": "90dfbc1e-1514-4a7f-8231-4424fc9d5372"
      }
    },
    {
      "cell_type": "code",
      "execution_count": null,
      "source": [
        "!cd pytorch_geometric/benchmark/citation && python gat.py --dataset=PubMed --lr=0.01 --weight_decay=0.001 --output_heads=8 --dropout=0.6 "
      ],
      "outputs": [
        {
          "output_type": "stream",
          "name": "stdout",
          "text": [
            "Val Loss: 0.5961, Test Accuracy: 0.790 ± 0.004, Duration: 6.552, Train Loss: 0.2785\n"
          ]
        }
      ],
      "metadata": {
        "colab": {
          "base_uri": "https://localhost:8080/"
        },
        "id": "ptwpA87Sgk09",
        "outputId": "b82835ec-8b7e-4201-8671-2c6c3e5220cf"
      }
    },
    {
      "cell_type": "markdown",
      "source": [
        "## Teste com 0.7 dropout rate\n"
      ],
      "metadata": {
        "id": "xLjommQOhBQ-"
      }
    },
    {
      "cell_type": "code",
      "execution_count": null,
      "source": [
        "!cd pytorch_geometric/benchmark/citation && python gat.py --dataset=Cora --dropout=0.7 "
      ],
      "outputs": [
        {
          "output_type": "stream",
          "name": "stdout",
          "text": [
            "Val Loss: 0.8117, Test Accuracy: 0.830 ± 0.005, Duration: 5.034, Train Loss: 0.3139\n"
          ]
        }
      ],
      "metadata": {
        "colab": {
          "base_uri": "https://localhost:8080/"
        },
        "id": "GmQypcM-hGj3",
        "outputId": "f5271d25-3f96-4c90-a5b1-f9f4a84d7801"
      }
    },
    {
      "cell_type": "code",
      "execution_count": null,
      "source": [
        "!cd pytorch_geometric/benchmark/citation && python gat.py --dataset=CiteSeer --dropout=0.7 "
      ],
      "outputs": [
        {
          "output_type": "stream",
          "name": "stdout",
          "text": [
            "Val Loss: 1.0945, Test Accuracy: 0.710 ± 0.006, Duration: 5.508, Train Loss: 0.4335\n"
          ]
        }
      ],
      "metadata": {
        "colab": {
          "base_uri": "https://localhost:8080/"
        },
        "id": "B4A_766chy-3",
        "outputId": "979447b9-4168-40b9-c1e7-fb4b04f16cba"
      }
    },
    {
      "cell_type": "code",
      "execution_count": null,
      "source": [
        "!cd pytorch_geometric/benchmark/citation && python gat.py --dataset=PubMed --lr=0.01 --weight_decay=0.001 --output_heads=8 --dropout=0.7 "
      ],
      "outputs": [
        {
          "output_type": "stream",
          "name": "stdout",
          "text": [
            "Val Loss: 0.6088, Test Accuracy: 0.791 ± 0.003, Duration: 7.973, Train Loss: 0.3078\n"
          ]
        }
      ],
      "metadata": {
        "colab": {
          "base_uri": "https://localhost:8080/"
        },
        "id": "bLlA8SifsvBW",
        "outputId": "4840d350-638e-43bd-d194-73d9eba636cd"
      }
    },
    {
      "cell_type": "markdown",
      "source": [
        "## Teste com 0.8 dropout rate\n"
      ],
      "metadata": {
        "id": "X80fUIVu6rir"
      }
    },
    {
      "cell_type": "code",
      "execution_count": null,
      "source": [
        "!cd pytorch_geometric/benchmark/citation && python gat.py --dataset=Cora --dropout=0.8 "
      ],
      "outputs": [
        {
          "output_type": "stream",
          "name": "stdout",
          "text": [
            "Val Loss: 1.1933, Test Accuracy: 0.830 ± 0.008, Duration: 5.458, Train Loss: 0.8340\n"
          ]
        }
      ],
      "metadata": {
        "colab": {
          "base_uri": "https://localhost:8080/"
        },
        "id": "N_XVmWno6wQF",
        "outputId": "ff990d53-9b1c-4fdf-8b04-70641a674df9"
      }
    },
    {
      "cell_type": "code",
      "execution_count": null,
      "source": [
        "!cd pytorch_geometric/benchmark/citation && python gat.py --dataset=CiteSeer --dropout=0.8 "
      ],
      "outputs": [
        {
          "output_type": "stream",
          "name": "stdout",
          "text": [
            "Val Loss: 1.3637, Test Accuracy: 0.713 ± 0.008, Duration: 5.542, Train Loss: 0.9510\n"
          ]
        }
      ],
      "metadata": {
        "colab": {
          "base_uri": "https://localhost:8080/"
        },
        "id": "MrbhtYw8ANAu",
        "outputId": "c3a5fbc3-4001-4bd2-92ea-14702836c64c"
      }
    },
    {
      "cell_type": "code",
      "execution_count": null,
      "source": [
        "!cd pytorch_geometric/benchmark/citation && python gat.py --dataset=PubMed --lr=0.01 --weight_decay=0.001 --output_heads=8 --dropout=0.8 "
      ],
      "outputs": [
        {
          "output_type": "stream",
          "name": "stdout",
          "text": [
            "Val Loss: 0.6419, Test Accuracy: 0.787 ± 0.005, Duration: 7.974, Train Loss: 0.3743\n"
          ]
        }
      ],
      "metadata": {
        "colab": {
          "base_uri": "https://localhost:8080/"
        },
        "id": "W4YYQ5NVpg6M",
        "outputId": "3d887be9-0dc8-4b9c-e8c7-7e61837f483f"
      }
    },
    {
      "cell_type": "markdown",
      "source": [
        "## Teste com 0.9 dropout rate\n"
      ],
      "metadata": {
        "id": "Kk09RA4fr-EP"
      }
    },
    {
      "cell_type": "code",
      "execution_count": null,
      "source": [
        "!cd pytorch_geometric/benchmark/citation && python gat.py --dataset=Cora --dropout=0.9 "
      ],
      "outputs": [
        {
          "output_type": "stream",
          "name": "stdout",
          "text": [
            "Val Loss: 1.8764, Test Accuracy: 0.767 ± 0.034, Duration: 3.886, Train Loss: 1.8531\n"
          ]
        }
      ],
      "metadata": {
        "colab": {
          "base_uri": "https://localhost:8080/"
        },
        "id": "bfUd7c6HsBdP",
        "outputId": "b4abeacb-407c-4a42-875e-94dfd8d97aef"
      }
    },
    {
      "cell_type": "code",
      "execution_count": null,
      "source": [
        "!cd pytorch_geometric/benchmark/citation && python gat.py --dataset=CiteSeer --dropout=0.9 "
      ],
      "outputs": [
        {
          "output_type": "stream",
          "name": "stdout",
          "text": [
            "Val Loss: 1.7595, Test Accuracy: 0.605 ± 0.075, Duration: 4.368, Train Loss: 1.7458\n"
          ]
        }
      ],
      "metadata": {
        "colab": {
          "base_uri": "https://localhost:8080/"
        },
        "id": "F9KgLYHgzZCb",
        "outputId": "e408244d-4491-40cd-c0de-b1b875665b82"
      }
    },
    {
      "cell_type": "code",
      "execution_count": null,
      "source": [
        "!cd pytorch_geometric/benchmark/citation && python gat.py --dataset=PubMed --lr=0.01 --weight_decay=0.001 --output_heads=8 --dropout=0.9"
      ],
      "outputs": [
        {
          "output_type": "stream",
          "name": "stdout",
          "text": [
            "Val Loss: 0.8452, Test Accuracy: 0.739 ± 0.013, Duration: 6.764, Train Loss: 0.7275\n"
          ]
        }
      ],
      "metadata": {
        "colab": {
          "base_uri": "https://localhost:8080/"
        },
        "id": "UrQlorw07jX1",
        "outputId": "04c2b1ef-99ad-4839-91b6-74258abb305c"
      }
    }
  ]
}