{
  "nbformat": 4,
  "nbformat_minor": 0,
  "metadata": {
    "accelerator": "GPU",
    "colab": {
      "name": "Benchmark2.ipynb",
      "provenance": [],
      "collapsed_sections": [
        "-D8_FBaRxcsS",
        "w7JS7m5zHeMA",
        "UbRtwYHN_RDS",
        "sVWWrAz1ja9f",
        "Qo3VnXRe87__",
        "0mEFUb8P2JON",
        "n1MO6iYhgsFw",
        "MpmPg1H2YedJ",
        "OMvGWxzkdxab",
        "-RXCeJ_ZamWr",
        "v-eEe1UAbNrA",
        "h7IQnBTmAr7i",
        "sbmXUk_IHg_5",
        "gM1oNmC4j_0G",
        "s8KCCLnZIjpR",
        "xLjommQOhBQ-",
        "X80fUIVu6rir",
        "Kk09RA4fr-EP",
        "dPsKgvc_Uxob",
        "8lkao2NIiSPs",
        "aaCtZYHs0Kt3",
        "4Qgum773o1ao",
        "E2zrlmNPjxNV",
        "cil-ISV4v4nm",
        "j_1nosnnDFfq",
        "QT_329YXwLas",
        "NmKm7UiSyTPI",
        "j6bVr6xbAU-V",
        "fUdRJMcRG1ia",
        "K9_25I-0qfm0",
        "gt16IL7is2Mi",
        "0JDv3_JteXra",
        "3oPue1RknAKm",
        "SNayZdt1EZFK",
        "Ngp12IjEeSWM"
      ],
      "toc_visible": true
    },
    "kernelspec": {
      "display_name": "Python 3",
      "name": "python3"
    }
  },
  "cells": [
    {
      "cell_type": "markdown",
      "metadata": {
        "id": "vTih4pK5p9KG"
      },
      "source": [
        "# Github"
      ]
    },
    {
      "cell_type": "code",
      "metadata": {
        "colab": {
          "base_uri": "https://localhost:8080/"
        },
        "id": "hz0Nn0oTCLNR",
        "outputId": "dc5ebc0e-95d5-40f1-804c-c60ee0ee888e"
      },
      "source": [
        "!git clone https://github.com/vanessatelles/pytorch_geometric"
      ],
      "execution_count": null,
      "outputs": [
        {
          "output_type": "stream",
          "text": [
            "Cloning into 'pytorch_geometric'...\n",
            "remote: Enumerating objects: 25762, done.\u001b[K\n",
            "remote: Total 25762 (delta 0), reused 0 (delta 0), pack-reused 25762\u001b[K\n",
            "Receiving objects: 100% (25762/25762), 3.76 MiB | 7.83 MiB/s, done.\n",
            "Resolving deltas: 100% (19155/19155), done.\n"
          ],
          "name": "stdout"
        }
      ]
    },
    {
      "cell_type": "markdown",
      "metadata": {
        "id": "kSCQYE2h8b-I"
      },
      "source": [
        "# Install\n"
      ]
    },
    {
      "cell_type": "markdown",
      "metadata": {
        "id": "Rw2kX2ko8iDw"
      },
      "source": [
        "Install torch and then install pytorch again."
      ]
    },
    {
      "cell_type": "code",
      "metadata": {
        "colab": {
          "base_uri": "https://localhost:8080/"
        },
        "id": "_uwliYheRwoq",
        "outputId": "90a1fe83-e64e-469e-924a-8bded77d902f"
      },
      "source": [
        "!pip install -q torch-scatter -f https://pytorch-geometric.com/whl/torch-1.9.0+cu102.html\n",
        "!pip install -q torch-sparse -f https://pytorch-geometric.com/whl/torch-1.9.0+cu102.html\n",
        "!pip install -q torch-geometric"
      ],
      "execution_count": null,
      "outputs": [
        {
          "output_type": "stream",
          "text": [
            "\u001b[K     |████████████████████████████████| 2.6 MB 6.9 MB/s \n",
            "\u001b[K     |████████████████████████████████| 1.4 MB 7.3 MB/s \n",
            "\u001b[K     |████████████████████████████████| 222 kB 9.3 MB/s \n",
            "\u001b[K     |████████████████████████████████| 376 kB 16.7 MB/s \n",
            "\u001b[K     |████████████████████████████████| 45 kB 4.1 MB/s \n",
            "\u001b[?25h  Building wheel for torch-geometric (setup.py) ... \u001b[?25l\u001b[?25hdone\n"
          ],
          "name": "stdout"
        }
      ]
    },
    {
      "cell_type": "markdown",
      "metadata": {
        "id": "ul6y4yYAqb8J"
      },
      "source": [
        "# Replace\n"
      ]
    },
    {
      "cell_type": "code",
      "metadata": {
        "colab": {
          "base_uri": "https://localhost:8080/"
        },
        "id": "6SEmt9QLE_m8",
        "outputId": "83ec75fd-d150-49f9-c75c-11135de31b8e"
      },
      "source": [
        "'''\n",
        "Substituir :\n",
        "from citation import get_planetoid_dataset, random_planetoid_splits, run\n",
        "\n",
        "Por: \n",
        "from train_eval import random_planetoid_splits, run\n",
        "from datasets import get_planetoid_dataset\n",
        "\n",
        "'''"
      ],
      "execution_count": null,
      "outputs": [
        {
          "output_type": "execute_result",
          "data": {
            "application/vnd.google.colaboratory.intrinsic+json": {
              "type": "string"
            },
            "text/plain": [
              "'\\nSubstituir :\\nfrom citation import get_planetoid_dataset, random_planetoid_splits, run\\n\\nPor: \\nfrom train_eval import random_planetoid_splits, run\\nfrom datasets import get_planetoid_dataset\\n\\n'"
            ]
          },
          "metadata": {
            "tags": []
          },
          "execution_count": 15
        }
      ]
    },
    {
      "cell_type": "markdown",
      "metadata": {
        "id": "GSR7lB9z6l8L"
      },
      "source": [
        "# GCN"
      ]
    },
    {
      "cell_type": "markdown",
      "metadata": {
        "id": "-D8_FBaRxcsS"
      },
      "source": [
        "## Testes função ativação ReLU\n"
      ]
    },
    {
      "cell_type": "code",
      "metadata": {
        "colab": {
          "base_uri": "https://localhost:8080/"
        },
        "id": "wpfiBOpFxcsT",
        "outputId": "f5f23583-8462-464b-ab44-a02ac1d5e368"
      },
      "source": [
        "!cd pytorch_geometric/benchmark/citation && python gcn.py --dataset=Cora"
      ],
      "execution_count": null,
      "outputs": [
        {
          "output_type": "stream",
          "text": [
            "Using exist file ind.cora.x\n",
            "Using exist file ind.cora.tx\n",
            "Downloading https://github.com/kimiyoung/planetoid/raw/master/data/ind.cora.allx\n",
            "Downloading https://github.com/kimiyoung/planetoid/raw/master/data/ind.cora.y\n",
            "Downloading https://github.com/kimiyoung/planetoid/raw/master/data/ind.cora.ty\n",
            "Downloading https://github.com/kimiyoung/planetoid/raw/master/data/ind.cora.ally\n",
            "Downloading https://github.com/kimiyoung/planetoid/raw/master/data/ind.cora.graph\n",
            "Downloading https://github.com/kimiyoung/planetoid/raw/master/data/ind.cora.test.index\n",
            "Processing...\n",
            "Done!\n",
            "Val Loss: 0.8815, Test Accuracy: 0.814 ± 0.006, Duration: 1.161, Train Loss: 0.3178\n"
          ],
          "name": "stdout"
        }
      ]
    },
    {
      "cell_type": "code",
      "metadata": {
        "colab": {
          "base_uri": "https://localhost:8080/"
        },
        "id": "b1_1eSrsxcsT",
        "outputId": "bdc384f9-54b4-4480-c4dd-793f5bbfb021"
      },
      "source": [
        "!cd pytorch_geometric/benchmark/citation && python gcn.py --dataset=CiteSeer"
      ],
      "execution_count": null,
      "outputs": [
        {
          "output_type": "stream",
          "text": [
            "Val Loss: 1.0977, Test Accuracy: 0.710 ± 0.009, Duration: 1.345, Train Loss: 0.4042\n"
          ],
          "name": "stdout"
        }
      ]
    },
    {
      "cell_type": "code",
      "metadata": {
        "colab": {
          "base_uri": "https://localhost:8080/"
        },
        "id": "JjCx8QRXxcsT",
        "outputId": "ba8ae2f6-0151-45f6-d3c1-3dc10ed0b9cb"
      },
      "source": [
        "!cd pytorch_geometric/benchmark/citation && python gcn.py --dataset=PubMed"
      ],
      "execution_count": null,
      "outputs": [
        {
          "output_type": "stream",
          "text": [
            "Val Loss: 0.5938, Test Accuracy: 0.788 ± 0.007, Duration: 0.676, Train Loss: 0.1990\n"
          ],
          "name": "stdout"
        }
      ]
    },
    {
      "cell_type": "markdown",
      "metadata": {
        "id": "w7JS7m5zHeMA"
      },
      "source": [
        "## Testes função de ativação Elu"
      ]
    },
    {
      "cell_type": "code",
      "metadata": {
        "colab": {
          "base_uri": "https://localhost:8080/"
        },
        "id": "3ww2QIWIHuO5",
        "outputId": "4ae99434-dd94-45f0-9447-253296acdf47"
      },
      "source": [
        "!cd pytorch_geometric/benchmark/citation && python gcn.py --dataset=Cora"
      ],
      "execution_count": null,
      "outputs": [
        {
          "output_type": "stream",
          "text": [
            "Downloading https://github.com/kimiyoung/planetoid/raw/master/data/ind.cora.x\n",
            "Downloading https://github.com/kimiyoung/planetoid/raw/master/data/ind.cora.tx\n",
            "Downloading https://github.com/kimiyoung/planetoid/raw/master/data/ind.cora.allx\n",
            "Downloading https://github.com/kimiyoung/planetoid/raw/master/data/ind.cora.y\n",
            "Downloading https://github.com/kimiyoung/planetoid/raw/master/data/ind.cora.ty\n",
            "Downloading https://github.com/kimiyoung/planetoid/raw/master/data/ind.cora.ally\n",
            "Downloading https://github.com/kimiyoung/planetoid/raw/master/data/ind.cora.graph\n",
            "Downloading https://github.com/kimiyoung/planetoid/raw/master/data/ind.cora.test.index\n",
            "Processing...\n",
            "Done!\n",
            "Val Loss: 0.8396, Test Accuracy: 0.815 ± 0.006, Duration: 0.829, Train Loss: 0.2787\n"
          ],
          "name": "stdout"
        }
      ]
    },
    {
      "cell_type": "code",
      "metadata": {
        "colab": {
          "base_uri": "https://localhost:8080/"
        },
        "id": "PmkouwzLMH-W",
        "outputId": "f43cf41f-25ff-480c-97ed-beb184f5f8cb"
      },
      "source": [
        "!cd pytorch_geometric/benchmark/citation && python gcn.py --dataset=CiteSeer"
      ],
      "execution_count": null,
      "outputs": [
        {
          "output_type": "stream",
          "text": [
            "Downloading https://github.com/kimiyoung/planetoid/raw/master/data/ind.citeseer.x\n",
            "Downloading https://github.com/kimiyoung/planetoid/raw/master/data/ind.citeseer.tx\n",
            "Downloading https://github.com/kimiyoung/planetoid/raw/master/data/ind.citeseer.allx\n",
            "Downloading https://github.com/kimiyoung/planetoid/raw/master/data/ind.citeseer.y\n",
            "Downloading https://github.com/kimiyoung/planetoid/raw/master/data/ind.citeseer.ty\n",
            "Downloading https://github.com/kimiyoung/planetoid/raw/master/data/ind.citeseer.ally\n",
            "Downloading https://github.com/kimiyoung/planetoid/raw/master/data/ind.citeseer.graph\n",
            "Downloading https://github.com/kimiyoung/planetoid/raw/master/data/ind.citeseer.test.index\n",
            "Processing...\n",
            "Done!\n",
            "Val Loss: 1.0549, Test Accuracy: 0.717 ± 0.005, Duration: 0.887, Train Loss: 0.3442\n"
          ],
          "name": "stdout"
        }
      ]
    },
    {
      "cell_type": "code",
      "metadata": {
        "colab": {
          "base_uri": "https://localhost:8080/"
        },
        "id": "laaufr6eN4aW",
        "outputId": "40d69e9d-3992-43d2-cf9e-84a54a71197f"
      },
      "source": [
        "!cd pytorch_geometric/benchmark/citation && python gcn.py --dataset=PubMed"
      ],
      "execution_count": null,
      "outputs": [
        {
          "output_type": "stream",
          "text": [
            "Downloading https://github.com/kimiyoung/planetoid/raw/master/data/ind.pubmed.x\n",
            "Downloading https://github.com/kimiyoung/planetoid/raw/master/data/ind.pubmed.tx\n",
            "Downloading https://github.com/kimiyoung/planetoid/raw/master/data/ind.pubmed.allx\n",
            "Downloading https://github.com/kimiyoung/planetoid/raw/master/data/ind.pubmed.y\n",
            "Downloading https://github.com/kimiyoung/planetoid/raw/master/data/ind.pubmed.ty\n",
            "Downloading https://github.com/kimiyoung/planetoid/raw/master/data/ind.pubmed.ally\n",
            "Downloading https://github.com/kimiyoung/planetoid/raw/master/data/ind.pubmed.graph\n",
            "Downloading https://github.com/kimiyoung/planetoid/raw/master/data/ind.pubmed.test.index\n",
            "Processing...\n",
            "Done!\n",
            "Val Loss: 0.5661, Test Accuracy: 0.795 ± 0.003, Duration: 0.739, Train Loss: 0.1568\n"
          ],
          "name": "stdout"
        }
      ]
    },
    {
      "cell_type": "markdown",
      "metadata": {
        "id": "1D-_JEgVQ3IH"
      },
      "source": [
        "## Teste Função de ativação softmax"
      ]
    },
    {
      "cell_type": "code",
      "metadata": {
        "colab": {
          "base_uri": "https://localhost:8080/"
        },
        "id": "B5TRZRjjQ5cC",
        "outputId": "99a18bad-868e-4db6-9071-6d3cdf5c5bff"
      },
      "source": [
        "!cd pytorch_geometric/benchmark/citation && python gcn.py --dataset=Cora"
      ],
      "execution_count": null,
      "outputs": [
        {
          "output_type": "stream",
          "text": [
            "Val Loss: 1.8276, Test Accuracy: 0.379 ± 0.107, Duration: 0.563, Train Loss: 1.8098\n"
          ],
          "name": "stdout"
        }
      ]
    },
    {
      "cell_type": "code",
      "metadata": {
        "colab": {
          "base_uri": "https://localhost:8080/"
        },
        "id": "NynPa8CIX0jM",
        "outputId": "3d154d05-be09-4706-9969-ee830f5a4aea"
      },
      "source": [
        "!cd pytorch_geometric/benchmark/citation && python gcn.py --dataset=CiteSeer"
      ],
      "execution_count": null,
      "outputs": [
        {
          "output_type": "stream",
          "text": [
            "Val Loss: 1.7370, Test Accuracy: 0.261 ± 0.086, Duration: 0.572, Train Loss: 1.7005\n"
          ],
          "name": "stdout"
        }
      ]
    },
    {
      "cell_type": "code",
      "metadata": {
        "colab": {
          "base_uri": "https://localhost:8080/"
        },
        "id": "ptHeA7Cou1fz",
        "outputId": "834810b2-d8b0-4a58-9616-c9aa7d265934"
      },
      "source": [
        "!cd pytorch_geometric/benchmark/citation && python gcn.py --dataset=PubMed"
      ],
      "execution_count": null,
      "outputs": [
        {
          "output_type": "stream",
          "text": [
            "Val Loss: 0.9904, Test Accuracy: 0.628 ± 0.091, Duration: 0.596, Train Loss: 0.9528\n"
          ],
          "name": "stdout"
        }
      ]
    },
    {
      "cell_type": "markdown",
      "metadata": {
        "id": "UbRtwYHN_RDS"
      },
      "source": [
        "## Teste com 2000 epochs"
      ]
    },
    {
      "cell_type": "code",
      "metadata": {
        "colab": {
          "base_uri": "https://localhost:8080/"
        },
        "id": "QSLmj1y8_V-R",
        "outputId": "05127cec-90b1-44d4-b26c-655a8b201ce1"
      },
      "source": [
        "!cd pytorch_geometric/benchmark/citation && python gcn.py --dataset=Cora --epochs=2000"
      ],
      "execution_count": null,
      "outputs": [
        {
          "output_type": "stream",
          "text": [
            "Downloading https://github.com/kimiyoung/planetoid/raw/master/data/ind.cora.x\n",
            "Downloading https://github.com/kimiyoung/planetoid/raw/master/data/ind.cora.tx\n",
            "Downloading https://github.com/kimiyoung/planetoid/raw/master/data/ind.cora.allx\n",
            "Downloading https://github.com/kimiyoung/planetoid/raw/master/data/ind.cora.y\n",
            "Downloading https://github.com/kimiyoung/planetoid/raw/master/data/ind.cora.ty\n",
            "Downloading https://github.com/kimiyoung/planetoid/raw/master/data/ind.cora.ally\n",
            "Downloading https://github.com/kimiyoung/planetoid/raw/master/data/ind.cora.graph\n",
            "Downloading https://github.com/kimiyoung/planetoid/raw/master/data/ind.cora.test.index\n",
            "Processing...\n",
            "Done!\n",
            "Val Loss: 0.7003, Test Accuracy: 0.815 ± 0.004, Duration: 7.356, Train Loss: 0.1166\n"
          ],
          "name": "stdout"
        }
      ]
    },
    {
      "cell_type": "code",
      "metadata": {
        "colab": {
          "base_uri": "https://localhost:8080/"
        },
        "id": "O2OQz5xSIGrN",
        "outputId": "949a53ff-9c86-4472-bc09-23e74304ce1a"
      },
      "source": [
        "!cd pytorch_geometric/benchmark/citation && python gcn.py --dataset=CiteSeer --epochs=2000"
      ],
      "execution_count": null,
      "outputs": [
        {
          "output_type": "stream",
          "text": [
            "Downloading https://github.com/kimiyoung/planetoid/raw/master/data/ind.citeseer.x\n",
            "Downloading https://github.com/kimiyoung/planetoid/raw/master/data/ind.citeseer.tx\n",
            "Downloading https://github.com/kimiyoung/planetoid/raw/master/data/ind.citeseer.allx\n",
            "Downloading https://github.com/kimiyoung/planetoid/raw/master/data/ind.citeseer.y\n",
            "Downloading https://github.com/kimiyoung/planetoid/raw/master/data/ind.citeseer.ty\n",
            "Downloading https://github.com/kimiyoung/planetoid/raw/master/data/ind.citeseer.ally\n",
            "Downloading https://github.com/kimiyoung/planetoid/raw/master/data/ind.citeseer.graph\n",
            "Downloading https://github.com/kimiyoung/planetoid/raw/master/data/ind.citeseer.test.index\n",
            "Processing...\n",
            "Done!\n",
            "Val Loss: 0.9446, Test Accuracy: 0.713 ± 0.006, Duration: 7.830, Train Loss: 0.1526\n"
          ],
          "name": "stdout"
        }
      ]
    },
    {
      "cell_type": "code",
      "metadata": {
        "colab": {
          "base_uri": "https://localhost:8080/"
        },
        "id": "tVnKjmd0WfFT",
        "outputId": "945aab63-5cee-47d8-ca58-4f3bf248e7e3"
      },
      "source": [
        "!cd pytorch_geometric/benchmark/citation && python gcn.py --dataset=PubMed --epochs=2000"
      ],
      "execution_count": null,
      "outputs": [
        {
          "output_type": "stream",
          "text": [
            "Downloading https://github.com/kimiyoung/planetoid/raw/master/data/ind.pubmed.x\n",
            "Downloading https://github.com/kimiyoung/planetoid/raw/master/data/ind.pubmed.tx\n",
            "Downloading https://github.com/kimiyoung/planetoid/raw/master/data/ind.pubmed.allx\n",
            "Downloading https://github.com/kimiyoung/planetoid/raw/master/data/ind.pubmed.y\n",
            "Downloading https://github.com/kimiyoung/planetoid/raw/master/data/ind.pubmed.ty\n",
            "Downloading https://github.com/kimiyoung/planetoid/raw/master/data/ind.pubmed.ally\n",
            "Downloading https://github.com/kimiyoung/planetoid/raw/master/data/ind.pubmed.graph\n",
            "Downloading https://github.com/kimiyoung/planetoid/raw/master/data/ind.pubmed.test.index\n",
            "Processing...\n",
            "Done!\n",
            "Val Loss: 0.5411, Test Accuracy: 0.791 ± 0.004, Duration: 7.745, Train Loss: 0.0650\n"
          ],
          "name": "stdout"
        }
      ]
    },
    {
      "cell_type": "markdown",
      "metadata": {
        "id": "sVWWrAz1ja9f"
      },
      "source": [
        "## Teste com 3000 epochs"
      ]
    },
    {
      "cell_type": "code",
      "metadata": {
        "colab": {
          "base_uri": "https://localhost:8080/"
        },
        "id": "HW05brOgjgLp",
        "outputId": "cf37b168-9920-4b06-e2ab-c537e69bdf62"
      },
      "source": [
        "!cd pytorch_geometric/benchmark/citation && python gcn.py --dataset=Cora --epochs=3000"
      ],
      "execution_count": null,
      "outputs": [
        {
          "output_type": "stream",
          "text": [
            "Downloading https://github.com/kimiyoung/planetoid/raw/master/data/ind.cora.x\n",
            "Downloading https://github.com/kimiyoung/planetoid/raw/master/data/ind.cora.tx\n",
            "Downloading https://github.com/kimiyoung/planetoid/raw/master/data/ind.cora.allx\n",
            "Downloading https://github.com/kimiyoung/planetoid/raw/master/data/ind.cora.y\n",
            "Downloading https://github.com/kimiyoung/planetoid/raw/master/data/ind.cora.ty\n",
            "Downloading https://github.com/kimiyoung/planetoid/raw/master/data/ind.cora.ally\n",
            "Downloading https://github.com/kimiyoung/planetoid/raw/master/data/ind.cora.graph\n",
            "Downloading https://github.com/kimiyoung/planetoid/raw/master/data/ind.cora.test.index\n",
            "Processing...\n",
            "Done!\n",
            "Val Loss: 0.6938, Test Accuracy: 0.817 ± 0.004, Duration: 11.172, Train Loss: 0.1127\n"
          ],
          "name": "stdout"
        }
      ]
    },
    {
      "cell_type": "code",
      "metadata": {
        "colab": {
          "base_uri": "https://localhost:8080/"
        },
        "id": "QLmXDEmEtZxO",
        "outputId": "3d4badd2-495d-4ba8-ed84-6962cbe7b1bc"
      },
      "source": [
        "!cd pytorch_geometric/benchmark/citation && python gcn.py --dataset=CiteSeer --epochs=3000"
      ],
      "execution_count": null,
      "outputs": [
        {
          "output_type": "stream",
          "text": [
            "Downloading https://github.com/kimiyoung/planetoid/raw/master/data/ind.citeseer.x\n",
            "Downloading https://github.com/kimiyoung/planetoid/raw/master/data/ind.citeseer.tx\n",
            "Downloading https://github.com/kimiyoung/planetoid/raw/master/data/ind.citeseer.allx\n",
            "Downloading https://github.com/kimiyoung/planetoid/raw/master/data/ind.citeseer.y\n",
            "Downloading https://github.com/kimiyoung/planetoid/raw/master/data/ind.citeseer.ty\n",
            "Downloading https://github.com/kimiyoung/planetoid/raw/master/data/ind.citeseer.ally\n",
            "Downloading https://github.com/kimiyoung/planetoid/raw/master/data/ind.citeseer.graph\n",
            "Downloading https://github.com/kimiyoung/planetoid/raw/master/data/ind.citeseer.test.index\n",
            "Processing...\n",
            "Done!\n",
            "Val Loss: 0.9319, Test Accuracy: 0.715 ± 0.004, Duration: 11.365, Train Loss: 0.1426\n"
          ],
          "name": "stdout"
        }
      ]
    },
    {
      "cell_type": "code",
      "metadata": {
        "colab": {
          "base_uri": "https://localhost:8080/"
        },
        "id": "oOLXpZTdy-Og",
        "outputId": "395d842f-5be3-4645-8170-17bc5ac8f964"
      },
      "source": [
        "!cd pytorch_geometric/benchmark/citation && python gcn.py --dataset=PubMed --epochs=3000"
      ],
      "execution_count": null,
      "outputs": [
        {
          "output_type": "stream",
          "text": [
            "Downloading https://github.com/kimiyoung/planetoid/raw/master/data/ind.pubmed.x\n",
            "Downloading https://github.com/kimiyoung/planetoid/raw/master/data/ind.pubmed.tx\n",
            "Downloading https://github.com/kimiyoung/planetoid/raw/master/data/ind.pubmed.allx\n",
            "Downloading https://github.com/kimiyoung/planetoid/raw/master/data/ind.pubmed.y\n",
            "Downloading https://github.com/kimiyoung/planetoid/raw/master/data/ind.pubmed.ty\n",
            "Downloading https://github.com/kimiyoung/planetoid/raw/master/data/ind.pubmed.ally\n",
            "Downloading https://github.com/kimiyoung/planetoid/raw/master/data/ind.pubmed.graph\n",
            "Downloading https://github.com/kimiyoung/planetoid/raw/master/data/ind.pubmed.test.index\n",
            "Processing...\n",
            "Done!\n",
            "Val Loss: 0.5414, Test Accuracy: 0.791 ± 0.005, Duration: 11.338, Train Loss: 0.0632\n"
          ],
          "name": "stdout"
        }
      ]
    },
    {
      "cell_type": "markdown",
      "metadata": {
        "id": "Qo3VnXRe87__"
      },
      "source": [
        "## Teste com 5000 epochs"
      ]
    },
    {
      "cell_type": "code",
      "metadata": {
        "colab": {
          "base_uri": "https://localhost:8080/"
        },
        "id": "qdBNOFmD9B0d",
        "outputId": "888ba535-cfeb-4d48-bbc1-3fcb523a6ddc"
      },
      "source": [
        "!cd pytorch_geometric/benchmark/citation && python gcn.py --dataset=Cora --epochs=5000"
      ],
      "execution_count": null,
      "outputs": [
        {
          "output_type": "stream",
          "text": [
            "Downloading https://github.com/kimiyoung/planetoid/raw/master/data/ind.cora.x\n",
            "Downloading https://github.com/kimiyoung/planetoid/raw/master/data/ind.cora.tx\n",
            "Downloading https://github.com/kimiyoung/planetoid/raw/master/data/ind.cora.allx\n",
            "Downloading https://github.com/kimiyoung/planetoid/raw/master/data/ind.cora.y\n",
            "Downloading https://github.com/kimiyoung/planetoid/raw/master/data/ind.cora.ty\n",
            "Downloading https://github.com/kimiyoung/planetoid/raw/master/data/ind.cora.ally\n",
            "Downloading https://github.com/kimiyoung/planetoid/raw/master/data/ind.cora.graph\n",
            "Downloading https://github.com/kimiyoung/planetoid/raw/master/data/ind.cora.test.index\n",
            "Processing...\n",
            "Done!\n",
            "Val Loss: 0.6914, Test Accuracy: 0.818 ± 0.003, Duration: 16.815, Train Loss: 0.1118\n"
          ],
          "name": "stdout"
        }
      ]
    },
    {
      "cell_type": "code",
      "metadata": {
        "colab": {
          "base_uri": "https://localhost:8080/"
        },
        "id": "61FRZFMuZUkr",
        "outputId": "01f38731-b4cc-4a52-9ba5-2a0d0fc569d4"
      },
      "source": [
        "!cd pytorch_geometric/benchmark/citation && python gcn.py --dataset=CiteSeer --epochs=5000"
      ],
      "execution_count": null,
      "outputs": [
        {
          "output_type": "stream",
          "text": [
            "Downloading https://github.com/kimiyoung/planetoid/raw/master/data/ind.citeseer.x\n",
            "Downloading https://github.com/kimiyoung/planetoid/raw/master/data/ind.citeseer.tx\n",
            "Downloading https://github.com/kimiyoung/planetoid/raw/master/data/ind.citeseer.allx\n",
            "Downloading https://github.com/kimiyoung/planetoid/raw/master/data/ind.citeseer.y\n",
            "Downloading https://github.com/kimiyoung/planetoid/raw/master/data/ind.citeseer.ty\n",
            "Downloading https://github.com/kimiyoung/planetoid/raw/master/data/ind.citeseer.ally\n",
            "Downloading https://github.com/kimiyoung/planetoid/raw/master/data/ind.citeseer.graph\n",
            "Downloading https://github.com/kimiyoung/planetoid/raw/master/data/ind.citeseer.test.index\n",
            "Processing...\n",
            "Done!\n",
            "Val Loss: 0.9298, Test Accuracy: 0.715 ± 0.004, Duration: 17.525, Train Loss: 0.1412\n"
          ],
          "name": "stdout"
        }
      ]
    },
    {
      "cell_type": "code",
      "metadata": {
        "colab": {
          "base_uri": "https://localhost:8080/"
        },
        "id": "iD6PBpfwuNvl",
        "outputId": "371fa9e1-5754-4eb7-ca4f-a1e53ab2677c"
      },
      "source": [
        "!cd pytorch_geometric/benchmark/citation && python gcn.py --dataset=PubMed --epochs=5000"
      ],
      "execution_count": null,
      "outputs": [
        {
          "output_type": "stream",
          "text": [
            "Downloading https://github.com/kimiyoung/planetoid/raw/master/data/ind.pubmed.x\n",
            "Downloading https://github.com/kimiyoung/planetoid/raw/master/data/ind.pubmed.tx\n",
            "Downloading https://github.com/kimiyoung/planetoid/raw/master/data/ind.pubmed.allx\n",
            "Downloading https://github.com/kimiyoung/planetoid/raw/master/data/ind.pubmed.y\n",
            "Downloading https://github.com/kimiyoung/planetoid/raw/master/data/ind.pubmed.ty\n",
            "Downloading https://github.com/kimiyoung/planetoid/raw/master/data/ind.pubmed.ally\n",
            "Downloading https://github.com/kimiyoung/planetoid/raw/master/data/ind.pubmed.graph\n",
            "Downloading https://github.com/kimiyoung/planetoid/raw/master/data/ind.pubmed.test.index\n",
            "Processing...\n",
            "Done!\n",
            "Val Loss: 0.5409, Test Accuracy: 0.790 ± 0.004, Duration: 20.445, Train Loss: 0.0589\n"
          ],
          "name": "stdout"
        }
      ]
    },
    {
      "cell_type": "markdown",
      "metadata": {
        "id": "0mEFUb8P2JON"
      },
      "source": [
        "## Teste com 10000 epochs"
      ]
    },
    {
      "cell_type": "code",
      "metadata": {
        "colab": {
          "base_uri": "https://localhost:8080/"
        },
        "id": "h8ALNxRF2TmJ",
        "outputId": "672306b0-0656-4d68-a301-24f927227b5a"
      },
      "source": [
        "!cd pytorch_geometric/benchmark/citation && python gcn.py --dataset=Cora --epochs=10000"
      ],
      "execution_count": null,
      "outputs": [
        {
          "output_type": "stream",
          "text": [
            "Downloading https://github.com/kimiyoung/planetoid/raw/master/data/ind.cora.x\n",
            "Downloading https://github.com/kimiyoung/planetoid/raw/master/data/ind.cora.tx\n",
            "Downloading https://github.com/kimiyoung/planetoid/raw/master/data/ind.cora.allx\n",
            "Downloading https://github.com/kimiyoung/planetoid/raw/master/data/ind.cora.y\n",
            "Downloading https://github.com/kimiyoung/planetoid/raw/master/data/ind.cora.ty\n",
            "Downloading https://github.com/kimiyoung/planetoid/raw/master/data/ind.cora.ally\n",
            "Downloading https://github.com/kimiyoung/planetoid/raw/master/data/ind.cora.graph\n",
            "Downloading https://github.com/kimiyoung/planetoid/raw/master/data/ind.cora.test.index\n",
            "Processing...\n",
            "Done!\n",
            "Val Loss: 0.6889, Test Accuracy: 0.819 ± 0.003, Duration: 37.274, Train Loss: 0.1114\n"
          ],
          "name": "stdout"
        }
      ]
    },
    {
      "cell_type": "code",
      "metadata": {
        "colab": {
          "base_uri": "https://localhost:8080/"
        },
        "id": "EFUdaDZZKEjj",
        "outputId": "ca1c8f2a-af96-4e37-b4d8-9f6bd93af32e"
      },
      "source": [
        "!cd pytorch_geometric/benchmark/citation && python gcn.py --dataset=CiteSeer --epochs=10000"
      ],
      "execution_count": null,
      "outputs": [
        {
          "output_type": "stream",
          "text": [
            "Downloading https://github.com/kimiyoung/planetoid/raw/master/data/ind.citeseer.x\n",
            "Downloading https://github.com/kimiyoung/planetoid/raw/master/data/ind.citeseer.tx\n",
            "Downloading https://github.com/kimiyoung/planetoid/raw/master/data/ind.citeseer.allx\n",
            "Downloading https://github.com/kimiyoung/planetoid/raw/master/data/ind.citeseer.y\n",
            "Downloading https://github.com/kimiyoung/planetoid/raw/master/data/ind.citeseer.ty\n",
            "Downloading https://github.com/kimiyoung/planetoid/raw/master/data/ind.citeseer.ally\n",
            "Downloading https://github.com/kimiyoung/planetoid/raw/master/data/ind.citeseer.graph\n",
            "Downloading https://github.com/kimiyoung/planetoid/raw/master/data/ind.citeseer.test.index\n",
            "Processing...\n",
            "Done!\n",
            "Val Loss: 0.9275, Test Accuracy: 0.717 ± 0.003, Duration: 37.392, Train Loss: 0.1408\n"
          ],
          "name": "stdout"
        }
      ]
    },
    {
      "cell_type": "code",
      "metadata": {
        "colab": {
          "base_uri": "https://localhost:8080/"
        },
        "id": "BcaENKFuKaNs",
        "outputId": "1b201f06-9d13-4366-d187-41f5ef133f11"
      },
      "source": [
        "!cd pytorch_geometric/benchmark/citation && python gcn.py --dataset=PubMed --epochs=10000"
      ],
      "execution_count": null,
      "outputs": [
        {
          "output_type": "stream",
          "text": [
            "Downloading https://github.com/kimiyoung/planetoid/raw/master/data/ind.pubmed.x\n",
            "Downloading https://github.com/kimiyoung/planetoid/raw/master/data/ind.pubmed.tx\n",
            "Downloading https://github.com/kimiyoung/planetoid/raw/master/data/ind.pubmed.allx\n",
            "Downloading https://github.com/kimiyoung/planetoid/raw/master/data/ind.pubmed.y\n",
            "Downloading https://github.com/kimiyoung/planetoid/raw/master/data/ind.pubmed.ty\n",
            "Downloading https://github.com/kimiyoung/planetoid/raw/master/data/ind.pubmed.ally\n",
            "Downloading https://github.com/kimiyoung/planetoid/raw/master/data/ind.pubmed.graph\n",
            "Downloading https://github.com/kimiyoung/planetoid/raw/master/data/ind.pubmed.test.index\n",
            "Processing...\n",
            "Done!\n",
            "Val Loss: 0.5388, Test Accuracy: 0.791 ± 0.004, Duration: 38.210, Train Loss: 0.0563\n"
          ],
          "name": "stdout"
        }
      ]
    },
    {
      "cell_type": "markdown",
      "metadata": {
        "id": "n1MO6iYhgsFw"
      },
      "source": [
        "## Teste com 0.6 dropout rate"
      ]
    },
    {
      "cell_type": "code",
      "metadata": {
        "colab": {
          "base_uri": "https://localhost:8080/"
        },
        "id": "7_GyILwaguIB",
        "outputId": "85a164c5-abf4-4240-f390-25183d1233f3"
      },
      "source": [
        "!cd pytorch_geometric/benchmark/citation && python gcn.py --dataset=Cora --dropout=0.6"
      ],
      "execution_count": null,
      "outputs": [
        {
          "output_type": "stream",
          "text": [
            "Val Loss: 0.8892, Test Accuracy: 0.814 ± 0.006, Duration: 0.847, Train Loss: 0.3312\n"
          ],
          "name": "stdout"
        }
      ]
    },
    {
      "cell_type": "code",
      "metadata": {
        "colab": {
          "base_uri": "https://localhost:8080/"
        },
        "id": "U70_deMXguUA",
        "outputId": "7e3fd012-dd33-481c-f22f-e6ef2d768f18"
      },
      "source": [
        "!cd pytorch_geometric/benchmark/citation && python gcn.py --dataset=CiteSeer --dropout=0.6"
      ],
      "execution_count": null,
      "outputs": [
        {
          "output_type": "stream",
          "text": [
            "Val Loss: 1.1183, Test Accuracy: 0.710 ± 0.008, Duration: 0.981, Train Loss: 0.4361\n"
          ],
          "name": "stdout"
        }
      ]
    },
    {
      "cell_type": "code",
      "metadata": {
        "colab": {
          "base_uri": "https://localhost:8080/"
        },
        "id": "gDwMhWRVgukh",
        "outputId": "4cf50d4d-46cf-4111-ad07-503e63fb6e57"
      },
      "source": [
        "!cd pytorch_geometric/benchmark/citation && python gcn.py --dataset=PubMed --dropout=0.6"
      ],
      "execution_count": null,
      "outputs": [
        {
          "output_type": "stream",
          "text": [
            "Val Loss: 0.5993, Test Accuracy: 0.787 ± 0.006, Duration: 0.708, Train Loss: 0.2085\n"
          ],
          "name": "stdout"
        }
      ]
    },
    {
      "cell_type": "markdown",
      "metadata": {
        "id": "MpmPg1H2YedJ"
      },
      "source": [
        "## Teste com 0.7 dropout rate\n"
      ]
    },
    {
      "cell_type": "code",
      "metadata": {
        "colab": {
          "base_uri": "https://localhost:8080/"
        },
        "id": "aD2gUgCmYi1k",
        "outputId": "fb711b04-ff3d-4a63-d8c5-b284265cc130"
      },
      "source": [
        "!cd pytorch_geometric/benchmark/citation && python gcn.py --dataset=Cora --dropout=0.7"
      ],
      "execution_count": null,
      "outputs": [
        {
          "output_type": "stream",
          "text": [
            "Val Loss: 0.9162, Test Accuracy: 0.816 ± 0.007, Duration: 1.133, Train Loss: 0.3644\n"
          ],
          "name": "stdout"
        }
      ]
    },
    {
      "cell_type": "code",
      "metadata": {
        "colab": {
          "base_uri": "https://localhost:8080/"
        },
        "id": "QM6YJ-3VbmuG",
        "outputId": "74f7f67a-7403-429d-c929-9e2eeed542fb"
      },
      "source": [
        "!cd pytorch_geometric/benchmark/citation && python gcn.py --dataset=CiteSeer --dropout=0.7"
      ],
      "execution_count": null,
      "outputs": [
        {
          "output_type": "stream",
          "text": [
            "Val Loss: 1.1484, Test Accuracy: 0.708 ± 0.009, Duration: 1.344, Train Loss: 0.4945\n"
          ],
          "name": "stdout"
        }
      ]
    },
    {
      "cell_type": "code",
      "metadata": {
        "colab": {
          "base_uri": "https://localhost:8080/"
        },
        "id": "pKs9y8MZcyXC",
        "outputId": "e3788479-95d2-4db9-8401-07b3f6b2b034"
      },
      "source": [
        "!cd pytorch_geometric/benchmark/citation && python gcn.py --dataset=PubMed --dropout=0.7"
      ],
      "execution_count": null,
      "outputs": [
        {
          "output_type": "stream",
          "text": [
            "Val Loss: 0.6089, Test Accuracy: 0.786 ± 0.007, Duration: 0.929, Train Loss: 0.2258\n"
          ],
          "name": "stdout"
        }
      ]
    },
    {
      "cell_type": "markdown",
      "metadata": {
        "id": "OMvGWxzkdxab"
      },
      "source": [
        "## Teste com 0.8 dropout rate"
      ]
    },
    {
      "cell_type": "code",
      "metadata": {
        "colab": {
          "base_uri": "https://localhost:8080/"
        },
        "id": "s3ZX8EWMd1Qs",
        "outputId": "957df703-5934-45b7-af63-b9f8b26a3bf8"
      },
      "source": [
        "!cd pytorch_geometric/benchmark/citation && python gcn.py --dataset=Cora --dropout=0.8"
      ],
      "execution_count": null,
      "outputs": [
        {
          "output_type": "stream",
          "text": [
            "Val Loss: 0.9686, Test Accuracy: 0.817 ± 0.007, Duration: 1.230, Train Loss: 0.4391\n"
          ],
          "name": "stdout"
        }
      ]
    },
    {
      "cell_type": "code",
      "metadata": {
        "colab": {
          "base_uri": "https://localhost:8080/"
        },
        "id": "GD8UA-mVescF",
        "outputId": "9e8221cf-2380-4437-cd58-7d20723242f7"
      },
      "source": [
        "!cd pytorch_geometric/benchmark/citation && python gcn.py --dataset=CiteSeer --dropout=0.8"
      ],
      "execution_count": null,
      "outputs": [
        {
          "output_type": "stream",
          "text": [
            "Downloading https://github.com/kimiyoung/planetoid/raw/master/data/ind.citeseer.x\n",
            "Downloading https://github.com/kimiyoung/planetoid/raw/master/data/ind.citeseer.tx\n",
            "Downloading https://github.com/kimiyoung/planetoid/raw/master/data/ind.citeseer.allx\n",
            "Downloading https://github.com/kimiyoung/planetoid/raw/master/data/ind.citeseer.y\n",
            "Downloading https://github.com/kimiyoung/planetoid/raw/master/data/ind.citeseer.ty\n",
            "Downloading https://github.com/kimiyoung/planetoid/raw/master/data/ind.citeseer.ally\n",
            "Downloading https://github.com/kimiyoung/planetoid/raw/master/data/ind.citeseer.graph\n",
            "Downloading https://github.com/kimiyoung/planetoid/raw/master/data/ind.citeseer.test.index\n",
            "Processing...\n",
            "Done!\n",
            "Val Loss: 1.2109, Test Accuracy: 0.705 ± 0.009, Duration: 1.426, Train Loss: 0.6208\n"
          ],
          "name": "stdout"
        }
      ]
    },
    {
      "cell_type": "code",
      "metadata": {
        "colab": {
          "base_uri": "https://localhost:8080/"
        },
        "id": "nSOIBS3CgAJT",
        "outputId": "57ba2fb4-f771-44c0-bc58-d34e6e9b918a"
      },
      "source": [
        "!cd pytorch_geometric/benchmark/citation && python gcn.py --dataset=PubMed --dropout=0.8"
      ],
      "execution_count": null,
      "outputs": [
        {
          "output_type": "stream",
          "text": [
            "Downloading https://github.com/kimiyoung/planetoid/raw/master/data/ind.pubmed.x\n",
            "Downloading https://github.com/kimiyoung/planetoid/raw/master/data/ind.pubmed.tx\n",
            "Downloading https://github.com/kimiyoung/planetoid/raw/master/data/ind.pubmed.allx\n",
            "Downloading https://github.com/kimiyoung/planetoid/raw/master/data/ind.pubmed.y\n",
            "Downloading https://github.com/kimiyoung/planetoid/raw/master/data/ind.pubmed.ty\n",
            "Downloading https://github.com/kimiyoung/planetoid/raw/master/data/ind.pubmed.ally\n",
            "Downloading https://github.com/kimiyoung/planetoid/raw/master/data/ind.pubmed.graph\n",
            "Downloading https://github.com/kimiyoung/planetoid/raw/master/data/ind.pubmed.test.index\n",
            "Processing...\n",
            "Done!\n",
            "Val Loss: 0.6298, Test Accuracy: 0.783 ± 0.007, Duration: 0.972, Train Loss: 0.2666\n"
          ],
          "name": "stdout"
        }
      ]
    },
    {
      "cell_type": "markdown",
      "metadata": {
        "id": "-RXCeJ_ZamWr"
      },
      "source": [
        "## Teste com 0.9 dropout rate"
      ]
    },
    {
      "cell_type": "code",
      "metadata": {
        "colab": {
          "base_uri": "https://localhost:8080/"
        },
        "id": "ZtPrEP1Tau0p",
        "outputId": "4c79f83a-cdd0-4649-9355-e5000c5d3280"
      },
      "source": [
        "!cd pytorch_geometric/benchmark/citation && python gcn.py --dataset=Cora --dropout=0.9"
      ],
      "execution_count": null,
      "outputs": [
        {
          "output_type": "stream",
          "text": [
            "Downloading https://github.com/kimiyoung/planetoid/raw/master/data/ind.cora.x\n",
            "Downloading https://github.com/kimiyoung/planetoid/raw/master/data/ind.cora.tx\n",
            "Downloading https://github.com/kimiyoung/planetoid/raw/master/data/ind.cora.allx\n",
            "Downloading https://github.com/kimiyoung/planetoid/raw/master/data/ind.cora.y\n",
            "Downloading https://github.com/kimiyoung/planetoid/raw/master/data/ind.cora.ty\n",
            "Downloading https://github.com/kimiyoung/planetoid/raw/master/data/ind.cora.ally\n",
            "Downloading https://github.com/kimiyoung/planetoid/raw/master/data/ind.cora.graph\n",
            "Downloading https://github.com/kimiyoung/planetoid/raw/master/data/ind.cora.test.index\n",
            "Processing...\n",
            "Done!\n",
            "Val Loss: 1.1705, Test Accuracy: 0.815 ± 0.011, Duration: 0.923, Train Loss: 0.7297\n"
          ],
          "name": "stdout"
        }
      ]
    },
    {
      "cell_type": "code",
      "metadata": {
        "colab": {
          "base_uri": "https://localhost:8080/"
        },
        "id": "gn409EvLjzfL",
        "outputId": "0ff373be-b275-4e84-f2af-069e916bb5e2"
      },
      "source": [
        "!cd pytorch_geometric/benchmark/citation && python gcn.py --dataset=CiteSeer --dropout=0.9"
      ],
      "execution_count": null,
      "outputs": [
        {
          "output_type": "stream",
          "text": [
            "Downloading https://github.com/kimiyoung/planetoid/raw/master/data/ind.citeseer.x\n",
            "Downloading https://github.com/kimiyoung/planetoid/raw/master/data/ind.citeseer.tx\n",
            "Downloading https://github.com/kimiyoung/planetoid/raw/master/data/ind.citeseer.allx\n",
            "Downloading https://github.com/kimiyoung/planetoid/raw/master/data/ind.citeseer.y\n",
            "Downloading https://github.com/kimiyoung/planetoid/raw/master/data/ind.citeseer.ty\n",
            "Downloading https://github.com/kimiyoung/planetoid/raw/master/data/ind.citeseer.ally\n",
            "Downloading https://github.com/kimiyoung/planetoid/raw/master/data/ind.citeseer.graph\n",
            "Downloading https://github.com/kimiyoung/planetoid/raw/master/data/ind.citeseer.test.index\n",
            "Processing...\n",
            "Done!\n",
            "Val Loss: 1.4045, Test Accuracy: 0.698 ± 0.017, Duration: 0.933, Train Loss: 1.0100\n"
          ],
          "name": "stdout"
        }
      ]
    },
    {
      "cell_type": "code",
      "metadata": {
        "colab": {
          "base_uri": "https://localhost:8080/"
        },
        "id": "cfco7wFimTKd",
        "outputId": "4e06c4be-b7c4-467a-f0f5-50383ae0fa97"
      },
      "source": [
        "!cd pytorch_geometric/benchmark/citation && python gcn.py --dataset=PubMed --dropout=0.9"
      ],
      "execution_count": null,
      "outputs": [
        {
          "output_type": "stream",
          "text": [
            "Downloading https://github.com/kimiyoung/planetoid/raw/master/data/ind.pubmed.x\n",
            "Downloading https://github.com/kimiyoung/planetoid/raw/master/data/ind.pubmed.tx\n",
            "Downloading https://github.com/kimiyoung/planetoid/raw/master/data/ind.pubmed.allx\n",
            "Downloading https://github.com/kimiyoung/planetoid/raw/master/data/ind.pubmed.y\n",
            "Downloading https://github.com/kimiyoung/planetoid/raw/master/data/ind.pubmed.ty\n",
            "Downloading https://github.com/kimiyoung/planetoid/raw/master/data/ind.pubmed.ally\n",
            "Downloading https://github.com/kimiyoung/planetoid/raw/master/data/ind.pubmed.graph\n",
            "Downloading https://github.com/kimiyoung/planetoid/raw/master/data/ind.pubmed.test.index\n",
            "Processing...\n",
            "Done!\n",
            "Val Loss: 0.6896, Test Accuracy: 0.776 ± 0.011, Duration: 0.770, Train Loss: 0.3768\n"
          ],
          "name": "stdout"
        }
      ]
    },
    {
      "cell_type": "markdown",
      "metadata": {
        "id": "qpwL9fjoHwiP"
      },
      "source": [
        "# GAT\n"
      ]
    },
    {
      "cell_type": "markdown",
      "metadata": {
        "id": "RxK-jbffIYkc"
      },
      "source": [
        "## Testes Função de ativação ReLU"
      ]
    },
    {
      "cell_type": "code",
      "metadata": {
        "colab": {
          "base_uri": "https://localhost:8080/"
        },
        "id": "lR4fwfuTIahG",
        "outputId": "a0214578-bfdb-455b-88ea-4ca4f24afdce"
      },
      "source": [
        "!cd pytorch_geometric/benchmark/citation && python gat.py --dataset=Cora"
      ],
      "execution_count": null,
      "outputs": [
        {
          "output_type": "stream",
          "text": [
            "Val Loss: 0.7293, Test Accuracy: 0.831 ± 0.005, Duration: 3.715, Train Loss: 0.2299\n"
          ],
          "name": "stdout"
        }
      ]
    },
    {
      "cell_type": "code",
      "metadata": {
        "colab": {
          "base_uri": "https://localhost:8080/"
        },
        "id": "cxyQWorpNXL5",
        "outputId": "d9806b1f-b6a6-4d6e-9571-3fa299c1fa4f"
      },
      "source": [
        "!cd pytorch_geometric/benchmark/citation && python gat.py --dataset=CiteSeer"
      ],
      "execution_count": null,
      "outputs": [
        {
          "output_type": "stream",
          "text": [
            "Val Loss: 1.0376, Test Accuracy: 0.712 ± 0.005, Duration: 4.299, Train Loss: 0.3614\n"
          ],
          "name": "stdout"
        }
      ]
    },
    {
      "cell_type": "code",
      "metadata": {
        "id": "c9ngZzqgQwgt"
      },
      "source": [
        "!cd pytorch_geometric/benchmark/citation && python gat.py --dataset=PubMed --lr=0.01 --weight_decay=0.001 --output_heads=8"
      ],
      "execution_count": null,
      "outputs": []
    },
    {
      "cell_type": "markdown",
      "metadata": {
        "id": "YzCeKLEWxz1x"
      },
      "source": [
        "## Testes função de ativação ELU "
      ]
    },
    {
      "cell_type": "code",
      "metadata": {
        "colab": {
          "base_uri": "https://localhost:8080/"
        },
        "id": "LzmwlahAxz1x",
        "outputId": "4f9aa244-b791-4b9f-e4e9-507104537b5a"
      },
      "source": [
        "!cd pytorch_geometric/benchmark/citation && python gat.py --dataset=Cora "
      ],
      "execution_count": null,
      "outputs": [
        {
          "output_type": "stream",
          "text": [
            "Val Loss: 0.7000, Test Accuracy: 0.831 ± 0.005, Duration: 5.219, Train Loss: 0.1862\n"
          ],
          "name": "stdout"
        }
      ]
    },
    {
      "cell_type": "code",
      "metadata": {
        "colab": {
          "base_uri": "https://localhost:8080/"
        },
        "id": "bq50mhqqxz1y",
        "outputId": "ae138636-9744-4c94-bebd-72b7790fb30d"
      },
      "source": [
        "!cd pytorch_geometric/benchmark/citation && python gat.py --dataset=CiteSeer"
      ],
      "execution_count": null,
      "outputs": [
        {
          "output_type": "stream",
          "text": [
            "Val Loss: 0.9926, Test Accuracy: 0.708 ± 0.005, Duration: 5.617, Train Loss: 0.2818\n"
          ],
          "name": "stdout"
        }
      ]
    },
    {
      "cell_type": "code",
      "metadata": {
        "colab": {
          "base_uri": "https://localhost:8080/"
        },
        "id": "6-n7CGkAxz1y",
        "outputId": "b0c18c98-8760-4893-e80b-2f06dc2b11b6"
      },
      "source": [
        "!cd pytorch_geometric/benchmark/citation && python gat.py --dataset=PubMed --lr=0.01 --weight_decay=0.001 --output_heads=8"
      ],
      "execution_count": null,
      "outputs": [
        {
          "output_type": "stream",
          "text": [
            "Val Loss: 0.5954, Test Accuracy: 0.790 ± 0.003, Duration: 8.038, Train Loss: 0.2767\n"
          ],
          "name": "stdout"
        }
      ]
    },
    {
      "cell_type": "markdown",
      "metadata": {
        "id": "v-eEe1UAbNrA"
      },
      "source": [
        "## 1000 epochs"
      ]
    },
    {
      "cell_type": "code",
      "metadata": {
        "colab": {
          "base_uri": "https://localhost:8080/"
        },
        "id": "4sCc3v1EbPle",
        "outputId": "52ddde9f-fe8e-4ba3-eb06-311b0e2cb155"
      },
      "source": [
        "!cd pytorch_geometric/benchmark/citation && python gat.py --dataset=Cora --epochs=1000"
      ],
      "execution_count": null,
      "outputs": [
        {
          "output_type": "stream",
          "text": [
            "Downloading https://github.com/kimiyoung/planetoid/raw/master/data/ind.cora.x\n",
            "Downloading https://github.com/kimiyoung/planetoid/raw/master/data/ind.cora.tx\n",
            "Downloading https://github.com/kimiyoung/planetoid/raw/master/data/ind.cora.allx\n",
            "Downloading https://github.com/kimiyoung/planetoid/raw/master/data/ind.cora.y\n",
            "Downloading https://github.com/kimiyoung/planetoid/raw/master/data/ind.cora.ty\n",
            "Downloading https://github.com/kimiyoung/planetoid/raw/master/data/ind.cora.ally\n",
            "Downloading https://github.com/kimiyoung/planetoid/raw/master/data/ind.cora.graph\n",
            "Downloading https://github.com/kimiyoung/planetoid/raw/master/data/ind.cora.test.index\n",
            "Processing...\n",
            "Done!\n",
            "Val Loss: 0.7013, Test Accuracy: 0.831 ± 0.004, Duration: 4.855, Train Loss: 0.1868\n"
          ],
          "name": "stdout"
        }
      ]
    },
    {
      "cell_type": "code",
      "metadata": {
        "colab": {
          "base_uri": "https://localhost:8080/"
        },
        "id": "o4kelWE6g_cm",
        "outputId": "a1601f74-f25c-4dba-ce47-a88dd27b6719"
      },
      "source": [
        "!cd pytorch_geometric/benchmark/citation && python gat.py --dataset=CiteSeer --epochs=1000"
      ],
      "execution_count": null,
      "outputs": [
        {
          "output_type": "stream",
          "text": [
            "Downloading https://github.com/kimiyoung/planetoid/raw/master/data/ind.citeseer.x\n",
            "Downloading https://github.com/kimiyoung/planetoid/raw/master/data/ind.citeseer.tx\n",
            "Downloading https://github.com/kimiyoung/planetoid/raw/master/data/ind.citeseer.allx\n",
            "Downloading https://github.com/kimiyoung/planetoid/raw/master/data/ind.citeseer.y\n",
            "Downloading https://github.com/kimiyoung/planetoid/raw/master/data/ind.citeseer.ty\n",
            "Downloading https://github.com/kimiyoung/planetoid/raw/master/data/ind.citeseer.ally\n",
            "Downloading https://github.com/kimiyoung/planetoid/raw/master/data/ind.citeseer.graph\n",
            "Downloading https://github.com/kimiyoung/planetoid/raw/master/data/ind.citeseer.test.index\n",
            "Processing...\n",
            "Done!\n",
            "Val Loss: 0.9918, Test Accuracy: 0.708 ± 0.005, Duration: 5.319, Train Loss: 0.2808\n"
          ],
          "name": "stdout"
        }
      ]
    },
    {
      "cell_type": "code",
      "metadata": {
        "colab": {
          "base_uri": "https://localhost:8080/"
        },
        "id": "Jp8hmHQJrpcp",
        "outputId": "b8c0e594-30ec-4310-d240-b92f439e3503"
      },
      "source": [
        "!cd pytorch_geometric/benchmark/citation && python gat.py --dataset=PubMed --lr=0.01 --weight_decay=0.001 --output_heads=8 --epochs=1000"
      ],
      "execution_count": null,
      "outputs": [
        {
          "output_type": "stream",
          "text": [
            "Downloading https://github.com/kimiyoung/planetoid/raw/master/data/ind.pubmed.x\n",
            "Downloading https://github.com/kimiyoung/planetoid/raw/master/data/ind.pubmed.tx\n",
            "Downloading https://github.com/kimiyoung/planetoid/raw/master/data/ind.pubmed.allx\n",
            "Downloading https://github.com/kimiyoung/planetoid/raw/master/data/ind.pubmed.y\n",
            "Downloading https://github.com/kimiyoung/planetoid/raw/master/data/ind.pubmed.ty\n",
            "Downloading https://github.com/kimiyoung/planetoid/raw/master/data/ind.pubmed.ally\n",
            "Downloading https://github.com/kimiyoung/planetoid/raw/master/data/ind.pubmed.graph\n",
            "Downloading https://github.com/kimiyoung/planetoid/raw/master/data/ind.pubmed.test.index\n",
            "Processing...\n",
            "Done!\n",
            "Val Loss: 0.5959, Test Accuracy: 0.790 ± 0.004, Duration: 8.048, Train Loss: 0.2783\n"
          ],
          "name": "stdout"
        }
      ]
    },
    {
      "cell_type": "markdown",
      "metadata": {
        "id": "h7IQnBTmAr7i"
      },
      "source": [
        "## 2000 epochs"
      ]
    },
    {
      "cell_type": "code",
      "metadata": {
        "colab": {
          "base_uri": "https://localhost:8080/"
        },
        "id": "Wln3YmZqAvuf",
        "outputId": "cc4f53ba-77b2-4ee1-f2ed-20c89054d17a"
      },
      "source": [
        "!cd pytorch_geometric/benchmark/citation && python gat.py --dataset=Cora --epochs=2000"
      ],
      "execution_count": null,
      "outputs": [
        {
          "output_type": "stream",
          "text": [
            "Val Loss: 0.6738, Test Accuracy: 0.832 ± 0.004, Duration: 10.122, Train Loss: 0.1577\n"
          ],
          "name": "stdout"
        }
      ]
    },
    {
      "cell_type": "code",
      "metadata": {
        "colab": {
          "base_uri": "https://localhost:8080/"
        },
        "id": "LUF7JsI_fBRR",
        "outputId": "703a4aa8-fa13-45a7-c70a-9cd5dc75b4a4"
      },
      "source": [
        "!cd pytorch_geometric/benchmark/citation && python gat.py --dataset=CiteSeer --epochs=2000"
      ],
      "execution_count": null,
      "outputs": [
        {
          "output_type": "stream",
          "text": [
            "Val Loss: 0.9700, Test Accuracy: 0.708 ± 0.005, Duration: 10.902, Train Loss: 0.2443\n"
          ],
          "name": "stdout"
        }
      ]
    },
    {
      "cell_type": "code",
      "metadata": {
        "colab": {
          "base_uri": "https://localhost:8080/"
        },
        "id": "-dsuqgkMk5hL",
        "outputId": "6d67d776-72bd-4e76-8124-ceb41c8c5a72"
      },
      "source": [
        "!cd pytorch_geometric/benchmark/citation && python gat.py --dataset=PubMed --lr=0.01 --weight_decay=0.001 --output_heads=8 --epochs=2000"
      ],
      "execution_count": null,
      "outputs": [
        {
          "output_type": "stream",
          "text": [
            "Val Loss: 0.5958, Test Accuracy: 0.790 ± 0.003, Duration: 16.187, Train Loss: 0.2775\n"
          ],
          "name": "stdout"
        }
      ]
    },
    {
      "cell_type": "markdown",
      "metadata": {
        "id": "sbmXUk_IHg_5"
      },
      "source": [
        "## 3000 epochs"
      ]
    },
    {
      "cell_type": "code",
      "metadata": {
        "colab": {
          "base_uri": "https://localhost:8080/"
        },
        "id": "CHe1lQ5DHlxy",
        "outputId": "efdda16e-96dc-4d82-ddb5-86fe11a08654"
      },
      "source": [
        "!cd pytorch_geometric/benchmark/citation && python gat.py --dataset=Cora --epochs=3000"
      ],
      "execution_count": null,
      "outputs": [
        {
          "output_type": "stream",
          "text": [
            "Val Loss: 0.6677, Test Accuracy: 0.833 ± 0.004, Duration: 15.542, Train Loss: 0.1534\n"
          ],
          "name": "stdout"
        }
      ]
    },
    {
      "cell_type": "code",
      "metadata": {
        "colab": {
          "base_uri": "https://localhost:8080/"
        },
        "id": "Bznk9QR0PbzV",
        "outputId": "356a9663-8833-44ce-fdc4-ebf3e318861e"
      },
      "source": [
        "!cd pytorch_geometric/benchmark/citation && python gat.py --dataset=CiteSeer --epochs=3000"
      ],
      "execution_count": null,
      "outputs": [
        {
          "output_type": "stream",
          "text": [
            "Val Loss: 0.9654, Test Accuracy: 0.710 ± 0.005, Duration: 16.879, Train Loss: 0.2394\n"
          ],
          "name": "stdout"
        }
      ]
    },
    {
      "cell_type": "code",
      "metadata": {
        "colab": {
          "base_uri": "https://localhost:8080/"
        },
        "id": "QmMtWrXZWMeT",
        "outputId": "e570fdcd-5812-451e-90bd-58c93d8ee074"
      },
      "source": [
        "!cd pytorch_geometric/benchmark/citation && python gat.py --dataset=PubMed --lr=0.01 --weight_decay=0.001 --output_heads=8 --epochs=3000"
      ],
      "execution_count": null,
      "outputs": [
        {
          "output_type": "stream",
          "text": [
            "Val Loss: 0.5957, Test Accuracy: 0.790 ± 0.003, Duration: 24.141, Train Loss: 0.2771\n"
          ],
          "name": "stdout"
        }
      ]
    },
    {
      "cell_type": "markdown",
      "metadata": {
        "id": "gM1oNmC4j_0G"
      },
      "source": [
        "## 5000 epochs"
      ]
    },
    {
      "cell_type": "code",
      "metadata": {
        "colab": {
          "base_uri": "https://localhost:8080/"
        },
        "id": "ihlcbvP9kCnZ",
        "outputId": "01954974-e328-4e85-8cb7-e55c4534c25a"
      },
      "source": [
        "!cd pytorch_geometric/benchmark/citation && python gat.py --dataset=Cora --epochs=5000"
      ],
      "execution_count": null,
      "outputs": [
        {
          "output_type": "stream",
          "text": [
            "Val Loss: 0.6646, Test Accuracy: 0.833 ± 0.004, Duration: 24.659, Train Loss: 0.1515\n"
          ],
          "name": "stdout"
        }
      ]
    },
    {
      "cell_type": "code",
      "metadata": {
        "colab": {
          "base_uri": "https://localhost:8080/"
        },
        "id": "MKFZ1Hxe2alG",
        "outputId": "87b5fd5f-8327-4cc2-ddea-cb4a744e2ed4"
      },
      "source": [
        "!cd pytorch_geometric/benchmark/citation && python gat.py --dataset=CiteSeer --epochs=5000"
      ],
      "execution_count": null,
      "outputs": [
        {
          "output_type": "stream",
          "text": [
            "Val Loss: 0.9621, Test Accuracy: 0.710 ± 0.005, Duration: 27.869, Train Loss: 0.2370\n"
          ],
          "name": "stdout"
        }
      ]
    },
    {
      "cell_type": "code",
      "metadata": {
        "colab": {
          "base_uri": "https://localhost:8080/"
        },
        "id": "9YThqJyqqxvD",
        "outputId": "857f0294-426a-4b08-8101-154091ce16f6"
      },
      "source": [
        "!cd pytorch_geometric/benchmark/citation && python gat.py --dataset=PubMed --lr=0.01 --weight_decay=0.001 --output_heads=8 --epochs=5000"
      ],
      "execution_count": null,
      "outputs": [
        {
          "output_type": "stream",
          "text": [
            "Val Loss: 0.5952, Test Accuracy: 0.791 ± 0.003, Duration: 62.961, Train Loss: 0.2775\n"
          ],
          "name": "stdout"
        }
      ]
    },
    {
      "cell_type": "markdown",
      "metadata": {
        "id": "s8KCCLnZIjpR"
      },
      "source": [
        "## 10000 epochs"
      ]
    },
    {
      "cell_type": "code",
      "metadata": {
        "colab": {
          "base_uri": "https://localhost:8080/"
        },
        "id": "lTMC-ndlInDL",
        "outputId": "cc6d765e-68ee-468d-d323-a8e607227112"
      },
      "source": [
        "!cd pytorch_geometric/benchmark/citation && python gat.py --dataset=Cora --epochs=10000"
      ],
      "execution_count": null,
      "outputs": [
        {
          "output_type": "stream",
          "text": [
            "Val Loss: 0.6606, Test Accuracy: 0.835 ± 0.004, Duration: 51.867, Train Loss: 0.1510\n"
          ],
          "name": "stdout"
        }
      ]
    },
    {
      "cell_type": "code",
      "metadata": {
        "colab": {
          "base_uri": "https://localhost:8080/"
        },
        "id": "MWjVcf8vIqBP",
        "outputId": "a66873ad-e69e-4dd5-a554-c5451805cab2"
      },
      "source": [
        "!cd pytorch_geometric/benchmark/citation && python gat.py --dataset=CiteSeer --epochs=10000"
      ],
      "execution_count": null,
      "outputs": [
        {
          "output_type": "stream",
          "text": [
            "Val Loss: 0.9593, Test Accuracy: 0.711 ± 0.005, Duration: 54.284, Train Loss: 0.2370\n"
          ],
          "name": "stdout"
        }
      ]
    },
    {
      "cell_type": "code",
      "metadata": {
        "colab": {
          "base_uri": "https://localhost:8080/"
        },
        "id": "931syoi7IsSd",
        "outputId": "1105eedf-4782-47a2-d6ea-30cbe2041f96"
      },
      "source": [
        "!cd pytorch_geometric/benchmark/citation && python gat.py --dataset=PubMed --lr=0.01 --weight_decay=0.001 --output_heads=8 --epochs=10000"
      ],
      "execution_count": null,
      "outputs": [
        {
          "output_type": "stream",
          "text": [
            "Downloading https://github.com/kimiyoung/planetoid/raw/master/data/ind.pubmed.x\n",
            "Downloading https://github.com/kimiyoung/planetoid/raw/master/data/ind.pubmed.tx\n",
            "Downloading https://github.com/kimiyoung/planetoid/raw/master/data/ind.pubmed.allx\n",
            "Downloading https://github.com/kimiyoung/planetoid/raw/master/data/ind.pubmed.y\n",
            "Downloading https://github.com/kimiyoung/planetoid/raw/master/data/ind.pubmed.ty\n",
            "Downloading https://github.com/kimiyoung/planetoid/raw/master/data/ind.pubmed.ally\n",
            "Downloading https://github.com/kimiyoung/planetoid/raw/master/data/ind.pubmed.graph\n",
            "Downloading https://github.com/kimiyoung/planetoid/raw/master/data/ind.pubmed.test.index\n",
            "Processing...\n",
            "Done!\n",
            "Val Loss: 0.5956, Test Accuracy: 0.791 ± 0.004, Duration: 78.525, Train Loss: 0.2771\n"
          ],
          "name": "stdout"
        }
      ]
    },
    {
      "cell_type": "markdown",
      "metadata": {
        "id": "j6zzC06LgiLq"
      },
      "source": [
        "## Teste com 0.6 dropout rate"
      ]
    },
    {
      "cell_type": "code",
      "metadata": {
        "colab": {
          "base_uri": "https://localhost:8080/"
        },
        "id": "v_5kFEcSgkZ4",
        "outputId": "5f80688d-76dd-498a-8b7f-ba6c25c5721a"
      },
      "source": [
        "!cd pytorch_geometric/benchmark/citation && python gat.py --dataset=Cora --dropout=0.6 "
      ],
      "execution_count": null,
      "outputs": [
        {
          "output_type": "stream",
          "text": [
            "Val Loss: 0.6993, Test Accuracy: 0.831 ± 0.004, Duration: 3.686, Train Loss: 0.1863\n"
          ],
          "name": "stdout"
        }
      ]
    },
    {
      "cell_type": "code",
      "metadata": {
        "colab": {
          "base_uri": "https://localhost:8080/"
        },
        "id": "uvY59Uvegkmo",
        "outputId": "90dfbc1e-1514-4a7f-8231-4424fc9d5372"
      },
      "source": [
        "!cd pytorch_geometric/benchmark/citation && python gat.py --dataset=CiteSeer --dropout=0.6 "
      ],
      "execution_count": null,
      "outputs": [
        {
          "output_type": "stream",
          "text": [
            "Val Loss: 0.9912, Test Accuracy: 0.708 ± 0.006, Duration: 4.211, Train Loss: 0.2807\n"
          ],
          "name": "stdout"
        }
      ]
    },
    {
      "cell_type": "code",
      "metadata": {
        "colab": {
          "base_uri": "https://localhost:8080/"
        },
        "id": "ptwpA87Sgk09",
        "outputId": "b82835ec-8b7e-4201-8671-2c6c3e5220cf"
      },
      "source": [
        "!cd pytorch_geometric/benchmark/citation && python gat.py --dataset=PubMed --lr=0.01 --weight_decay=0.001 --output_heads=8 --dropout=0.6 "
      ],
      "execution_count": null,
      "outputs": [
        {
          "output_type": "stream",
          "text": [
            "Val Loss: 0.5961, Test Accuracy: 0.790 ± 0.004, Duration: 6.552, Train Loss: 0.2785\n"
          ],
          "name": "stdout"
        }
      ]
    },
    {
      "cell_type": "markdown",
      "metadata": {
        "id": "xLjommQOhBQ-"
      },
      "source": [
        "## Teste com 0.7 dropout rate\n"
      ]
    },
    {
      "cell_type": "code",
      "metadata": {
        "colab": {
          "base_uri": "https://localhost:8080/"
        },
        "id": "GmQypcM-hGj3",
        "outputId": "f5271d25-3f96-4c90-a5b1-f9f4a84d7801"
      },
      "source": [
        "!cd pytorch_geometric/benchmark/citation && python gat.py --dataset=Cora --dropout=0.7 "
      ],
      "execution_count": null,
      "outputs": [
        {
          "output_type": "stream",
          "text": [
            "Val Loss: 0.8117, Test Accuracy: 0.830 ± 0.005, Duration: 5.034, Train Loss: 0.3139\n"
          ],
          "name": "stdout"
        }
      ]
    },
    {
      "cell_type": "code",
      "metadata": {
        "colab": {
          "base_uri": "https://localhost:8080/"
        },
        "id": "B4A_766chy-3",
        "outputId": "979447b9-4168-40b9-c1e7-fb4b04f16cba"
      },
      "source": [
        "!cd pytorch_geometric/benchmark/citation && python gat.py --dataset=CiteSeer --dropout=0.7 "
      ],
      "execution_count": null,
      "outputs": [
        {
          "output_type": "stream",
          "text": [
            "Val Loss: 1.0945, Test Accuracy: 0.710 ± 0.006, Duration: 5.508, Train Loss: 0.4335\n"
          ],
          "name": "stdout"
        }
      ]
    },
    {
      "cell_type": "code",
      "metadata": {
        "colab": {
          "base_uri": "https://localhost:8080/"
        },
        "id": "bLlA8SifsvBW",
        "outputId": "4840d350-638e-43bd-d194-73d9eba636cd"
      },
      "source": [
        "!cd pytorch_geometric/benchmark/citation && python gat.py --dataset=PubMed --lr=0.01 --weight_decay=0.001 --output_heads=8 --dropout=0.7 "
      ],
      "execution_count": null,
      "outputs": [
        {
          "output_type": "stream",
          "text": [
            "Val Loss: 0.6088, Test Accuracy: 0.791 ± 0.003, Duration: 7.973, Train Loss: 0.3078\n"
          ],
          "name": "stdout"
        }
      ]
    },
    {
      "cell_type": "markdown",
      "metadata": {
        "id": "X80fUIVu6rir"
      },
      "source": [
        "## Teste com 0.8 dropout rate\n"
      ]
    },
    {
      "cell_type": "code",
      "metadata": {
        "colab": {
          "base_uri": "https://localhost:8080/"
        },
        "id": "N_XVmWno6wQF",
        "outputId": "ff990d53-9b1c-4fdf-8b04-70641a674df9"
      },
      "source": [
        "!cd pytorch_geometric/benchmark/citation && python gat.py --dataset=Cora --dropout=0.8 "
      ],
      "execution_count": null,
      "outputs": [
        {
          "output_type": "stream",
          "text": [
            "Val Loss: 1.1933, Test Accuracy: 0.830 ± 0.008, Duration: 5.458, Train Loss: 0.8340\n"
          ],
          "name": "stdout"
        }
      ]
    },
    {
      "cell_type": "code",
      "metadata": {
        "colab": {
          "base_uri": "https://localhost:8080/"
        },
        "id": "MrbhtYw8ANAu",
        "outputId": "c3a5fbc3-4001-4bd2-92ea-14702836c64c"
      },
      "source": [
        "!cd pytorch_geometric/benchmark/citation && python gat.py --dataset=CiteSeer --dropout=0.8 "
      ],
      "execution_count": null,
      "outputs": [
        {
          "output_type": "stream",
          "text": [
            "Val Loss: 1.3637, Test Accuracy: 0.713 ± 0.008, Duration: 5.542, Train Loss: 0.9510\n"
          ],
          "name": "stdout"
        }
      ]
    },
    {
      "cell_type": "code",
      "metadata": {
        "colab": {
          "base_uri": "https://localhost:8080/"
        },
        "id": "W4YYQ5NVpg6M",
        "outputId": "3d887be9-0dc8-4b9c-e8c7-7e61837f483f"
      },
      "source": [
        "!cd pytorch_geometric/benchmark/citation && python gat.py --dataset=PubMed --lr=0.01 --weight_decay=0.001 --output_heads=8 --dropout=0.8 "
      ],
      "execution_count": null,
      "outputs": [
        {
          "output_type": "stream",
          "text": [
            "Val Loss: 0.6419, Test Accuracy: 0.787 ± 0.005, Duration: 7.974, Train Loss: 0.3743\n"
          ],
          "name": "stdout"
        }
      ]
    },
    {
      "cell_type": "markdown",
      "metadata": {
        "id": "Kk09RA4fr-EP"
      },
      "source": [
        "## Teste com 0.9 dropout rate\n"
      ]
    },
    {
      "cell_type": "code",
      "metadata": {
        "colab": {
          "base_uri": "https://localhost:8080/"
        },
        "id": "bfUd7c6HsBdP",
        "outputId": "b4abeacb-407c-4a42-875e-94dfd8d97aef"
      },
      "source": [
        "!cd pytorch_geometric/benchmark/citation && python gat.py --dataset=Cora --dropout=0.9 "
      ],
      "execution_count": null,
      "outputs": [
        {
          "output_type": "stream",
          "text": [
            "Val Loss: 1.8764, Test Accuracy: 0.767 ± 0.034, Duration: 3.886, Train Loss: 1.8531\n"
          ],
          "name": "stdout"
        }
      ]
    },
    {
      "cell_type": "code",
      "metadata": {
        "colab": {
          "base_uri": "https://localhost:8080/"
        },
        "id": "F9KgLYHgzZCb",
        "outputId": "e408244d-4491-40cd-c0de-b1b875665b82"
      },
      "source": [
        "!cd pytorch_geometric/benchmark/citation && python gat.py --dataset=CiteSeer --dropout=0.9 "
      ],
      "execution_count": null,
      "outputs": [
        {
          "output_type": "stream",
          "text": [
            "Val Loss: 1.7595, Test Accuracy: 0.605 ± 0.075, Duration: 4.368, Train Loss: 1.7458\n"
          ],
          "name": "stdout"
        }
      ]
    },
    {
      "cell_type": "code",
      "metadata": {
        "colab": {
          "base_uri": "https://localhost:8080/"
        },
        "id": "UrQlorw07jX1",
        "outputId": "04c2b1ef-99ad-4839-91b6-74258abb305c"
      },
      "source": [
        "!cd pytorch_geometric/benchmark/citation && python gat.py --dataset=PubMed --lr=0.01 --weight_decay=0.001 --output_heads=8 --dropout=0.9"
      ],
      "execution_count": null,
      "outputs": [
        {
          "output_type": "stream",
          "text": [
            "Val Loss: 0.8452, Test Accuracy: 0.739 ± 0.013, Duration: 6.764, Train Loss: 0.7275\n"
          ],
          "name": "stdout"
        }
      ]
    },
    {
      "cell_type": "markdown",
      "metadata": {
        "id": "6B_nB7iipCsa"
      },
      "source": [
        "# Cheby\n"
      ]
    },
    {
      "cell_type": "markdown",
      "metadata": {
        "id": "dPsKgvc_Uxob"
      },
      "source": [
        "## Testes Função de ativação ReLU"
      ]
    },
    {
      "cell_type": "code",
      "metadata": {
        "colab": {
          "base_uri": "https://localhost:8080/"
        },
        "id": "k9vxRvS7pV2x",
        "outputId": "e5284911-b948-48ac-d82d-1cc8448a222e"
      },
      "source": [
        "!cd pytorch_geometric/benchmark/citation && python cheb.py --dataset=Cora --num_hops=3"
      ],
      "execution_count": null,
      "outputs": [
        {
          "output_type": "stream",
          "text": [
            "Val Loss: 0.8045, Test Accuracy: 0.805 ± 0.009, Duration: 2.257, Train Loss: 0.0666\n"
          ],
          "name": "stdout"
        }
      ]
    },
    {
      "cell_type": "code",
      "metadata": {
        "colab": {
          "base_uri": "https://localhost:8080/"
        },
        "id": "D8Uicw6ppez9",
        "outputId": "0c34b877-0e58-4257-eb57-c47bbb2c6aac"
      },
      "source": [
        "!cd pytorch_geometric/benchmark/citation && python cheb.py --dataset=CiteSeer --num_hops=2\n"
      ],
      "execution_count": null,
      "outputs": [
        {
          "output_type": "stream",
          "text": [
            "Val Loss: 1.0652, Test Accuracy: 0.698 ± 0.011, Duration: 2.848, Train Loss: 0.1121\n"
          ],
          "name": "stdout"
        }
      ]
    },
    {
      "cell_type": "code",
      "metadata": {
        "colab": {
          "base_uri": "https://localhost:8080/"
        },
        "id": "R3SEtn2FjQ14",
        "outputId": "b7fb6f7a-1a1e-4eb3-9463-aa0a5f13c67a"
      },
      "source": [
        "!cd pytorch_geometric/benchmark/citation && python cheb.py --dataset=PubMed --num_hops=2\n"
      ],
      "execution_count": null,
      "outputs": [
        {
          "output_type": "stream",
          "text": [
            "Val Loss: 0.5842, Test Accuracy: 0.781 ± 0.005, Duration: 2.423, Train Loss: 0.0497\n"
          ],
          "name": "stdout"
        }
      ]
    },
    {
      "cell_type": "markdown",
      "metadata": {
        "id": "CfrpzXA3Uzzt"
      },
      "source": [
        "## Testes Função de ativação ELU"
      ]
    },
    {
      "cell_type": "code",
      "metadata": {
        "id": "fup_BJcjU1X9"
      },
      "source": [
        "!cd pytorch_geometric/benchmark/citation && python cheb.py --dataset=Cora --num_hops=3"
      ],
      "execution_count": null,
      "outputs": []
    },
    {
      "cell_type": "code",
      "metadata": {
        "id": "ESfXUgNuX4eq"
      },
      "source": [
        "!cd pytorch_geometric/benchmark/citation && python cheb.py --dataset=CiteSeer --num_hops=2\n"
      ],
      "execution_count": null,
      "outputs": []
    },
    {
      "cell_type": "code",
      "metadata": {
        "id": "CChDeVxTdivy"
      },
      "source": [
        "!cd pytorch_geometric/benchmark/citation && python cheb.py --dataset=PubMed --num_hops=2\n"
      ],
      "execution_count": null,
      "outputs": []
    },
    {
      "cell_type": "markdown",
      "metadata": {
        "id": "8lkao2NIiSPs"
      },
      "source": [
        "## 1000 epochs"
      ]
    },
    {
      "cell_type": "code",
      "metadata": {
        "colab": {
          "base_uri": "https://localhost:8080/"
        },
        "id": "aA2TW1VjiUIQ",
        "outputId": "f85f111e-f6ef-4657-8df5-77936fffff0a"
      },
      "source": [
        "!cd pytorch_geometric/benchmark/citation && python cheb.py --dataset=Cora --num_hops=3 --epochs=1000"
      ],
      "execution_count": null,
      "outputs": [
        {
          "output_type": "stream",
          "text": [
            "Val Loss: 0.6897, Test Accuracy: 0.812 ± 0.006, Duration: 10.104, Train Loss: 0.0322\n"
          ],
          "name": "stdout"
        }
      ]
    },
    {
      "cell_type": "code",
      "metadata": {
        "colab": {
          "base_uri": "https://localhost:8080/"
        },
        "id": "fxaTZH-gqacb",
        "outputId": "7c1382dc-f2e1-4db7-9017-7ce8814d475d"
      },
      "source": [
        "!cd pytorch_geometric/benchmark/citation && python cheb.py --dataset=CiteSeer --num_hops=2 --epochs=1000\n"
      ],
      "execution_count": null,
      "outputs": [
        {
          "output_type": "stream",
          "text": [
            "Val Loss: 0.9491, Test Accuracy: 0.708 ± 0.008, Duration: 11.592, Train Loss: 0.0458\n"
          ],
          "name": "stdout"
        }
      ]
    },
    {
      "cell_type": "code",
      "metadata": {
        "colab": {
          "base_uri": "https://localhost:8080/"
        },
        "id": "hcwFXQ2wx0jK",
        "outputId": "d47451a5-397d-4d53-d967-901743b2c09a"
      },
      "source": [
        "!cd pytorch_geometric/benchmark/citation && python cheb.py --dataset=PubMed --num_hops=2 --epochs=1000\n"
      ],
      "execution_count": null,
      "outputs": [
        {
          "output_type": "stream",
          "text": [
            "Val Loss: 0.5630, Test Accuracy: 0.787 ± 0.004, Duration: 12.341, Train Loss: 0.0223\n"
          ],
          "name": "stdout"
        }
      ]
    },
    {
      "cell_type": "markdown",
      "metadata": {
        "id": "aaCtZYHs0Kt3"
      },
      "source": [
        "## 2000 epochs"
      ]
    },
    {
      "cell_type": "code",
      "metadata": {
        "colab": {
          "base_uri": "https://localhost:8080/"
        },
        "id": "LbznzRr-0LQN",
        "outputId": "db37c812-2541-4ff6-a6e7-4d57291dfbdd"
      },
      "source": [
        "!cd pytorch_geometric/benchmark/citation && python cheb.py --dataset=Cora --num_hops=3 --epochs=2000"
      ],
      "execution_count": null,
      "outputs": [
        {
          "output_type": "stream",
          "text": [
            "Val Loss: 0.6752, Test Accuracy: 0.814 ± 0.005, Duration: 20.305, Train Loss: 0.0309\n"
          ],
          "name": "stdout"
        }
      ]
    },
    {
      "cell_type": "code",
      "metadata": {
        "colab": {
          "base_uri": "https://localhost:8080/"
        },
        "id": "sHCwDrrTBFWX",
        "outputId": "b14f500f-b312-4853-97ab-401cc9df0d82"
      },
      "source": [
        "!cd pytorch_geometric/benchmark/citation && python cheb.py --dataset=CiteSeer --num_hops=2 --epochs=2000\n"
      ],
      "execution_count": null,
      "outputs": [
        {
          "output_type": "stream",
          "text": [
            "Val Loss: 0.9323, Test Accuracy: 0.712 ± 0.007, Duration: 23.233, Train Loss: 0.0408\n"
          ],
          "name": "stdout"
        }
      ]
    },
    {
      "cell_type": "code",
      "metadata": {
        "colab": {
          "base_uri": "https://localhost:8080/"
        },
        "id": "JN2mpzAZjEoy",
        "outputId": "3980a657-01e3-4e81-bebb-88e9be4a1eba"
      },
      "source": [
        "!cd pytorch_geometric/benchmark/citation && python cheb.py --dataset=PubMed --num_hops=2 --epochs=2000\n"
      ],
      "execution_count": null,
      "outputs": [
        {
          "output_type": "stream",
          "text": [
            "Val Loss: 0.5636, Test Accuracy: 0.787 ± 0.004, Duration: 24.451, Train Loss: 0.0225\n"
          ],
          "name": "stdout"
        }
      ]
    },
    {
      "cell_type": "markdown",
      "metadata": {
        "id": "4Qgum773o1ao"
      },
      "source": [
        "## 3000 epochs"
      ]
    },
    {
      "cell_type": "code",
      "metadata": {
        "colab": {
          "base_uri": "https://localhost:8080/"
        },
        "id": "Uh6pAENzo5Tn",
        "outputId": "46d78286-98a6-4c2b-a85a-eeaf2d97304e"
      },
      "source": [
        "!cd pytorch_geometric/benchmark/citation && python cheb.py --dataset=Cora --num_hops=3 --epochs=3000"
      ],
      "execution_count": null,
      "outputs": [
        {
          "output_type": "stream",
          "text": [
            "Val Loss: 0.6700, Test Accuracy: 0.815 ± 0.005, Duration: 30.977, Train Loss: 0.0304\n"
          ],
          "name": "stdout"
        }
      ]
    },
    {
      "cell_type": "code",
      "metadata": {
        "colab": {
          "base_uri": "https://localhost:8080/"
        },
        "id": "28PNq_cKvVIE",
        "outputId": "cda68645-66a7-4cd3-941f-bfd680ee3e48"
      },
      "source": [
        "!cd pytorch_geometric/benchmark/citation && python cheb.py --dataset=CiteSeer --num_hops=2 --epochs=3000\n"
      ],
      "execution_count": null,
      "outputs": [
        {
          "output_type": "stream",
          "text": [
            "Val Loss: 0.9282, Test Accuracy: 0.713 ± 0.006, Duration: 34.875, Train Loss: 0.0403\n"
          ],
          "name": "stdout"
        }
      ]
    },
    {
      "cell_type": "code",
      "metadata": {
        "colab": {
          "base_uri": "https://localhost:8080/"
        },
        "id": "nW1JS_3PmjK7",
        "outputId": "bd0ebfcb-7a6d-439e-99a8-001ba54d3792"
      },
      "source": [
        "!cd pytorch_geometric/benchmark/citation && python cheb.py --dataset=PubMed --num_hops=2 --epochs=3000\n"
      ],
      "execution_count": null,
      "outputs": [
        {
          "output_type": "stream",
          "text": [
            "Val Loss: 0.5633, Test Accuracy: 0.787 ± 0.003, Duration: 36.909, Train Loss: 0.0222\n"
          ],
          "name": "stdout"
        }
      ]
    },
    {
      "cell_type": "markdown",
      "metadata": {
        "id": "E2zrlmNPjxNV"
      },
      "source": [
        "## 5000 epochs"
      ]
    },
    {
      "cell_type": "code",
      "metadata": {
        "colab": {
          "base_uri": "https://localhost:8080/"
        },
        "id": "nSm9j_mGjzWg",
        "outputId": "e56cad50-bfe0-4da3-c266-1a3681cfb7f5"
      },
      "source": [
        "!cd pytorch_geometric/benchmark/citation && python cheb.py --dataset=Cora --num_hops=3 --epochs=5000"
      ],
      "execution_count": null,
      "outputs": [
        {
          "output_type": "stream",
          "text": [
            "Val Loss: 0.6648, Test Accuracy: 0.817 ± 0.005, Duration: 74.175, Train Loss: 0.0303\n"
          ],
          "name": "stdout"
        }
      ]
    },
    {
      "cell_type": "code",
      "metadata": {
        "colab": {
          "base_uri": "https://localhost:8080/"
        },
        "id": "BBSwIzC82DlL",
        "outputId": "02a9635c-1e5f-431e-8f8a-9e646929adbb"
      },
      "source": [
        "!cd pytorch_geometric/benchmark/citation && python cheb.py --dataset=CiteSeer --num_hops=2 --epochs=5000\n"
      ],
      "execution_count": null,
      "outputs": [
        {
          "output_type": "stream",
          "text": [
            "Val Loss: 0.9243, Test Accuracy: 0.713 ± 0.007, Duration: 57.685, Train Loss: 0.0396\n"
          ],
          "name": "stdout"
        }
      ]
    },
    {
      "cell_type": "code",
      "metadata": {
        "colab": {
          "base_uri": "https://localhost:8080/"
        },
        "id": "qQ4FSDjd1txt",
        "outputId": "8f2a5ad6-849f-40e7-dcef-bcce19dacf53"
      },
      "source": [
        "!cd pytorch_geometric/benchmark/citation && python cheb.py --dataset=PubMed --num_hops=2 --epochs=5000\n"
      ],
      "execution_count": null,
      "outputs": [
        {
          "output_type": "stream",
          "text": [
            "Using exist file ind.pubmed.x\n",
            "Using exist file ind.pubmed.tx\n",
            "Downloading https://github.com/kimiyoung/planetoid/raw/master/data/ind.pubmed.allx\n",
            "Downloading https://github.com/kimiyoung/planetoid/raw/master/data/ind.pubmed.y\n",
            "Downloading https://github.com/kimiyoung/planetoid/raw/master/data/ind.pubmed.ty\n",
            "Downloading https://github.com/kimiyoung/planetoid/raw/master/data/ind.pubmed.ally\n",
            "Downloading https://github.com/kimiyoung/planetoid/raw/master/data/ind.pubmed.graph\n",
            "Downloading https://github.com/kimiyoung/planetoid/raw/master/data/ind.pubmed.test.index\n",
            "Processing...\n",
            "Done!\n",
            "Val Loss: 0.5628, Test Accuracy: 0.787 ± 0.004, Duration: 61.650, Train Loss: 0.0207\n"
          ],
          "name": "stdout"
        }
      ]
    },
    {
      "cell_type": "markdown",
      "metadata": {
        "id": "K6QHeV81Y71O"
      },
      "source": [
        "## 10000 epochs"
      ]
    },
    {
      "cell_type": "code",
      "metadata": {
        "colab": {
          "base_uri": "https://localhost:8080/"
        },
        "id": "34SXF0OqY9zW",
        "outputId": "c960ee39-1a57-4c3b-e22d-a58395d8cbe6"
      },
      "source": [
        "!cd pytorch_geometric/benchmark/citation && python cheb.py --dataset=Cora --num_hops=3 --epochs=10000"
      ],
      "execution_count": null,
      "outputs": [
        {
          "output_type": "stream",
          "text": [
            "Downloading https://github.com/kimiyoung/planetoid/raw/master/data/ind.cora.x\n",
            "Downloading https://github.com/kimiyoung/planetoid/raw/master/data/ind.cora.tx\n",
            "Downloading https://github.com/kimiyoung/planetoid/raw/master/data/ind.cora.allx\n",
            "Downloading https://github.com/kimiyoung/planetoid/raw/master/data/ind.cora.y\n",
            "Downloading https://github.com/kimiyoung/planetoid/raw/master/data/ind.cora.ty\n",
            "Downloading https://github.com/kimiyoung/planetoid/raw/master/data/ind.cora.ally\n",
            "Downloading https://github.com/kimiyoung/planetoid/raw/master/data/ind.cora.graph\n",
            "Downloading https://github.com/kimiyoung/planetoid/raw/master/data/ind.cora.test.index\n",
            "Processing...\n",
            "Done!\n",
            "Val Loss: 0.6596, Test Accuracy: 0.817 ± 0.006, Duration: 98.617, Train Loss: 0.0304\n"
          ],
          "name": "stdout"
        }
      ]
    },
    {
      "cell_type": "code",
      "metadata": {
        "colab": {
          "base_uri": "https://localhost:8080/"
        },
        "id": "bNGLLt4GZFWm",
        "outputId": "cdc8b7c1-7d0a-4863-f897-48db9eff15b4"
      },
      "source": [
        "!cd pytorch_geometric/benchmark/citation && python cheb.py --dataset=CiteSeer --num_hops=2 --epochs=10000\n"
      ],
      "execution_count": null,
      "outputs": [
        {
          "output_type": "stream",
          "text": [
            "Downloading https://github.com/kimiyoung/planetoid/raw/master/data/ind.citeseer.x\n",
            "Downloading https://github.com/kimiyoung/planetoid/raw/master/data/ind.citeseer.tx\n",
            "Downloading https://github.com/kimiyoung/planetoid/raw/master/data/ind.citeseer.allx\n",
            "Downloading https://github.com/kimiyoung/planetoid/raw/master/data/ind.citeseer.y\n",
            "Downloading https://github.com/kimiyoung/planetoid/raw/master/data/ind.citeseer.ty\n",
            "Downloading https://github.com/kimiyoung/planetoid/raw/master/data/ind.citeseer.ally\n",
            "Downloading https://github.com/kimiyoung/planetoid/raw/master/data/ind.citeseer.graph\n",
            "Downloading https://github.com/kimiyoung/planetoid/raw/master/data/ind.citeseer.test.index\n",
            "Processing...\n",
            "Done!\n",
            "Val Loss: 0.9215, Test Accuracy: 0.712 ± 0.006, Duration: 111.599, Train Loss: 0.0396\n"
          ],
          "name": "stdout"
        }
      ]
    },
    {
      "cell_type": "code",
      "metadata": {
        "colab": {
          "base_uri": "https://localhost:8080/"
        },
        "id": "gYYRDuI-ZHX2",
        "outputId": "e95f5187-45af-4d32-8911-59095fa1224b"
      },
      "source": [
        "!cd pytorch_geometric/benchmark/citation && python cheb.py --dataset=PubMed --num_hops=2 --epochs=10000\n"
      ],
      "execution_count": null,
      "outputs": [
        {
          "output_type": "stream",
          "text": [
            "Downloading https://github.com/kimiyoung/planetoid/raw/master/data/ind.pubmed.x\n",
            "Downloading https://github.com/kimiyoung/planetoid/raw/master/data/ind.pubmed.tx\n",
            "Downloading https://github.com/kimiyoung/planetoid/raw/master/data/ind.pubmed.allx\n",
            "Downloading https://github.com/kimiyoung/planetoid/raw/master/data/ind.pubmed.y\n",
            "Downloading https://github.com/kimiyoung/planetoid/raw/master/data/ind.pubmed.ty\n",
            "Downloading https://github.com/kimiyoung/planetoid/raw/master/data/ind.pubmed.ally\n",
            "Downloading https://github.com/kimiyoung/planetoid/raw/master/data/ind.pubmed.graph\n",
            "Downloading https://github.com/kimiyoung/planetoid/raw/master/data/ind.pubmed.test.index\n",
            "Processing...\n",
            "Done!\n",
            "Val Loss: 0.5627, Test Accuracy: 0.788 ± 0.004, Duration: 120.515, Train Loss: 0.0210\n"
          ],
          "name": "stdout"
        }
      ]
    },
    {
      "cell_type": "markdown",
      "metadata": {
        "id": "2322MU87gWga"
      },
      "source": [
        "## Teste com 0.6 dropout rate"
      ]
    },
    {
      "cell_type": "code",
      "metadata": {
        "colab": {
          "base_uri": "https://localhost:8080/"
        },
        "id": "3rRseuC3gY0X",
        "outputId": "f7cb368a-55eb-4fb8-b35c-a24736fff34f"
      },
      "source": [
        "!cd pytorch_geometric/benchmark/citation && python cheb.py --dataset=Cora --num_hops=3 --dropout=0.6 "
      ],
      "execution_count": null,
      "outputs": [
        {
          "output_type": "stream",
          "text": [
            "Val Loss: 0.7887, Test Accuracy: 0.811 ± 0.012, Duration: 2.066, Train Loss: 0.0714\n"
          ],
          "name": "stdout"
        }
      ]
    },
    {
      "cell_type": "code",
      "metadata": {
        "colab": {
          "base_uri": "https://localhost:8080/"
        },
        "id": "yc9_Nry2gY-4",
        "outputId": "639bc140-0bb6-4a4a-8d93-cbd6090c5a4a"
      },
      "source": [
        "!cd pytorch_geometric/benchmark/citation && python cheb.py --dataset=CiteSeer --num_hops=2 --dropout=0.6\n"
      ],
      "execution_count": null,
      "outputs": [
        {
          "output_type": "stream",
          "text": [
            "Val Loss: 1.0663, Test Accuracy: 0.697 ± 0.012, Duration: 2.879, Train Loss: 0.1219\n"
          ],
          "name": "stdout"
        }
      ]
    },
    {
      "cell_type": "code",
      "metadata": {
        "colab": {
          "base_uri": "https://localhost:8080/"
        },
        "id": "DZkI_CwggZJu",
        "outputId": "5eb436c7-70a6-4316-9518-763d7cee93b8"
      },
      "source": [
        "!cd pytorch_geometric/benchmark/citation && python cheb.py --dataset=PubMed --num_hops=2 --dropout=0.6 "
      ],
      "execution_count": null,
      "outputs": [
        {
          "output_type": "stream",
          "text": [
            "Val Loss: 0.5818, Test Accuracy: 0.782 ± 0.007, Duration: 2.433, Train Loss: 0.0543\n"
          ],
          "name": "stdout"
        }
      ]
    },
    {
      "cell_type": "markdown",
      "metadata": {
        "id": "cil-ISV4v4nm"
      },
      "source": [
        "## Teste com 0.7 dropout rate\n"
      ]
    },
    {
      "cell_type": "code",
      "metadata": {
        "colab": {
          "base_uri": "https://localhost:8080/"
        },
        "id": "h0UG0pszv6aq",
        "outputId": "db6ef6d3-507b-4d3e-ef6f-0b07b26c1400"
      },
      "source": [
        "!cd pytorch_geometric/benchmark/citation && python cheb.py --dataset=Cora --num_hops=3 --dropout=0.7 "
      ],
      "execution_count": null,
      "outputs": [
        {
          "output_type": "stream",
          "text": [
            "Val Loss: 0.7780, Test Accuracy: 0.815 ± 0.010, Duration: 2.306, Train Loss: 0.0815\n"
          ],
          "name": "stdout"
        }
      ]
    },
    {
      "cell_type": "code",
      "metadata": {
        "colab": {
          "base_uri": "https://localhost:8080/"
        },
        "id": "gPdqq9gmy7a2",
        "outputId": "c74f6b52-7aa1-41ac-e43b-ed6b4d09b226"
      },
      "source": [
        "!cd pytorch_geometric/benchmark/citation && python cheb.py --dataset=CiteSeer --num_hops=2 --dropout=0.7 "
      ],
      "execution_count": null,
      "outputs": [
        {
          "output_type": "stream",
          "text": [
            "Val Loss: 1.0817, Test Accuracy: 0.696 ± 0.016, Duration: 3.111, Train Loss: 0.1472\n"
          ],
          "name": "stdout"
        }
      ]
    },
    {
      "cell_type": "code",
      "metadata": {
        "colab": {
          "base_uri": "https://localhost:8080/"
        },
        "id": "m0aE8Ea6-C-Q",
        "outputId": "7bbf4f7c-8b83-4889-ce86-b4d48bb282eb"
      },
      "source": [
        "!cd pytorch_geometric/benchmark/citation && python cheb.py --dataset=PubMed --num_hops=2 --dropout=0.7 "
      ],
      "execution_count": null,
      "outputs": [
        {
          "output_type": "stream",
          "text": [
            "Val Loss: 0.5857, Test Accuracy: 0.781 ± 0.005, Duration: 2.517, Train Loss: 0.0651\n"
          ],
          "name": "stdout"
        }
      ]
    },
    {
      "cell_type": "markdown",
      "metadata": {
        "id": "j_1nosnnDFfq"
      },
      "source": [
        "## Teste com 0.8 dropout rate\n"
      ]
    },
    {
      "cell_type": "code",
      "metadata": {
        "colab": {
          "base_uri": "https://localhost:8080/"
        },
        "id": "fTyxGuvwDKD2",
        "outputId": "1dc39654-bc31-4351-a328-399f1c720069"
      },
      "source": [
        "!cd pytorch_geometric/benchmark/citation && python cheb.py --dataset=Cora --num_hops=3 --dropout=0.8 "
      ],
      "execution_count": null,
      "outputs": [
        {
          "output_type": "stream",
          "text": [
            "Val Loss: 0.7723, Test Accuracy: 0.819 ± 0.007, Duration: 2.315, Train Loss: 0.1093\n"
          ],
          "name": "stdout"
        }
      ]
    },
    {
      "cell_type": "code",
      "metadata": {
        "colab": {
          "base_uri": "https://localhost:8080/"
        },
        "id": "4Qn-ooLuRN3P",
        "outputId": "4a702f95-ae01-4c5c-ccf7-d8f221c3408b"
      },
      "source": [
        "!cd pytorch_geometric/benchmark/citation && python cheb.py --dataset=CiteSeer --num_hops=2 --dropout=0.8 \n"
      ],
      "execution_count": null,
      "outputs": [
        {
          "output_type": "stream",
          "text": [
            "Val Loss: 1.1094, Test Accuracy: 0.697 ± 0.013, Duration: 3.235, Train Loss: 0.2073\n"
          ],
          "name": "stdout"
        }
      ]
    },
    {
      "cell_type": "code",
      "metadata": {
        "colab": {
          "base_uri": "https://localhost:8080/"
        },
        "id": "IkYbEqesVQiu",
        "outputId": "2ac05ece-82bc-4fee-c6c3-1ad43e4ca54b"
      },
      "source": [
        "!cd pytorch_geometric/benchmark/citation && python cheb.py --dataset=PubMed --num_hops=2 --dropout=0.8 \n"
      ],
      "execution_count": null,
      "outputs": [
        {
          "output_type": "stream",
          "text": [
            "Val Loss: 0.5961, Test Accuracy: 0.778 ± 0.007, Duration: 2.535, Train Loss: 0.0945\n"
          ],
          "name": "stdout"
        }
      ]
    },
    {
      "cell_type": "markdown",
      "metadata": {
        "id": "QT_329YXwLas"
      },
      "source": [
        "## Teste com 0.9 dropout rate\n"
      ]
    },
    {
      "cell_type": "code",
      "metadata": {
        "colab": {
          "base_uri": "https://localhost:8080/"
        },
        "id": "QE4EqUI_wPDj",
        "outputId": "8714ca31-207e-4f09-f3cd-31efc5744f6f"
      },
      "source": [
        "!cd pytorch_geometric/benchmark/citation && python cheb.py --dataset=Cora --num_hops=3 --dropout=0.9 "
      ],
      "execution_count": null,
      "outputs": [
        {
          "output_type": "stream",
          "text": [
            "Val Loss: 0.7899, Test Accuracy: 0.819 ± 0.008, Duration: 2.261, Train Loss: 0.1891\n"
          ],
          "name": "stdout"
        }
      ]
    },
    {
      "cell_type": "code",
      "metadata": {
        "colab": {
          "base_uri": "https://localhost:8080/"
        },
        "id": "aZY48U0B4ZS6",
        "outputId": "1b3b0810-75ac-4397-cff2-dd3848a45280"
      },
      "source": [
        "!cd pytorch_geometric/benchmark/citation && python cheb.py --dataset=CiteSeer --num_hops=2 --dropout=0.9 \n"
      ],
      "execution_count": null,
      "outputs": [
        {
          "output_type": "stream",
          "text": [
            "Val Loss: 1.2121, Test Accuracy: 0.699 ± 0.012, Duration: 3.224, Train Loss: 0.4413\n"
          ],
          "name": "stdout"
        }
      ]
    },
    {
      "cell_type": "code",
      "metadata": {
        "colab": {
          "base_uri": "https://localhost:8080/"
        },
        "id": "gt0WyTZa-ioj",
        "outputId": "db0d185e-c41f-4530-de42-04979617c6e2"
      },
      "source": [
        "!cd pytorch_geometric/benchmark/citation && python cheb.py --dataset=PubMed --num_hops=2 --dropout=0.9 \n"
      ],
      "execution_count": null,
      "outputs": [
        {
          "output_type": "stream",
          "text": [
            "Val Loss: 0.6390, Test Accuracy: 0.770 ± 0.008, Duration: 2.606, Train Loss: 0.1971\n"
          ],
          "name": "stdout"
        }
      ]
    },
    {
      "cell_type": "markdown",
      "metadata": {
        "id": "lWRHHr7xvigp"
      },
      "source": [
        "# ARMA"
      ]
    },
    {
      "cell_type": "markdown",
      "metadata": {
        "id": "NmKm7UiSyTPI"
      },
      "source": [
        "## Testes Função de ativação ReLU"
      ]
    },
    {
      "cell_type": "code",
      "metadata": {
        "colab": {
          "base_uri": "https://localhost:8080/"
        },
        "id": "b7EjiPxxyTPI",
        "outputId": "138833e0-bcba-4abf-abe8-5bef079dd95a"
      },
      "source": [
        "!cd pytorch_geometric/benchmark/citation && python arma.py --dataset=Cora --num_stacks=2 --num_layers=1 --shared_weights=True"
      ],
      "execution_count": null,
      "outputs": [
        {
          "output_type": "stream",
          "text": [
            "Downloading https://github.com/kimiyoung/planetoid/raw/master/data/ind.cora.x\n",
            "Downloading https://github.com/kimiyoung/planetoid/raw/master/data/ind.cora.tx\n",
            "Downloading https://github.com/kimiyoung/planetoid/raw/master/data/ind.cora.allx\n",
            "Downloading https://github.com/kimiyoung/planetoid/raw/master/data/ind.cora.y\n",
            "Downloading https://github.com/kimiyoung/planetoid/raw/master/data/ind.cora.ty\n",
            "Downloading https://github.com/kimiyoung/planetoid/raw/master/data/ind.cora.ally\n",
            "Downloading https://github.com/kimiyoung/planetoid/raw/master/data/ind.cora.graph\n",
            "Downloading https://github.com/kimiyoung/planetoid/raw/master/data/ind.cora.test.index\n",
            "Processing...\n",
            "Done!\n",
            "Val Loss: 0.7696, Test Accuracy: 0.822 ± 0.006, Duration: 3.797, Train Loss: 0.1587\n"
          ],
          "name": "stdout"
        }
      ]
    },
    {
      "cell_type": "code",
      "metadata": {
        "colab": {
          "base_uri": "https://localhost:8080/"
        },
        "id": "eh9fyialyTPJ",
        "outputId": "2651fad9-9ecc-4b2b-b4ea-3bc016298139"
      },
      "source": [
        "!cd pytorch_geometric/benchmark/citation && python arma.py --dataset=CiteSeer --num_stacks=3 --num_layers=1 --shared_weights=True\n"
      ],
      "execution_count": null,
      "outputs": [
        {
          "output_type": "stream",
          "text": [
            "Downloading https://github.com/kimiyoung/planetoid/raw/master/data/ind.citeseer.x\n",
            "Downloading https://github.com/kimiyoung/planetoid/raw/master/data/ind.citeseer.tx\n",
            "Downloading https://github.com/kimiyoung/planetoid/raw/master/data/ind.citeseer.allx\n",
            "Downloading https://github.com/kimiyoung/planetoid/raw/master/data/ind.citeseer.y\n",
            "Downloading https://github.com/kimiyoung/planetoid/raw/master/data/ind.citeseer.ty\n",
            "Downloading https://github.com/kimiyoung/planetoid/raw/master/data/ind.citeseer.ally\n",
            "Downloading https://github.com/kimiyoung/planetoid/raw/master/data/ind.citeseer.graph\n",
            "Downloading https://github.com/kimiyoung/planetoid/raw/master/data/ind.citeseer.test.index\n",
            "Processing...\n",
            "Done!\n",
            "Val Loss: 1.0862, Test Accuracy: 0.708 ± 0.008, Duration: 10.082, Train Loss: 0.3237\n"
          ],
          "name": "stdout"
        }
      ]
    },
    {
      "cell_type": "code",
      "metadata": {
        "colab": {
          "base_uri": "https://localhost:8080/"
        },
        "id": "zbu12LotyTPK",
        "outputId": "ce2ee0ea-5f71-475f-83e0-4a98b6804db0"
      },
      "source": [
        "!cd pytorch_geometric/benchmark/citation &&  python arma.py --dataset=PubMed --num_stacks=2 --num_layers=1 --skip_dropout=0\n"
      ],
      "execution_count": null,
      "outputs": [
        {
          "output_type": "stream",
          "text": [
            "Downloading https://github.com/kimiyoung/planetoid/raw/master/data/ind.pubmed.x\n",
            "Downloading https://github.com/kimiyoung/planetoid/raw/master/data/ind.pubmed.tx\n",
            "Downloading https://github.com/kimiyoung/planetoid/raw/master/data/ind.pubmed.allx\n",
            "Downloading https://github.com/kimiyoung/planetoid/raw/master/data/ind.pubmed.y\n",
            "Downloading https://github.com/kimiyoung/planetoid/raw/master/data/ind.pubmed.ty\n",
            "Downloading https://github.com/kimiyoung/planetoid/raw/master/data/ind.pubmed.ally\n",
            "Downloading https://github.com/kimiyoung/planetoid/raw/master/data/ind.pubmed.graph\n",
            "Downloading https://github.com/kimiyoung/planetoid/raw/master/data/ind.pubmed.test.index\n",
            "Processing...\n",
            "Done!\n",
            "Val Loss: 0.5688, Test Accuracy: 0.787 ± 0.003, Duration: 11.392, Train Loss: 0.0391\n"
          ],
          "name": "stdout"
        }
      ]
    },
    {
      "cell_type": "markdown",
      "metadata": {
        "id": "j6bVr6xbAU-V"
      },
      "source": [
        "## Testes Função de ativação ELU"
      ]
    },
    {
      "cell_type": "code",
      "metadata": {
        "id": "FBSyDrrYAWMP"
      },
      "source": [
        "!cd pytorch_geometric/benchmark/citation && python arma.py --dataset=Cora --num_stacks=2 --num_layers=1 --shared_weights=True"
      ],
      "execution_count": null,
      "outputs": []
    },
    {
      "cell_type": "code",
      "metadata": {
        "id": "H2iX3kNTAWoY"
      },
      "source": [
        "!cd pytorch_geometric/benchmark/citation && python arma.py --dataset=CiteSeer --num_stacks=3 --num_layers=1 --shared_weights=True\n"
      ],
      "execution_count": null,
      "outputs": []
    },
    {
      "cell_type": "code",
      "metadata": {
        "id": "cE572W59SJ_2"
      },
      "source": [
        "!cd pytorch_geometric/benchmark/citation &&  python arma.py --dataset=PubMed --num_stacks=2 --num_layers=1 --skip_dropout=0\n"
      ],
      "execution_count": null,
      "outputs": []
    },
    {
      "cell_type": "markdown",
      "metadata": {
        "id": "fUdRJMcRG1ia"
      },
      "source": [
        "## 1000 epochs"
      ]
    },
    {
      "cell_type": "code",
      "metadata": {
        "colab": {
          "base_uri": "https://localhost:8080/"
        },
        "id": "ry-9bRfKG3Qy",
        "outputId": "4736922a-db7c-4453-c350-8583d45fa8be"
      },
      "source": [
        "!cd pytorch_geometric/benchmark/citation && python arma.py --dataset=Cora --num_stacks=2 --num_layers=1 --shared_weights=True --epochs=1000"
      ],
      "execution_count": null,
      "outputs": [
        {
          "output_type": "stream",
          "text": [
            "Val Loss: 0.7704, Test Accuracy: 0.822 ± 0.005, Duration: 3.838, Train Loss: 0.1582\n"
          ],
          "name": "stdout"
        }
      ]
    },
    {
      "cell_type": "code",
      "metadata": {
        "colab": {
          "base_uri": "https://localhost:8080/"
        },
        "id": "G8ZoidrGSH_Y",
        "outputId": "e911a932-c6a4-4774-dbda-eed99bc3688e"
      },
      "source": [
        "!cd pytorch_geometric/benchmark/citation && python arma.py --dataset=CiteSeer --num_stacks=3 --num_layers=1 --shared_weights=True --epochs=1000\n"
      ],
      "execution_count": null,
      "outputs": [
        {
          "output_type": "stream",
          "text": [
            "Val Loss: 1.0896, Test Accuracy: 0.706 ± 0.009, Duration: 10.193, Train Loss: 0.3277\n"
          ],
          "name": "stdout"
        }
      ]
    },
    {
      "cell_type": "code",
      "metadata": {
        "colab": {
          "base_uri": "https://localhost:8080/"
        },
        "id": "GINfxthapuXp",
        "outputId": "1e2cfb12-8779-4ab5-9ae2-f1ec70f9cc43"
      },
      "source": [
        "!cd pytorch_geometric/benchmark/citation &&  python arma.py --dataset=PubMed --num_stacks=2 --num_layers=1 --skip_dropout=0 --epochs=1000\n"
      ],
      "execution_count": null,
      "outputs": [
        {
          "output_type": "stream",
          "text": [
            "Val Loss: 0.5683, Test Accuracy: 0.787 ± 0.003, Duration: 11.546, Train Loss: 0.0402\n"
          ],
          "name": "stdout"
        }
      ]
    },
    {
      "cell_type": "markdown",
      "metadata": {
        "id": "K9_25I-0qfm0"
      },
      "source": [
        "## 2000 epochs"
      ]
    },
    {
      "cell_type": "code",
      "metadata": {
        "colab": {
          "base_uri": "https://localhost:8080/"
        },
        "id": "-fCIAd7Mqf5j",
        "outputId": "0afccb02-6543-43a0-fefc-8c5eae641eb0"
      },
      "source": [
        "!cd pytorch_geometric/benchmark/citation && python arma.py --dataset=Cora --num_stacks=2 --num_layers=1 --shared_weights=True --epochs=2000"
      ],
      "execution_count": null,
      "outputs": [
        {
          "output_type": "stream",
          "text": [
            "Val Loss: 0.7577, Test Accuracy: 0.824 ± 0.005, Duration: 7.473, Train Loss: 0.1490\n"
          ],
          "name": "stdout"
        }
      ]
    },
    {
      "cell_type": "code",
      "metadata": {
        "colab": {
          "base_uri": "https://localhost:8080/"
        },
        "id": "OF3uVd7RwWLl",
        "outputId": "f87ddbd6-15c9-4bc8-f774-e9eae229f32c"
      },
      "source": [
        "!cd pytorch_geometric/benchmark/citation && python arma.py --dataset=CiteSeer --num_stacks=3 --num_layers=1 --shared_weights=True --epochs=2000\n"
      ],
      "execution_count": null,
      "outputs": [
        {
          "output_type": "stream",
          "text": [
            "Val Loss: 1.0763, Test Accuracy: 0.710 ± 0.007, Duration: 20.253, Train Loss: 0.3096\n"
          ],
          "name": "stdout"
        }
      ]
    },
    {
      "cell_type": "code",
      "metadata": {
        "colab": {
          "base_uri": "https://localhost:8080/"
        },
        "id": "pk3St8CG7HI9",
        "outputId": "5706ed49-f2ab-4671-883c-6b006d0d7aa6"
      },
      "source": [
        "!cd pytorch_geometric/benchmark/citation &&  python arma.py --dataset=PubMed --num_stacks=2 --num_layers=1 --skip_dropout=0 --epochs=2000\n"
      ],
      "execution_count": null,
      "outputs": [
        {
          "output_type": "stream",
          "text": [
            "Val Loss: 0.5682, Test Accuracy: 0.787 ± 0.004, Duration: 22.851, Train Loss: 0.0368\n"
          ],
          "name": "stdout"
        }
      ]
    },
    {
      "cell_type": "markdown",
      "metadata": {
        "id": "gt16IL7is2Mi"
      },
      "source": [
        "## 3000 epochs"
      ]
    },
    {
      "cell_type": "code",
      "metadata": {
        "colab": {
          "base_uri": "https://localhost:8080/"
        },
        "id": "ny4Sl7Sss8be",
        "outputId": "9bcbc4ed-e803-4d90-9f89-7e7799a80114"
      },
      "source": [
        "!cd pytorch_geometric/benchmark/citation && python arma.py --dataset=Cora --num_stacks=2 --num_layers=1 --shared_weights=True --epochs=3000"
      ],
      "execution_count": null,
      "outputs": [
        {
          "output_type": "stream",
          "text": [
            "Val Loss: 0.7540, Test Accuracy: 0.824 ± 0.005, Duration: 11.415, Train Loss: 0.1479\n"
          ],
          "name": "stdout"
        }
      ]
    },
    {
      "cell_type": "code",
      "metadata": {
        "colab": {
          "base_uri": "https://localhost:8080/"
        },
        "id": "8Q9d0ZPls9MT",
        "outputId": "852b3667-70f6-4ae1-eaae-e19db4314a36"
      },
      "source": [
        "!cd pytorch_geometric/benchmark/citation && python arma.py --dataset=CiteSeer --num_stacks=3 --num_layers=1 --shared_weights=True --epochs=3000\n"
      ],
      "execution_count": null,
      "outputs": [
        {
          "output_type": "stream",
          "text": [
            "Val Loss: 1.0685, Test Accuracy: 0.712 ± 0.006, Duration: 29.954, Train Loss: 0.2994\n"
          ],
          "name": "stdout"
        }
      ]
    },
    {
      "cell_type": "code",
      "metadata": {
        "colab": {
          "base_uri": "https://localhost:8080/"
        },
        "id": "JsfidZGmRX-1",
        "outputId": "17a4d575-bb1d-4010-bf97-6fa66e656159"
      },
      "source": [
        "!cd pytorch_geometric/benchmark/citation &&  python arma.py --dataset=PubMed --num_stacks=2 --num_layers=1 --skip_dropout=0 --epochs=3000\n"
      ],
      "execution_count": null,
      "outputs": [
        {
          "output_type": "stream",
          "text": [
            "Val Loss: 0.5664, Test Accuracy: 0.788 ± 0.003, Duration: 34.117, Train Loss: 0.0360\n"
          ],
          "name": "stdout"
        }
      ]
    },
    {
      "cell_type": "markdown",
      "metadata": {
        "id": "0JDv3_JteXra"
      },
      "source": [
        "##  5000 epochs"
      ]
    },
    {
      "cell_type": "code",
      "metadata": {
        "colab": {
          "base_uri": "https://localhost:8080/"
        },
        "id": "SZpvimCNec4Z",
        "outputId": "67b9ae70-d27b-4ffa-afdd-625de3245a18"
      },
      "source": [
        "!cd pytorch_geometric/benchmark/citation && python arma.py --dataset=Cora --num_stacks=2 --num_layers=1 --shared_weights=True --epochs=5000"
      ],
      "execution_count": null,
      "outputs": [
        {
          "output_type": "stream",
          "text": [
            "Val Loss: 0.7503, Test Accuracy: 0.825 ± 0.004, Duration: 18.408, Train Loss: 0.1468\n"
          ],
          "name": "stdout"
        }
      ]
    },
    {
      "cell_type": "code",
      "metadata": {
        "colab": {
          "base_uri": "https://localhost:8080/"
        },
        "id": "oxrloyEmkdZq",
        "outputId": "fb66fa91-d043-4621-dadd-e0887d7bfbf1"
      },
      "source": [
        "!cd pytorch_geometric/benchmark/citation && python arma.py --dataset=CiteSeer --num_stacks=3 --num_layers=1 --shared_weights=True --epochs=5000\n"
      ],
      "execution_count": null,
      "outputs": [
        {
          "output_type": "stream",
          "text": [
            "Val Loss: 1.0642, Test Accuracy: 0.712 ± 0.005, Duration: 49.986, Train Loss: 0.2945\n"
          ],
          "name": "stdout"
        }
      ]
    },
    {
      "cell_type": "code",
      "metadata": {
        "colab": {
          "base_uri": "https://localhost:8080/"
        },
        "id": "sEnb7g5OGSBq",
        "outputId": "0ffed39f-9e57-4620-9ab1-d80d936d0c41"
      },
      "source": [
        "!cd pytorch_geometric/benchmark/citation &&  python arma.py --dataset=PubMed --num_stacks=2 --num_layers=1 --skip_dropout=0 --epochs=5000\n"
      ],
      "execution_count": null,
      "outputs": [
        {
          "output_type": "stream",
          "text": [
            "Val Loss: 0.5654, Test Accuracy: 0.788 ± 0.004, Duration: 56.502, Train Loss: 0.0348\n"
          ],
          "name": "stdout"
        }
      ]
    },
    {
      "cell_type": "markdown",
      "metadata": {
        "id": "NqTRUzachWiJ"
      },
      "source": [
        "## 10000 epochs"
      ]
    },
    {
      "cell_type": "code",
      "metadata": {
        "colab": {
          "base_uri": "https://localhost:8080/"
        },
        "id": "CNPVm45WhW41",
        "outputId": "90960178-453e-4936-dd33-26730046c791"
      },
      "source": [
        "!cd pytorch_geometric/benchmark/citation && python arma.py --dataset=Cora --num_stacks=2 --num_layers=1 --shared_weights=True --epochs=10000"
      ],
      "execution_count": null,
      "outputs": [
        {
          "output_type": "stream",
          "text": [
            "Downloading https://github.com/kimiyoung/planetoid/raw/master/data/ind.cora.x\n",
            "Downloading https://github.com/kimiyoung/planetoid/raw/master/data/ind.cora.tx\n",
            "Downloading https://github.com/kimiyoung/planetoid/raw/master/data/ind.cora.allx\n",
            "Downloading https://github.com/kimiyoung/planetoid/raw/master/data/ind.cora.y\n",
            "Downloading https://github.com/kimiyoung/planetoid/raw/master/data/ind.cora.ty\n",
            "Downloading https://github.com/kimiyoung/planetoid/raw/master/data/ind.cora.ally\n",
            "Downloading https://github.com/kimiyoung/planetoid/raw/master/data/ind.cora.graph\n",
            "Downloading https://github.com/kimiyoung/planetoid/raw/master/data/ind.cora.test.index\n",
            "Processing...\n",
            "Done!\n",
            "Val Loss: 0.7483, Test Accuracy: 0.825 ± 0.004, Duration: 36.400, Train Loss: 0.1460\n"
          ],
          "name": "stdout"
        }
      ]
    },
    {
      "cell_type": "code",
      "metadata": {
        "colab": {
          "base_uri": "https://localhost:8080/"
        },
        "id": "eK5iVSd5w2oQ",
        "outputId": "3f3fbbd4-f1ea-4254-d6de-d563e7c3d33b"
      },
      "source": [
        "!cd pytorch_geometric/benchmark/citation && python arma.py --dataset=CiteSeer --num_stacks=3 --num_layers=1 --shared_weights=True --epochs=10000\n"
      ],
      "execution_count": null,
      "outputs": [
        {
          "output_type": "stream",
          "text": [
            "Downloading https://github.com/kimiyoung/planetoid/raw/master/data/ind.citeseer.x\n",
            "Downloading https://github.com/kimiyoung/planetoid/raw/master/data/ind.citeseer.tx\n",
            "Downloading https://github.com/kimiyoung/planetoid/raw/master/data/ind.citeseer.allx\n",
            "Downloading https://github.com/kimiyoung/planetoid/raw/master/data/ind.citeseer.y\n",
            "Downloading https://github.com/kimiyoung/planetoid/raw/master/data/ind.citeseer.ty\n",
            "Downloading https://github.com/kimiyoung/planetoid/raw/master/data/ind.citeseer.ally\n",
            "Downloading https://github.com/kimiyoung/planetoid/raw/master/data/ind.citeseer.graph\n",
            "Downloading https://github.com/kimiyoung/planetoid/raw/master/data/ind.citeseer.test.index\n",
            "Processing...\n",
            "Done!\n",
            "Val Loss: 1.0601, Test Accuracy: 0.713 ± 0.005, Duration: 98.640, Train Loss: 0.2911\n"
          ],
          "name": "stdout"
        }
      ]
    },
    {
      "cell_type": "code",
      "metadata": {
        "colab": {
          "base_uri": "https://localhost:8080/"
        },
        "id": "XAJ5N0e17e4P",
        "outputId": "676b3523-a386-4b58-a1df-b057616edc0e"
      },
      "source": [
        "!cd pytorch_geometric/benchmark/citation &&  python arma.py --dataset=PubMed --num_stacks=2 --num_layers=1 --skip_dropout=0 --epochs=10000\n"
      ],
      "execution_count": null,
      "outputs": [
        {
          "output_type": "stream",
          "text": [
            "Downloading https://github.com/kimiyoung/planetoid/raw/master/data/ind.pubmed.x\n",
            "Downloading https://github.com/kimiyoung/planetoid/raw/master/data/ind.pubmed.tx\n",
            "Downloading https://github.com/kimiyoung/planetoid/raw/master/data/ind.pubmed.allx\n",
            "Downloading https://github.com/kimiyoung/planetoid/raw/master/data/ind.pubmed.y\n",
            "Downloading https://github.com/kimiyoung/planetoid/raw/master/data/ind.pubmed.ty\n",
            "Downloading https://github.com/kimiyoung/planetoid/raw/master/data/ind.pubmed.ally\n",
            "Downloading https://github.com/kimiyoung/planetoid/raw/master/data/ind.pubmed.graph\n",
            "Downloading https://github.com/kimiyoung/planetoid/raw/master/data/ind.pubmed.test.index\n",
            "Processing...\n",
            "Done!\n",
            "Val Loss: 0.5647, Test Accuracy: 0.788 ± 0.003, Duration: 113.099, Train Loss: 0.0342\n"
          ],
          "name": "stdout"
        }
      ]
    },
    {
      "cell_type": "markdown",
      "metadata": {
        "id": "OUSmNvNYgFo-"
      },
      "source": [
        "## Teste com 0.6 drop out rate"
      ]
    },
    {
      "cell_type": "code",
      "metadata": {
        "colab": {
          "base_uri": "https://localhost:8080/"
        },
        "id": "hkctOv74gK28",
        "outputId": "b35d21f4-17dd-415d-edcf-8e7e2603538d"
      },
      "source": [
        "!cd pytorch_geometric/benchmark/citation && python arma.py --dataset=Cora --num_stacks=2 --num_layers=1 --shared_weights=True --dropout=0.6 "
      ],
      "execution_count": null,
      "outputs": [
        {
          "output_type": "stream",
          "text": [
            "Val Loss: 0.7859, Test Accuracy: 0.821 ± 0.025, Duration: 2.816, Train Loss: 0.1799\n"
          ],
          "name": "stdout"
        }
      ]
    },
    {
      "cell_type": "code",
      "metadata": {
        "colab": {
          "base_uri": "https://localhost:8080/"
        },
        "id": "0F0MOuURgMqM",
        "outputId": "65eac54f-550c-4a0e-9254-cb1f60f78233"
      },
      "source": [
        "!cd pytorch_geometric/benchmark/citation && python arma.py --dataset=CiteSeer --num_stacks=3 --num_layers=1 --shared_weights=True --dropout=0.6 \n"
      ],
      "execution_count": null,
      "outputs": [
        {
          "output_type": "stream",
          "text": [
            "Val Loss: 1.1244, Test Accuracy: 0.711 ± 0.007, Duration: 7.032, Train Loss: 0.3975\n"
          ],
          "name": "stdout"
        }
      ]
    },
    {
      "cell_type": "code",
      "metadata": {
        "colab": {
          "base_uri": "https://localhost:8080/"
        },
        "id": "5i12rYVlgOgr",
        "outputId": "1af591ef-4ce8-4bab-86a7-dba1bda9eaaa"
      },
      "source": [
        "!cd pytorch_geometric/benchmark/citation &&  python arma.py --dataset=PubMed --num_stacks=2 --num_layers=1 --skip_dropout=0 --dropout=0.6 \n"
      ],
      "execution_count": null,
      "outputs": [
        {
          "output_type": "stream",
          "text": [
            "Val Loss: 0.5645, Test Accuracy: 0.786 ± 0.008, Duration: 9.614, Train Loss: 0.0478\n"
          ],
          "name": "stdout"
        }
      ]
    },
    {
      "cell_type": "markdown",
      "metadata": {
        "id": "3oPue1RknAKm"
      },
      "source": [
        "## Teste com 0.7 dropout rate\n"
      ]
    },
    {
      "cell_type": "code",
      "metadata": {
        "colab": {
          "base_uri": "https://localhost:8080/"
        },
        "id": "F9_zVMaanDTf",
        "outputId": "98a6be3b-54a1-4076-8a4c-dc172ecce842"
      },
      "source": [
        "!cd pytorch_geometric/benchmark/citation && python arma.py --dataset=Cora --num_stacks=2 --num_layers=1 --shared_weights=True --dropout=0.7 "
      ],
      "execution_count": null,
      "outputs": [
        {
          "output_type": "stream",
          "text": [
            "Val Loss: 0.8091, Test Accuracy: 0.824 ± 0.007, Duration: 3.746, Train Loss: 0.2111\n"
          ],
          "name": "stdout"
        }
      ]
    },
    {
      "cell_type": "code",
      "metadata": {
        "colab": {
          "base_uri": "https://localhost:8080/"
        },
        "id": "oq1I0INiq3wG",
        "outputId": "8ed7cb2c-1101-41f6-dfc0-52370cfaa9c6"
      },
      "source": [
        "!cd pytorch_geometric/benchmark/citation && python arma.py --dataset=CiteSeer --num_stacks=3 --num_layers=1 --shared_weights=True --dropout=0.7 \n"
      ],
      "execution_count": null,
      "outputs": [
        {
          "output_type": "stream",
          "text": [
            "Val Loss: 1.1585, Test Accuracy: 0.708 ± 0.009, Duration: 10.068, Train Loss: 0.4651\n"
          ],
          "name": "stdout"
        }
      ]
    },
    {
      "cell_type": "code",
      "metadata": {
        "colab": {
          "base_uri": "https://localhost:8080/"
        },
        "id": "0VdgDjxGnDrt",
        "outputId": "245f35c6-7fad-41e2-d812-d96f6f61153b"
      },
      "source": [
        "!cd pytorch_geometric/benchmark/citation &&  python arma.py --dataset=PubMed --num_stacks=2 --num_layers=1 --skip_dropout=0 --dropout=0.7 \n"
      ],
      "execution_count": null,
      "outputs": [
        {
          "output_type": "stream",
          "text": [
            "Val Loss: 0.5658, Test Accuracy: 0.785 ± 0.004, Duration: 11.353, Train Loss: 0.0480\n"
          ],
          "name": "stdout"
        }
      ]
    },
    {
      "cell_type": "markdown",
      "metadata": {
        "id": "SNayZdt1EZFK"
      },
      "source": [
        "## Teste com 0.8 dropout rate\n"
      ]
    },
    {
      "cell_type": "code",
      "metadata": {
        "colab": {
          "base_uri": "https://localhost:8080/"
        },
        "id": "el6_FjWgEacB",
        "outputId": "5e2f8e9a-2b69-48d7-b8ab-6abf812f5a48"
      },
      "source": [
        "!cd pytorch_geometric/benchmark/citation && python arma.py --dataset=Cora --num_stacks=2 --num_layers=1 --shared_weights=True --dropout=0.8"
      ],
      "execution_count": null,
      "outputs": [
        {
          "output_type": "stream",
          "text": [
            "Val Loss: 0.8749, Test Accuracy: 0.824 ± 0.007, Duration: 3.788, Train Loss: 0.2977\n"
          ],
          "name": "stdout"
        }
      ]
    },
    {
      "cell_type": "code",
      "metadata": {
        "colab": {
          "base_uri": "https://localhost:8080/"
        },
        "id": "c-iupbvQVlHt",
        "outputId": "83189a1a-d2ab-4e87-baaa-0d7dead3c9d8"
      },
      "source": [
        "!cd pytorch_geometric/benchmark/citation && python arma.py --dataset=CiteSeer --num_stacks=3 --num_layers=1 --shared_weights=True --dropout=0.8 \n"
      ],
      "execution_count": null,
      "outputs": [
        {
          "output_type": "stream",
          "text": [
            "Val Loss: 1.2515, Test Accuracy: 0.708 ± 0.010, Duration: 10.070, Train Loss: 0.6582\n"
          ],
          "name": "stdout"
        }
      ]
    },
    {
      "cell_type": "code",
      "metadata": {
        "colab": {
          "base_uri": "https://localhost:8080/"
        },
        "id": "wZwD17rHOTcC",
        "outputId": "7a36a1c6-e0b2-45a9-8109-c409a52bf560"
      },
      "source": [
        "!cd pytorch_geometric/benchmark/citation &&  python arma.py --dataset=PubMed --num_stacks=2 --num_layers=1 --skip_dropout=0 --dropout=0.8\n"
      ],
      "execution_count": null,
      "outputs": [
        {
          "output_type": "stream",
          "text": [
            "Val Loss: 0.5749, Test Accuracy: 0.782 ± 0.004, Duration: 11.360, Train Loss: 0.0668\n"
          ],
          "name": "stdout"
        }
      ]
    },
    {
      "cell_type": "markdown",
      "metadata": {
        "id": "Ngp12IjEeSWM"
      },
      "source": [
        "## Teste com 0.9 dropout rate\n"
      ]
    },
    {
      "cell_type": "code",
      "metadata": {
        "colab": {
          "base_uri": "https://localhost:8080/"
        },
        "id": "Sh_V0OfVeSnn",
        "outputId": "dcfffbc5-5154-4441-c372-509146973dd8"
      },
      "source": [
        "!cd pytorch_geometric/benchmark/citation && python arma.py --dataset=Cora --num_stacks=2 --num_layers=1 --shared_weights=True --dropout=0.9"
      ],
      "execution_count": null,
      "outputs": [
        {
          "output_type": "stream",
          "text": [
            "Val Loss: 1.0810, Test Accuracy: 0.825 ± 0.008, Duration: 2.882, Train Loss: 0.5859\n"
          ],
          "name": "stdout"
        }
      ]
    },
    {
      "cell_type": "code",
      "metadata": {
        "colab": {
          "base_uri": "https://localhost:8080/"
        },
        "id": "EL8K5D03hwDY",
        "outputId": "429cb2b4-58f4-4be7-94b2-e8ab74b0af0a"
      },
      "source": [
        "!cd pytorch_geometric/benchmark/citation && python arma.py --dataset=CiteSeer --num_stacks=3 --num_layers=1 --shared_weights=True --dropout=0.9 \n"
      ],
      "execution_count": null,
      "outputs": [
        {
          "output_type": "stream",
          "text": [
            "Val Loss: 1.4383, Test Accuracy: 0.697 ± 0.021, Duration: 7.243, Train Loss: 1.0513\n"
          ],
          "name": "stdout"
        }
      ]
    },
    {
      "cell_type": "code",
      "metadata": {
        "colab": {
          "base_uri": "https://localhost:8080/"
        },
        "id": "wSBnDWsGq1t8",
        "outputId": "74d87fc6-7d82-4537-c357-b0cc9459c402"
      },
      "source": [
        "!cd pytorch_geometric/benchmark/citation &&  python arma.py --dataset=PubMed --num_stacks=2 --num_layers=1 --skip_dropout=0 --dropout=0.9\n"
      ],
      "execution_count": null,
      "outputs": [
        {
          "output_type": "stream",
          "text": [
            "Val Loss: 0.6096, Test Accuracy: 0.776 ± 0.005, Duration: 9.677, Train Loss: 0.1394\n"
          ],
          "name": "stdout"
        }
      ]
    }
  ]
}