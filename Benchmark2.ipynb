{
  "nbformat": 4,
  "nbformat_minor": 2,
  "metadata": {
    "accelerator": "GPU",
    "colab": {
      "name": "Benchmark2.ipynb",
      "provenance": [],
      "collapsed_sections": [
        "-D8_FBaRxcsS",
        "w7JS7m5zHeMA",
        "UbRtwYHN_RDS",
        "sVWWrAz1ja9f",
        "Qo3VnXRe87__",
        "0mEFUb8P2JON",
        "n1MO6iYhgsFw",
        "MpmPg1H2YedJ",
        "OMvGWxzkdxab",
        "-RXCeJ_ZamWr",
        "v-eEe1UAbNrA",
        "h7IQnBTmAr7i",
        "sbmXUk_IHg_5",
        "gM1oNmC4j_0G",
        "s8KCCLnZIjpR",
        "xLjommQOhBQ-",
        "X80fUIVu6rir",
        "Kk09RA4fr-EP",
        "dPsKgvc_Uxob",
        "8lkao2NIiSPs",
        "aaCtZYHs0Kt3",
        "4Qgum773o1ao",
        "E2zrlmNPjxNV",
        "cil-ISV4v4nm",
        "j_1nosnnDFfq",
        "QT_329YXwLas",
        "NmKm7UiSyTPI",
        "j6bVr6xbAU-V",
        "fUdRJMcRG1ia",
        "K9_25I-0qfm0",
        "gt16IL7is2Mi",
        "0JDv3_JteXra",
        "3oPue1RknAKm",
        "SNayZdt1EZFK",
        "Ngp12IjEeSWM"
      ]
    },
    "kernelspec": {
      "display_name": "Python 3",
      "name": "python3"
    }
  },
  "cells": [
    {
      "cell_type": "markdown",
      "source": [
        "# Github"
      ],
      "metadata": {
        "id": "vTih4pK5p9KG"
      }
    },
    {
      "cell_type": "code",
      "execution_count": null,
      "source": [
        "!git clone https://github.com/vanessatelles/pytorch_geometric"
      ],
      "outputs": [
        {
          "output_type": "stream",
          "name": "stdout",
          "text": [
            "Cloning into 'pytorch_geometric'...\n",
            "remote: Enumerating objects: 25762, done.\u001b[K\n",
            "remote: Total 25762 (delta 0), reused 0 (delta 0), pack-reused 25762\u001b[K\n",
            "Receiving objects: 100% (25762/25762), 3.76 MiB | 7.83 MiB/s, done.\n",
            "Resolving deltas: 100% (19155/19155), done.\n"
          ]
        }
      ],
      "metadata": {
        "colab": {
          "base_uri": "https://localhost:8080/"
        },
        "id": "hz0Nn0oTCLNR",
        "outputId": "dc5ebc0e-95d5-40f1-804c-c60ee0ee888e"
      }
    },
    {
      "cell_type": "markdown",
      "source": [
        "# Install\n"
      ],
      "metadata": {
        "id": "kSCQYE2h8b-I"
      }
    },
    {
      "cell_type": "markdown",
      "source": [
        "Install torch and then install pytorch again."
      ],
      "metadata": {
        "id": "Rw2kX2ko8iDw"
      }
    },
    {
      "cell_type": "code",
      "execution_count": null,
      "source": [
        "!pip install -q torch-scatter -f https://pytorch-geometric.com/whl/torch-1.9.0+cu102.html\r\n",
        "!pip install -q torch-sparse -f https://pytorch-geometric.com/whl/torch-1.9.0+cu102.html\r\n",
        "!pip install -q torch-geometric"
      ],
      "outputs": [
        {
          "output_type": "stream",
          "name": "stdout",
          "text": [
            "\u001b[K     |████████████████████████████████| 2.6 MB 6.9 MB/s \n",
            "\u001b[K     |████████████████████████████████| 1.4 MB 7.3 MB/s \n",
            "\u001b[K     |████████████████████████████████| 222 kB 9.3 MB/s \n",
            "\u001b[K     |████████████████████████████████| 376 kB 16.7 MB/s \n",
            "\u001b[K     |████████████████████████████████| 45 kB 4.1 MB/s \n",
            "\u001b[?25h  Building wheel for torch-geometric (setup.py) ... \u001b[?25l\u001b[?25hdone\n"
          ]
        }
      ],
      "metadata": {
        "colab": {
          "base_uri": "https://localhost:8080/"
        },
        "id": "_uwliYheRwoq",
        "outputId": "90a1fe83-e64e-469e-924a-8bded77d902f"
      }
    },
    {
      "cell_type": "markdown",
      "source": [
        "# Replace\n"
      ],
      "metadata": {
        "id": "ul6y4yYAqb8J"
      }
    },
    {
      "cell_type": "code",
      "execution_count": null,
      "source": [
        "'''\r\n",
        "Substituir :\r\n",
        "from citation import get_planetoid_dataset, random_planetoid_splits, run\r\n",
        "\r\n",
        "Por: \r\n",
        "from train_eval import random_planetoid_splits, run\r\n",
        "from datasets import get_planetoid_dataset\r\n",
        "\r\n",
        "'''"
      ],
      "outputs": [
        {
          "output_type": "execute_result",
          "data": {
            "application/vnd.google.colaboratory.intrinsic+json": {
              "type": "string"
            },
            "text/plain": [
              "'\\nSubstituir :\\nfrom citation import get_planetoid_dataset, random_planetoid_splits, run\\n\\nPor: \\nfrom train_eval import random_planetoid_splits, run\\nfrom datasets import get_planetoid_dataset\\n\\n'"
            ]
          },
          "metadata": {
            "tags": []
          },
          "execution_count": 15
        }
      ],
      "metadata": {
        "colab": {
          "base_uri": "https://localhost:8080/"
        },
        "id": "6SEmt9QLE_m8",
        "outputId": "83ec75fd-d150-49f9-c75c-11135de31b8e"
      }
    },
    {
      "cell_type": "markdown",
      "source": [
        "# GCN"
      ],
      "metadata": {
        "id": "GSR7lB9z6l8L"
      }
    },
    {
      "cell_type": "markdown",
      "source": [
        "## Testes função ativação ReLU\n"
      ],
      "metadata": {
        "id": "-D8_FBaRxcsS"
      }
    },
    {
      "cell_type": "code",
      "execution_count": null,
      "source": [
        "!cd pytorch_geometric/benchmark/citation && python gcn.py --dataset=Cora"
      ],
      "outputs": [
        {
          "output_type": "stream",
          "name": "stdout",
          "text": [
            "Using exist file ind.cora.x\n",
            "Using exist file ind.cora.tx\n",
            "Downloading https://github.com/kimiyoung/planetoid/raw/master/data/ind.cora.allx\n",
            "Downloading https://github.com/kimiyoung/planetoid/raw/master/data/ind.cora.y\n",
            "Downloading https://github.com/kimiyoung/planetoid/raw/master/data/ind.cora.ty\n",
            "Downloading https://github.com/kimiyoung/planetoid/raw/master/data/ind.cora.ally\n",
            "Downloading https://github.com/kimiyoung/planetoid/raw/master/data/ind.cora.graph\n",
            "Downloading https://github.com/kimiyoung/planetoid/raw/master/data/ind.cora.test.index\n",
            "Processing...\n",
            "Done!\n",
            "Val Loss: 0.8815, Test Accuracy: 0.814 ± 0.006, Duration: 1.161, Train Loss: 0.3178\n"
          ]
        }
      ],
      "metadata": {
        "colab": {
          "base_uri": "https://localhost:8080/"
        },
        "id": "wpfiBOpFxcsT",
        "outputId": "f5f23583-8462-464b-ab44-a02ac1d5e368"
      }
    },
    {
      "cell_type": "code",
      "execution_count": null,
      "source": [
        "!cd pytorch_geometric/benchmark/citation && python gcn.py --dataset=CiteSeer"
      ],
      "outputs": [
        {
          "output_type": "stream",
          "name": "stdout",
          "text": [
            "Val Loss: 1.0977, Test Accuracy: 0.710 ± 0.009, Duration: 1.345, Train Loss: 0.4042\n"
          ]
        }
      ],
      "metadata": {
        "colab": {
          "base_uri": "https://localhost:8080/"
        },
        "id": "b1_1eSrsxcsT",
        "outputId": "bdc384f9-54b4-4480-c4dd-793f5bbfb021"
      }
    },
    {
      "cell_type": "code",
      "execution_count": null,
      "source": [
        "!cd pytorch_geometric/benchmark/citation && python gcn.py --dataset=PubMed"
      ],
      "outputs": [
        {
          "output_type": "stream",
          "name": "stdout",
          "text": [
            "Val Loss: 0.5938, Test Accuracy: 0.788 ± 0.007, Duration: 0.676, Train Loss: 0.1990\n"
          ]
        }
      ],
      "metadata": {
        "colab": {
          "base_uri": "https://localhost:8080/"
        },
        "id": "JjCx8QRXxcsT",
        "outputId": "ba8ae2f6-0151-45f6-d3c1-3dc10ed0b9cb"
      }
    },
    {
      "cell_type": "markdown",
      "source": [
        "## Testes função de ativação Elu"
      ],
      "metadata": {
        "id": "w7JS7m5zHeMA"
      }
    },
    {
      "cell_type": "code",
      "execution_count": null,
      "source": [
        "!cd pytorch_geometric/benchmark/citation && python gcn.py --dataset=Cora"
      ],
      "outputs": [
        {
          "output_type": "stream",
          "name": "stdout",
          "text": [
            "Downloading https://github.com/kimiyoung/planetoid/raw/master/data/ind.cora.x\n",
            "Downloading https://github.com/kimiyoung/planetoid/raw/master/data/ind.cora.tx\n",
            "Downloading https://github.com/kimiyoung/planetoid/raw/master/data/ind.cora.allx\n",
            "Downloading https://github.com/kimiyoung/planetoid/raw/master/data/ind.cora.y\n",
            "Downloading https://github.com/kimiyoung/planetoid/raw/master/data/ind.cora.ty\n",
            "Downloading https://github.com/kimiyoung/planetoid/raw/master/data/ind.cora.ally\n",
            "Downloading https://github.com/kimiyoung/planetoid/raw/master/data/ind.cora.graph\n",
            "Downloading https://github.com/kimiyoung/planetoid/raw/master/data/ind.cora.test.index\n",
            "Processing...\n",
            "Done!\n",
            "Val Loss: 0.8396, Test Accuracy: 0.815 ± 0.006, Duration: 0.829, Train Loss: 0.2787\n"
          ]
        }
      ],
      "metadata": {
        "colab": {
          "base_uri": "https://localhost:8080/"
        },
        "id": "3ww2QIWIHuO5",
        "outputId": "4ae99434-dd94-45f0-9447-253296acdf47"
      }
    },
    {
      "cell_type": "code",
      "execution_count": null,
      "source": [
        "!cd pytorch_geometric/benchmark/citation && python gcn.py --dataset=CiteSeer"
      ],
      "outputs": [
        {
          "output_type": "stream",
          "name": "stdout",
          "text": [
            "Downloading https://github.com/kimiyoung/planetoid/raw/master/data/ind.citeseer.x\n",
            "Downloading https://github.com/kimiyoung/planetoid/raw/master/data/ind.citeseer.tx\n",
            "Downloading https://github.com/kimiyoung/planetoid/raw/master/data/ind.citeseer.allx\n",
            "Downloading https://github.com/kimiyoung/planetoid/raw/master/data/ind.citeseer.y\n",
            "Downloading https://github.com/kimiyoung/planetoid/raw/master/data/ind.citeseer.ty\n",
            "Downloading https://github.com/kimiyoung/planetoid/raw/master/data/ind.citeseer.ally\n",
            "Downloading https://github.com/kimiyoung/planetoid/raw/master/data/ind.citeseer.graph\n",
            "Downloading https://github.com/kimiyoung/planetoid/raw/master/data/ind.citeseer.test.index\n",
            "Processing...\n",
            "Done!\n",
            "Val Loss: 1.0549, Test Accuracy: 0.717 ± 0.005, Duration: 0.887, Train Loss: 0.3442\n"
          ]
        }
      ],
      "metadata": {
        "colab": {
          "base_uri": "https://localhost:8080/"
        },
        "id": "PmkouwzLMH-W",
        "outputId": "f43cf41f-25ff-480c-97ed-beb184f5f8cb"
      }
    },
    {
      "cell_type": "code",
      "execution_count": null,
      "source": [
        "!cd pytorch_geometric/benchmark/citation && python gcn.py --dataset=PubMed"
      ],
      "outputs": [
        {
          "output_type": "stream",
          "name": "stdout",
          "text": [
            "Downloading https://github.com/kimiyoung/planetoid/raw/master/data/ind.pubmed.x\n",
            "Downloading https://github.com/kimiyoung/planetoid/raw/master/data/ind.pubmed.tx\n",
            "Downloading https://github.com/kimiyoung/planetoid/raw/master/data/ind.pubmed.allx\n",
            "Downloading https://github.com/kimiyoung/planetoid/raw/master/data/ind.pubmed.y\n",
            "Downloading https://github.com/kimiyoung/planetoid/raw/master/data/ind.pubmed.ty\n",
            "Downloading https://github.com/kimiyoung/planetoid/raw/master/data/ind.pubmed.ally\n",
            "Downloading https://github.com/kimiyoung/planetoid/raw/master/data/ind.pubmed.graph\n",
            "Downloading https://github.com/kimiyoung/planetoid/raw/master/data/ind.pubmed.test.index\n",
            "Processing...\n",
            "Done!\n",
            "Val Loss: 0.5661, Test Accuracy: 0.795 ± 0.003, Duration: 0.739, Train Loss: 0.1568\n"
          ]
        }
      ],
      "metadata": {
        "colab": {
          "base_uri": "https://localhost:8080/"
        },
        "id": "laaufr6eN4aW",
        "outputId": "40d69e9d-3992-43d2-cf9e-84a54a71197f"
      }
    },
    {
      "cell_type": "markdown",
      "source": [
        "## Teste Função de ativação softmax"
      ],
      "metadata": {
        "id": "1D-_JEgVQ3IH"
      }
    },
    {
      "cell_type": "code",
      "execution_count": null,
      "source": [
        "!cd pytorch_geometric/benchmark/citation && python gcn.py --dataset=Cora"
      ],
      "outputs": [
        {
          "output_type": "stream",
          "name": "stdout",
          "text": [
            "Val Loss: 1.8276, Test Accuracy: 0.379 ± 0.107, Duration: 0.563, Train Loss: 1.8098\n"
          ]
        }
      ],
      "metadata": {
        "colab": {
          "base_uri": "https://localhost:8080/"
        },
        "id": "B5TRZRjjQ5cC",
        "outputId": "99a18bad-868e-4db6-9071-6d3cdf5c5bff"
      }
    },
    {
      "cell_type": "code",
      "execution_count": null,
      "source": [
        "!cd pytorch_geometric/benchmark/citation && python gcn.py --dataset=CiteSeer"
      ],
      "outputs": [
        {
          "output_type": "stream",
          "name": "stdout",
          "text": [
            "Val Loss: 1.7370, Test Accuracy: 0.261 ± 0.086, Duration: 0.572, Train Loss: 1.7005\n"
          ]
        }
      ],
      "metadata": {
        "colab": {
          "base_uri": "https://localhost:8080/"
        },
        "id": "NynPa8CIX0jM",
        "outputId": "3d154d05-be09-4706-9969-ee830f5a4aea"
      }
    },
    {
      "cell_type": "code",
      "execution_count": null,
      "source": [
        "!cd pytorch_geometric/benchmark/citation && python gcn.py --dataset=PubMed"
      ],
      "outputs": [
        {
          "output_type": "stream",
          "name": "stdout",
          "text": [
            "Val Loss: 0.9904, Test Accuracy: 0.628 ± 0.091, Duration: 0.596, Train Loss: 0.9528\n"
          ]
        }
      ],
      "metadata": {
        "colab": {
          "base_uri": "https://localhost:8080/"
        },
        "id": "ptHeA7Cou1fz",
        "outputId": "834810b2-d8b0-4a58-9616-c9aa7d265934"
      }
    },
    {
      "cell_type": "markdown",
      "source": [
        "## Teste com 2000 epochs"
      ],
      "metadata": {
        "id": "UbRtwYHN_RDS"
      }
    },
    {
      "cell_type": "code",
      "execution_count": null,
      "source": [
        "!cd pytorch_geometric/benchmark/citation && python gcn.py --dataset=Cora --epochs=2000"
      ],
      "outputs": [
        {
          "output_type": "stream",
          "name": "stdout",
          "text": [
            "Downloading https://github.com/kimiyoung/planetoid/raw/master/data/ind.cora.x\n",
            "Downloading https://github.com/kimiyoung/planetoid/raw/master/data/ind.cora.tx\n",
            "Downloading https://github.com/kimiyoung/planetoid/raw/master/data/ind.cora.allx\n",
            "Downloading https://github.com/kimiyoung/planetoid/raw/master/data/ind.cora.y\n",
            "Downloading https://github.com/kimiyoung/planetoid/raw/master/data/ind.cora.ty\n",
            "Downloading https://github.com/kimiyoung/planetoid/raw/master/data/ind.cora.ally\n",
            "Downloading https://github.com/kimiyoung/planetoid/raw/master/data/ind.cora.graph\n",
            "Downloading https://github.com/kimiyoung/planetoid/raw/master/data/ind.cora.test.index\n",
            "Processing...\n",
            "Done!\n",
            "Val Loss: 0.7003, Test Accuracy: 0.815 ± 0.004, Duration: 7.356, Train Loss: 0.1166\n"
          ]
        }
      ],
      "metadata": {
        "colab": {
          "base_uri": "https://localhost:8080/"
        },
        "id": "QSLmj1y8_V-R",
        "outputId": "05127cec-90b1-44d4-b26c-655a8b201ce1"
      }
    },
    {
      "cell_type": "code",
      "execution_count": null,
      "source": [
        "!cd pytorch_geometric/benchmark/citation && python gcn.py --dataset=CiteSeer --epochs=2000"
      ],
      "outputs": [
        {
          "output_type": "stream",
          "name": "stdout",
          "text": [
            "Downloading https://github.com/kimiyoung/planetoid/raw/master/data/ind.citeseer.x\n",
            "Downloading https://github.com/kimiyoung/planetoid/raw/master/data/ind.citeseer.tx\n",
            "Downloading https://github.com/kimiyoung/planetoid/raw/master/data/ind.citeseer.allx\n",
            "Downloading https://github.com/kimiyoung/planetoid/raw/master/data/ind.citeseer.y\n",
            "Downloading https://github.com/kimiyoung/planetoid/raw/master/data/ind.citeseer.ty\n",
            "Downloading https://github.com/kimiyoung/planetoid/raw/master/data/ind.citeseer.ally\n",
            "Downloading https://github.com/kimiyoung/planetoid/raw/master/data/ind.citeseer.graph\n",
            "Downloading https://github.com/kimiyoung/planetoid/raw/master/data/ind.citeseer.test.index\n",
            "Processing...\n",
            "Done!\n",
            "Val Loss: 0.9446, Test Accuracy: 0.713 ± 0.006, Duration: 7.830, Train Loss: 0.1526\n"
          ]
        }
      ],
      "metadata": {
        "colab": {
          "base_uri": "https://localhost:8080/"
        },
        "id": "O2OQz5xSIGrN",
        "outputId": "949a53ff-9c86-4472-bc09-23e74304ce1a"
      }
    },
    {
      "cell_type": "code",
      "execution_count": null,
      "source": [
        "!cd pytorch_geometric/benchmark/citation && python gcn.py --dataset=PubMed --epochs=2000"
      ],
      "outputs": [
        {
          "output_type": "stream",
          "name": "stdout",
          "text": [
            "Downloading https://github.com/kimiyoung/planetoid/raw/master/data/ind.pubmed.x\n",
            "Downloading https://github.com/kimiyoung/planetoid/raw/master/data/ind.pubmed.tx\n",
            "Downloading https://github.com/kimiyoung/planetoid/raw/master/data/ind.pubmed.allx\n",
            "Downloading https://github.com/kimiyoung/planetoid/raw/master/data/ind.pubmed.y\n",
            "Downloading https://github.com/kimiyoung/planetoid/raw/master/data/ind.pubmed.ty\n",
            "Downloading https://github.com/kimiyoung/planetoid/raw/master/data/ind.pubmed.ally\n",
            "Downloading https://github.com/kimiyoung/planetoid/raw/master/data/ind.pubmed.graph\n",
            "Downloading https://github.com/kimiyoung/planetoid/raw/master/data/ind.pubmed.test.index\n",
            "Processing...\n",
            "Done!\n",
            "Val Loss: 0.5411, Test Accuracy: 0.791 ± 0.004, Duration: 7.745, Train Loss: 0.0650\n"
          ]
        }
      ],
      "metadata": {
        "colab": {
          "base_uri": "https://localhost:8080/"
        },
        "id": "tVnKjmd0WfFT",
        "outputId": "945aab63-5cee-47d8-ca58-4f3bf248e7e3"
      }
    },
    {
      "cell_type": "markdown",
      "source": [
        "## Teste com 3000 epochs"
      ],
      "metadata": {
        "id": "sVWWrAz1ja9f"
      }
    },
    {
      "cell_type": "code",
      "execution_count": null,
      "source": [
        "!cd pytorch_geometric/benchmark/citation && python gcn.py --dataset=Cora --epochs=3000"
      ],
      "outputs": [
        {
          "output_type": "stream",
          "name": "stdout",
          "text": [
            "Downloading https://github.com/kimiyoung/planetoid/raw/master/data/ind.cora.x\n",
            "Downloading https://github.com/kimiyoung/planetoid/raw/master/data/ind.cora.tx\n",
            "Downloading https://github.com/kimiyoung/planetoid/raw/master/data/ind.cora.allx\n",
            "Downloading https://github.com/kimiyoung/planetoid/raw/master/data/ind.cora.y\n",
            "Downloading https://github.com/kimiyoung/planetoid/raw/master/data/ind.cora.ty\n",
            "Downloading https://github.com/kimiyoung/planetoid/raw/master/data/ind.cora.ally\n",
            "Downloading https://github.com/kimiyoung/planetoid/raw/master/data/ind.cora.graph\n",
            "Downloading https://github.com/kimiyoung/planetoid/raw/master/data/ind.cora.test.index\n",
            "Processing...\n",
            "Done!\n",
            "Val Loss: 0.6938, Test Accuracy: 0.817 ± 0.004, Duration: 11.172, Train Loss: 0.1127\n"
          ]
        }
      ],
      "metadata": {
        "colab": {
          "base_uri": "https://localhost:8080/"
        },
        "id": "HW05brOgjgLp",
        "outputId": "cf37b168-9920-4b06-e2ab-c537e69bdf62"
      }
    },
    {
      "cell_type": "code",
      "execution_count": null,
      "source": [
        "!cd pytorch_geometric/benchmark/citation && python gcn.py --dataset=CiteSeer --epochs=3000"
      ],
      "outputs": [
        {
          "output_type": "stream",
          "name": "stdout",
          "text": [
            "Downloading https://github.com/kimiyoung/planetoid/raw/master/data/ind.citeseer.x\n",
            "Downloading https://github.com/kimiyoung/planetoid/raw/master/data/ind.citeseer.tx\n",
            "Downloading https://github.com/kimiyoung/planetoid/raw/master/data/ind.citeseer.allx\n",
            "Downloading https://github.com/kimiyoung/planetoid/raw/master/data/ind.citeseer.y\n",
            "Downloading https://github.com/kimiyoung/planetoid/raw/master/data/ind.citeseer.ty\n",
            "Downloading https://github.com/kimiyoung/planetoid/raw/master/data/ind.citeseer.ally\n",
            "Downloading https://github.com/kimiyoung/planetoid/raw/master/data/ind.citeseer.graph\n",
            "Downloading https://github.com/kimiyoung/planetoid/raw/master/data/ind.citeseer.test.index\n",
            "Processing...\n",
            "Done!\n",
            "Val Loss: 0.9319, Test Accuracy: 0.715 ± 0.004, Duration: 11.365, Train Loss: 0.1426\n"
          ]
        }
      ],
      "metadata": {
        "colab": {
          "base_uri": "https://localhost:8080/"
        },
        "id": "QLmXDEmEtZxO",
        "outputId": "3d4badd2-495d-4ba8-ed84-6962cbe7b1bc"
      }
    },
    {
      "cell_type": "code",
      "execution_count": null,
      "source": [
        "!cd pytorch_geometric/benchmark/citation && python gcn.py --dataset=PubMed --epochs=3000"
      ],
      "outputs": [
        {
          "output_type": "stream",
          "name": "stdout",
          "text": [
            "Downloading https://github.com/kimiyoung/planetoid/raw/master/data/ind.pubmed.x\n",
            "Downloading https://github.com/kimiyoung/planetoid/raw/master/data/ind.pubmed.tx\n",
            "Downloading https://github.com/kimiyoung/planetoid/raw/master/data/ind.pubmed.allx\n",
            "Downloading https://github.com/kimiyoung/planetoid/raw/master/data/ind.pubmed.y\n",
            "Downloading https://github.com/kimiyoung/planetoid/raw/master/data/ind.pubmed.ty\n",
            "Downloading https://github.com/kimiyoung/planetoid/raw/master/data/ind.pubmed.ally\n",
            "Downloading https://github.com/kimiyoung/planetoid/raw/master/data/ind.pubmed.graph\n",
            "Downloading https://github.com/kimiyoung/planetoid/raw/master/data/ind.pubmed.test.index\n",
            "Processing...\n",
            "Done!\n",
            "Val Loss: 0.5414, Test Accuracy: 0.791 ± 0.005, Duration: 11.338, Train Loss: 0.0632\n"
          ]
        }
      ],
      "metadata": {
        "colab": {
          "base_uri": "https://localhost:8080/"
        },
        "id": "oOLXpZTdy-Og",
        "outputId": "395d842f-5be3-4645-8170-17bc5ac8f964"
      }
    },
    {
      "cell_type": "markdown",
      "source": [
        "## Teste com 5000 epochs"
      ],
      "metadata": {
        "id": "Qo3VnXRe87__"
      }
    },
    {
      "cell_type": "code",
      "execution_count": null,
      "source": [
        "!cd pytorch_geometric/benchmark/citation && python gcn.py --dataset=Cora --epochs=5000"
      ],
      "outputs": [
        {
          "output_type": "stream",
          "name": "stdout",
          "text": [
            "Downloading https://github.com/kimiyoung/planetoid/raw/master/data/ind.cora.x\n",
            "Downloading https://github.com/kimiyoung/planetoid/raw/master/data/ind.cora.tx\n",
            "Downloading https://github.com/kimiyoung/planetoid/raw/master/data/ind.cora.allx\n",
            "Downloading https://github.com/kimiyoung/planetoid/raw/master/data/ind.cora.y\n",
            "Downloading https://github.com/kimiyoung/planetoid/raw/master/data/ind.cora.ty\n",
            "Downloading https://github.com/kimiyoung/planetoid/raw/master/data/ind.cora.ally\n",
            "Downloading https://github.com/kimiyoung/planetoid/raw/master/data/ind.cora.graph\n",
            "Downloading https://github.com/kimiyoung/planetoid/raw/master/data/ind.cora.test.index\n",
            "Processing...\n",
            "Done!\n",
            "Val Loss: 0.6914, Test Accuracy: 0.818 ± 0.003, Duration: 16.815, Train Loss: 0.1118\n"
          ]
        }
      ],
      "metadata": {
        "colab": {
          "base_uri": "https://localhost:8080/"
        },
        "id": "qdBNOFmD9B0d",
        "outputId": "888ba535-cfeb-4d48-bbc1-3fcb523a6ddc"
      }
    },
    {
      "cell_type": "code",
      "execution_count": null,
      "source": [
        "!cd pytorch_geometric/benchmark/citation && python gcn.py --dataset=CiteSeer --epochs=5000"
      ],
      "outputs": [
        {
          "output_type": "stream",
          "name": "stdout",
          "text": [
            "Downloading https://github.com/kimiyoung/planetoid/raw/master/data/ind.citeseer.x\n",
            "Downloading https://github.com/kimiyoung/planetoid/raw/master/data/ind.citeseer.tx\n",
            "Downloading https://github.com/kimiyoung/planetoid/raw/master/data/ind.citeseer.allx\n",
            "Downloading https://github.com/kimiyoung/planetoid/raw/master/data/ind.citeseer.y\n",
            "Downloading https://github.com/kimiyoung/planetoid/raw/master/data/ind.citeseer.ty\n",
            "Downloading https://github.com/kimiyoung/planetoid/raw/master/data/ind.citeseer.ally\n",
            "Downloading https://github.com/kimiyoung/planetoid/raw/master/data/ind.citeseer.graph\n",
            "Downloading https://github.com/kimiyoung/planetoid/raw/master/data/ind.citeseer.test.index\n",
            "Processing...\n",
            "Done!\n",
            "Val Loss: 0.9298, Test Accuracy: 0.715 ± 0.004, Duration: 17.525, Train Loss: 0.1412\n"
          ]
        }
      ],
      "metadata": {
        "colab": {
          "base_uri": "https://localhost:8080/"
        },
        "id": "61FRZFMuZUkr",
        "outputId": "01f38731-b4cc-4a52-9ba5-2a0d0fc569d4"
      }
    },
    {
      "cell_type": "code",
      "execution_count": null,
      "source": [
        "!cd pytorch_geometric/benchmark/citation && python gcn.py --dataset=PubMed --epochs=5000"
      ],
      "outputs": [
        {
          "output_type": "stream",
          "name": "stdout",
          "text": [
            "Downloading https://github.com/kimiyoung/planetoid/raw/master/data/ind.pubmed.x\n",
            "Downloading https://github.com/kimiyoung/planetoid/raw/master/data/ind.pubmed.tx\n",
            "Downloading https://github.com/kimiyoung/planetoid/raw/master/data/ind.pubmed.allx\n",
            "Downloading https://github.com/kimiyoung/planetoid/raw/master/data/ind.pubmed.y\n",
            "Downloading https://github.com/kimiyoung/planetoid/raw/master/data/ind.pubmed.ty\n",
            "Downloading https://github.com/kimiyoung/planetoid/raw/master/data/ind.pubmed.ally\n",
            "Downloading https://github.com/kimiyoung/planetoid/raw/master/data/ind.pubmed.graph\n",
            "Downloading https://github.com/kimiyoung/planetoid/raw/master/data/ind.pubmed.test.index\n",
            "Processing...\n",
            "Done!\n",
            "Val Loss: 0.5409, Test Accuracy: 0.790 ± 0.004, Duration: 20.445, Train Loss: 0.0589\n"
          ]
        }
      ],
      "metadata": {
        "colab": {
          "base_uri": "https://localhost:8080/"
        },
        "id": "iD6PBpfwuNvl",
        "outputId": "371fa9e1-5754-4eb7-ca4f-a1e53ab2677c"
      }
    },
    {
      "cell_type": "markdown",
      "source": [
        "## Teste com 10000 epochs"
      ],
      "metadata": {
        "id": "0mEFUb8P2JON"
      }
    },
    {
      "cell_type": "code",
      "execution_count": null,
      "source": [
        "!cd pytorch_geometric/benchmark/citation && python gcn.py --dataset=Cora --epochs=10000"
      ],
      "outputs": [
        {
          "output_type": "stream",
          "name": "stdout",
          "text": [
            "Downloading https://github.com/kimiyoung/planetoid/raw/master/data/ind.cora.x\n",
            "Downloading https://github.com/kimiyoung/planetoid/raw/master/data/ind.cora.tx\n",
            "Downloading https://github.com/kimiyoung/planetoid/raw/master/data/ind.cora.allx\n",
            "Downloading https://github.com/kimiyoung/planetoid/raw/master/data/ind.cora.y\n",
            "Downloading https://github.com/kimiyoung/planetoid/raw/master/data/ind.cora.ty\n",
            "Downloading https://github.com/kimiyoung/planetoid/raw/master/data/ind.cora.ally\n",
            "Downloading https://github.com/kimiyoung/planetoid/raw/master/data/ind.cora.graph\n",
            "Downloading https://github.com/kimiyoung/planetoid/raw/master/data/ind.cora.test.index\n",
            "Processing...\n",
            "Done!\n",
            "Val Loss: 0.6889, Test Accuracy: 0.819 ± 0.003, Duration: 37.274, Train Loss: 0.1114\n"
          ]
        }
      ],
      "metadata": {
        "colab": {
          "base_uri": "https://localhost:8080/"
        },
        "id": "h8ALNxRF2TmJ",
        "outputId": "672306b0-0656-4d68-a301-24f927227b5a"
      }
    },
    {
      "cell_type": "code",
      "execution_count": null,
      "source": [
        "!cd pytorch_geometric/benchmark/citation && python gcn.py --dataset=CiteSeer --epochs=10000"
      ],
      "outputs": [
        {
          "output_type": "stream",
          "name": "stdout",
          "text": [
            "Downloading https://github.com/kimiyoung/planetoid/raw/master/data/ind.citeseer.x\n",
            "Downloading https://github.com/kimiyoung/planetoid/raw/master/data/ind.citeseer.tx\n",
            "Downloading https://github.com/kimiyoung/planetoid/raw/master/data/ind.citeseer.allx\n",
            "Downloading https://github.com/kimiyoung/planetoid/raw/master/data/ind.citeseer.y\n",
            "Downloading https://github.com/kimiyoung/planetoid/raw/master/data/ind.citeseer.ty\n",
            "Downloading https://github.com/kimiyoung/planetoid/raw/master/data/ind.citeseer.ally\n",
            "Downloading https://github.com/kimiyoung/planetoid/raw/master/data/ind.citeseer.graph\n",
            "Downloading https://github.com/kimiyoung/planetoid/raw/master/data/ind.citeseer.test.index\n",
            "Processing...\n",
            "Done!\n",
            "Val Loss: 0.9275, Test Accuracy: 0.717 ± 0.003, Duration: 37.392, Train Loss: 0.1408\n"
          ]
        }
      ],
      "metadata": {
        "colab": {
          "base_uri": "https://localhost:8080/"
        },
        "id": "EFUdaDZZKEjj",
        "outputId": "ca1c8f2a-af96-4e37-b4d8-9f6bd93af32e"
      }
    },
    {
      "cell_type": "code",
      "execution_count": null,
      "source": [
        "!cd pytorch_geometric/benchmark/citation && python gcn.py --dataset=PubMed --epochs=10000"
      ],
      "outputs": [
        {
          "output_type": "stream",
          "name": "stdout",
          "text": [
            "Downloading https://github.com/kimiyoung/planetoid/raw/master/data/ind.pubmed.x\n",
            "Downloading https://github.com/kimiyoung/planetoid/raw/master/data/ind.pubmed.tx\n",
            "Downloading https://github.com/kimiyoung/planetoid/raw/master/data/ind.pubmed.allx\n",
            "Downloading https://github.com/kimiyoung/planetoid/raw/master/data/ind.pubmed.y\n",
            "Downloading https://github.com/kimiyoung/planetoid/raw/master/data/ind.pubmed.ty\n",
            "Downloading https://github.com/kimiyoung/planetoid/raw/master/data/ind.pubmed.ally\n",
            "Downloading https://github.com/kimiyoung/planetoid/raw/master/data/ind.pubmed.graph\n",
            "Downloading https://github.com/kimiyoung/planetoid/raw/master/data/ind.pubmed.test.index\n",
            "Processing...\n",
            "Done!\n",
            "Val Loss: 0.5388, Test Accuracy: 0.791 ± 0.004, Duration: 38.210, Train Loss: 0.0563\n"
          ]
        }
      ],
      "metadata": {
        "colab": {
          "base_uri": "https://localhost:8080/"
        },
        "id": "BcaENKFuKaNs",
        "outputId": "1b201f06-9d13-4366-d187-41f5ef133f11"
      }
    },
    {
      "cell_type": "markdown",
      "source": [
        "## Teste com 0.6 dropout rate"
      ],
      "metadata": {
        "id": "n1MO6iYhgsFw"
      }
    },
    {
      "cell_type": "code",
      "execution_count": null,
      "source": [
        "!cd pytorch_geometric/benchmark/citation && python gcn.py --dataset=Cora --dropout=0.6"
      ],
      "outputs": [
        {
          "output_type": "stream",
          "name": "stdout",
          "text": [
            "Val Loss: 0.8892, Test Accuracy: 0.814 ± 0.006, Duration: 0.847, Train Loss: 0.3312\n"
          ]
        }
      ],
      "metadata": {
        "colab": {
          "base_uri": "https://localhost:8080/"
        },
        "id": "7_GyILwaguIB",
        "outputId": "85a164c5-abf4-4240-f390-25183d1233f3"
      }
    },
    {
      "cell_type": "code",
      "execution_count": null,
      "source": [
        "!cd pytorch_geometric/benchmark/citation && python gcn.py --dataset=CiteSeer --dropout=0.6"
      ],
      "outputs": [
        {
          "output_type": "stream",
          "name": "stdout",
          "text": [
            "Val Loss: 1.1183, Test Accuracy: 0.710 ± 0.008, Duration: 0.981, Train Loss: 0.4361\n"
          ]
        }
      ],
      "metadata": {
        "colab": {
          "base_uri": "https://localhost:8080/"
        },
        "id": "U70_deMXguUA",
        "outputId": "7e3fd012-dd33-481c-f22f-e6ef2d768f18"
      }
    },
    {
      "cell_type": "code",
      "execution_count": null,
      "source": [
        "!cd pytorch_geometric/benchmark/citation && python gcn.py --dataset=PubMed --dropout=0.6"
      ],
      "outputs": [
        {
          "output_type": "stream",
          "name": "stdout",
          "text": [
            "Val Loss: 0.5993, Test Accuracy: 0.787 ± 0.006, Duration: 0.708, Train Loss: 0.2085\n"
          ]
        }
      ],
      "metadata": {
        "colab": {
          "base_uri": "https://localhost:8080/"
        },
        "id": "gDwMhWRVgukh",
        "outputId": "4cf50d4d-46cf-4111-ad07-503e63fb6e57"
      }
    },
    {
      "cell_type": "markdown",
      "source": [
        "## Teste com 0.7 dropout rate\n"
      ],
      "metadata": {
        "id": "MpmPg1H2YedJ"
      }
    },
    {
      "cell_type": "code",
      "execution_count": null,
      "source": [
        "!cd pytorch_geometric/benchmark/citation && python gcn.py --dataset=Cora --dropout=0.7"
      ],
      "outputs": [
        {
          "output_type": "stream",
          "name": "stdout",
          "text": [
            "Val Loss: 0.9162, Test Accuracy: 0.816 ± 0.007, Duration: 1.133, Train Loss: 0.3644\n"
          ]
        }
      ],
      "metadata": {
        "colab": {
          "base_uri": "https://localhost:8080/"
        },
        "id": "aD2gUgCmYi1k",
        "outputId": "fb711b04-ff3d-4a63-d8c5-b284265cc130"
      }
    },
    {
      "cell_type": "code",
      "execution_count": null,
      "source": [
        "!cd pytorch_geometric/benchmark/citation && python gcn.py --dataset=CiteSeer --dropout=0.7"
      ],
      "outputs": [
        {
          "output_type": "stream",
          "name": "stdout",
          "text": [
            "Val Loss: 1.1484, Test Accuracy: 0.708 ± 0.009, Duration: 1.344, Train Loss: 0.4945\n"
          ]
        }
      ],
      "metadata": {
        "colab": {
          "base_uri": "https://localhost:8080/"
        },
        "id": "QM6YJ-3VbmuG",
        "outputId": "74f7f67a-7403-429d-c929-9e2eeed542fb"
      }
    },
    {
      "cell_type": "code",
      "execution_count": null,
      "source": [
        "!cd pytorch_geometric/benchmark/citation && python gcn.py --dataset=PubMed --dropout=0.7"
      ],
      "outputs": [
        {
          "output_type": "stream",
          "name": "stdout",
          "text": [
            "Val Loss: 0.6089, Test Accuracy: 0.786 ± 0.007, Duration: 0.929, Train Loss: 0.2258\n"
          ]
        }
      ],
      "metadata": {
        "colab": {
          "base_uri": "https://localhost:8080/"
        },
        "id": "pKs9y8MZcyXC",
        "outputId": "e3788479-95d2-4db9-8401-07b3f6b2b034"
      }
    },
    {
      "cell_type": "markdown",
      "source": [
        "## Teste com 0.8 dropout rate"
      ],
      "metadata": {
        "id": "OMvGWxzkdxab"
      }
    },
    {
      "cell_type": "code",
      "execution_count": null,
      "source": [
        "!cd pytorch_geometric/benchmark/citation && python gcn.py --dataset=Cora --dropout=0.8"
      ],
      "outputs": [
        {
          "output_type": "stream",
          "name": "stdout",
          "text": [
            "Val Loss: 0.9686, Test Accuracy: 0.817 ± 0.007, Duration: 1.230, Train Loss: 0.4391\n"
          ]
        }
      ],
      "metadata": {
        "colab": {
          "base_uri": "https://localhost:8080/"
        },
        "id": "s3ZX8EWMd1Qs",
        "outputId": "957df703-5934-45b7-af63-b9f8b26a3bf8"
      }
    },
    {
      "cell_type": "code",
      "execution_count": null,
      "source": [
        "!cd pytorch_geometric/benchmark/citation && python gcn.py --dataset=CiteSeer --dropout=0.8"
      ],
      "outputs": [
        {
          "output_type": "stream",
          "name": "stdout",
          "text": [
            "Downloading https://github.com/kimiyoung/planetoid/raw/master/data/ind.citeseer.x\n",
            "Downloading https://github.com/kimiyoung/planetoid/raw/master/data/ind.citeseer.tx\n",
            "Downloading https://github.com/kimiyoung/planetoid/raw/master/data/ind.citeseer.allx\n",
            "Downloading https://github.com/kimiyoung/planetoid/raw/master/data/ind.citeseer.y\n",
            "Downloading https://github.com/kimiyoung/planetoid/raw/master/data/ind.citeseer.ty\n",
            "Downloading https://github.com/kimiyoung/planetoid/raw/master/data/ind.citeseer.ally\n",
            "Downloading https://github.com/kimiyoung/planetoid/raw/master/data/ind.citeseer.graph\n",
            "Downloading https://github.com/kimiyoung/planetoid/raw/master/data/ind.citeseer.test.index\n",
            "Processing...\n",
            "Done!\n",
            "Val Loss: 1.2109, Test Accuracy: 0.705 ± 0.009, Duration: 1.426, Train Loss: 0.6208\n"
          ]
        }
      ],
      "metadata": {
        "colab": {
          "base_uri": "https://localhost:8080/"
        },
        "id": "GD8UA-mVescF",
        "outputId": "9e8221cf-2380-4437-cd58-7d20723242f7"
      }
    },
    {
      "cell_type": "code",
      "execution_count": null,
      "source": [
        "!cd pytorch_geometric/benchmark/citation && python gcn.py --dataset=PubMed --dropout=0.8"
      ],
      "outputs": [
        {
          "output_type": "stream",
          "name": "stdout",
          "text": [
            "Downloading https://github.com/kimiyoung/planetoid/raw/master/data/ind.pubmed.x\n",
            "Downloading https://github.com/kimiyoung/planetoid/raw/master/data/ind.pubmed.tx\n",
            "Downloading https://github.com/kimiyoung/planetoid/raw/master/data/ind.pubmed.allx\n",
            "Downloading https://github.com/kimiyoung/planetoid/raw/master/data/ind.pubmed.y\n",
            "Downloading https://github.com/kimiyoung/planetoid/raw/master/data/ind.pubmed.ty\n",
            "Downloading https://github.com/kimiyoung/planetoid/raw/master/data/ind.pubmed.ally\n",
            "Downloading https://github.com/kimiyoung/planetoid/raw/master/data/ind.pubmed.graph\n",
            "Downloading https://github.com/kimiyoung/planetoid/raw/master/data/ind.pubmed.test.index\n",
            "Processing...\n",
            "Done!\n",
            "Val Loss: 0.6298, Test Accuracy: 0.783 ± 0.007, Duration: 0.972, Train Loss: 0.2666\n"
          ]
        }
      ],
      "metadata": {
        "colab": {
          "base_uri": "https://localhost:8080/"
        },
        "id": "nSOIBS3CgAJT",
        "outputId": "57ba2fb4-f771-44c0-bc58-d34e6e9b918a"
      }
    },
    {
      "cell_type": "markdown",
      "source": [
        "## Teste com 0.9 dropout rate"
      ],
      "metadata": {
        "id": "-RXCeJ_ZamWr"
      }
    },
    {
      "cell_type": "code",
      "execution_count": null,
      "source": [
        "!cd pytorch_geometric/benchmark/citation && python gcn.py --dataset=Cora --dropout=0.9"
      ],
      "outputs": [
        {
          "output_type": "stream",
          "name": "stdout",
          "text": [
            "Downloading https://github.com/kimiyoung/planetoid/raw/master/data/ind.cora.x\n",
            "Downloading https://github.com/kimiyoung/planetoid/raw/master/data/ind.cora.tx\n",
            "Downloading https://github.com/kimiyoung/planetoid/raw/master/data/ind.cora.allx\n",
            "Downloading https://github.com/kimiyoung/planetoid/raw/master/data/ind.cora.y\n",
            "Downloading https://github.com/kimiyoung/planetoid/raw/master/data/ind.cora.ty\n",
            "Downloading https://github.com/kimiyoung/planetoid/raw/master/data/ind.cora.ally\n",
            "Downloading https://github.com/kimiyoung/planetoid/raw/master/data/ind.cora.graph\n",
            "Downloading https://github.com/kimiyoung/planetoid/raw/master/data/ind.cora.test.index\n",
            "Processing...\n",
            "Done!\n",
            "Val Loss: 1.1705, Test Accuracy: 0.815 ± 0.011, Duration: 0.923, Train Loss: 0.7297\n"
          ]
        }
      ],
      "metadata": {
        "colab": {
          "base_uri": "https://localhost:8080/"
        },
        "id": "ZtPrEP1Tau0p",
        "outputId": "4c79f83a-cdd0-4649-9355-e5000c5d3280"
      }
    },
    {
      "cell_type": "code",
      "execution_count": null,
      "source": [
        "!cd pytorch_geometric/benchmark/citation && python gcn.py --dataset=CiteSeer --dropout=0.9"
      ],
      "outputs": [
        {
          "output_type": "stream",
          "name": "stdout",
          "text": [
            "Downloading https://github.com/kimiyoung/planetoid/raw/master/data/ind.citeseer.x\n",
            "Downloading https://github.com/kimiyoung/planetoid/raw/master/data/ind.citeseer.tx\n",
            "Downloading https://github.com/kimiyoung/planetoid/raw/master/data/ind.citeseer.allx\n",
            "Downloading https://github.com/kimiyoung/planetoid/raw/master/data/ind.citeseer.y\n",
            "Downloading https://github.com/kimiyoung/planetoid/raw/master/data/ind.citeseer.ty\n",
            "Downloading https://github.com/kimiyoung/planetoid/raw/master/data/ind.citeseer.ally\n",
            "Downloading https://github.com/kimiyoung/planetoid/raw/master/data/ind.citeseer.graph\n",
            "Downloading https://github.com/kimiyoung/planetoid/raw/master/data/ind.citeseer.test.index\n",
            "Processing...\n",
            "Done!\n",
            "Val Loss: 1.4045, Test Accuracy: 0.698 ± 0.017, Duration: 0.933, Train Loss: 1.0100\n"
          ]
        }
      ],
      "metadata": {
        "colab": {
          "base_uri": "https://localhost:8080/"
        },
        "id": "gn409EvLjzfL",
        "outputId": "0ff373be-b275-4e84-f2af-069e916bb5e2"
      }
    },
    {
      "cell_type": "code",
      "execution_count": null,
      "source": [
        "!cd pytorch_geometric/benchmark/citation && python gcn.py --dataset=PubMed --dropout=0.9"
      ],
      "outputs": [
        {
          "output_type": "stream",
          "name": "stdout",
          "text": [
            "Downloading https://github.com/kimiyoung/planetoid/raw/master/data/ind.pubmed.x\n",
            "Downloading https://github.com/kimiyoung/planetoid/raw/master/data/ind.pubmed.tx\n",
            "Downloading https://github.com/kimiyoung/planetoid/raw/master/data/ind.pubmed.allx\n",
            "Downloading https://github.com/kimiyoung/planetoid/raw/master/data/ind.pubmed.y\n",
            "Downloading https://github.com/kimiyoung/planetoid/raw/master/data/ind.pubmed.ty\n",
            "Downloading https://github.com/kimiyoung/planetoid/raw/master/data/ind.pubmed.ally\n",
            "Downloading https://github.com/kimiyoung/planetoid/raw/master/data/ind.pubmed.graph\n",
            "Downloading https://github.com/kimiyoung/planetoid/raw/master/data/ind.pubmed.test.index\n",
            "Processing...\n",
            "Done!\n",
            "Val Loss: 0.6896, Test Accuracy: 0.776 ± 0.011, Duration: 0.770, Train Loss: 0.3768\n"
          ]
        }
      ],
      "metadata": {
        "colab": {
          "base_uri": "https://localhost:8080/"
        },
        "id": "cfco7wFimTKd",
        "outputId": "4e06c4be-b7c4-467a-f0f5-50383ae0fa97"
      }
    }
  ]
}